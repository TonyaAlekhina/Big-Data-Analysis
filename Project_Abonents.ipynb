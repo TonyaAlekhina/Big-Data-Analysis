{
  "cells": [
    {
      "cell_type": "markdown",
      "metadata": {
        "id": "view-in-github",
        "colab_type": "text"
      },
      "source": [
        "<a href=\"https://colab.research.google.com/github/TonyaAlekhina/Big-Data-Analysis/blob/main/Project_Abonents.ipynb\" target=\"_parent\"><img src=\"https://colab.research.google.com/assets/colab-badge.svg\" alt=\"Open In Colab\"/></a>"
      ]
    },
    {
      "cell_type": "markdown",
      "id": "1008b59f",
      "metadata": {
        "id": "1008b59f"
      },
      "source": [
        "# Исследования пользователей оператора сотовой связи\n",
        "Вы аналитик оператора сотовой связи. Клиентам предлагают два тарифных плана: «Смарт» и «Ультра». Чтобы скорректировать рекламный бюджет, коммерческий департамент хочет понять, какой тариф приносит больше денег.\n",
        "Вам предстоит сделать предварительный анализ тарифов на небольшой выборке клиентов. В вашем распоряжении данные 500 пользователей за 2018 год. Нужно проанализировать поведение клиентов и сделать вывод — какой тариф лучше.\n",
        "\n",
        "Описание тарифов\n",
        "\n",
        "Тариф «Смарт»\n",
        "\n",
        "1.\tЕжемесячная плата: 550 рублей\n",
        "\n",
        "2.\tВключено 500 минут разговора, 50 сообщений и 15 Гб интернет-трафика\n",
        "\n",
        "3.\tСтоимость услуг сверх тарифного пакета:\n",
        "\n",
        "o\tминута разговора: 3 рубля\n",
        "\n",
        "o\tсообщение: 3 рубля\n",
        "\n",
        "o\t1 Гб интернет-трафика: 200 рублей\n",
        "\n",
        "Тариф «Ультра»\n",
        "\n",
        "1.\tЕжемесячная плата: 1950 рублей\n",
        "\n",
        "2.\tВключено 3000 минут разговора, 1000 сообщений и 30 Гб интернет-трафика\n",
        "\n",
        "3.\tСтоимость услуг сверх тарифного пакета:\n",
        "\n",
        "o\tминута разговора: 1 рубль\n",
        "\n",
        "o\tсообщение: 1 рубль\n",
        "\n",
        "o\t1 Гб интернет-трафика: 150 рублей\n",
        "\n",
        "Примечание:\n",
        "\n",
        "Оператор всегда округляет секунды до минут, а мегабайты — до гигабайт. Каждый звонок округляется отдельно: даже если он длился всего 1 секунду, будет засчитан как 1 минута.\n",
        "Для веб-трафика отдельные сессии не считаются. Вместо этого общая сумма за месяц округляется в бо́льшую сторону. Если абонент использует 1025 мегабайт в этом месяце, с него возьмут плату за 2 гигабайта."
      ]
    },
    {
      "cell_type": "markdown",
      "source": [
        "## Описание данных\n",
        "\n",
        "Таблица users (информация о пользователях):\n",
        "\n",
        "  *\tuser_id — уникальный идентификатор пользователя\n",
        "\n",
        "  *\tfirst_name — имя пользователя\n",
        "\n",
        "  *\tlast_name — фамилия пользователя\n",
        "\n",
        "  *\tage — возраст пользователя (годы)\n",
        "\n",
        "  *\treg_date — дата подключения тарифа (день, месяц, год)\n",
        "\n",
        "  *\tchurn_date — дата прекращения пользования тарифом (если значение пропущено, то тариф ещё действовал на момент выгрузки данных)\n",
        "  *\tcity — город проживания пользователя\n",
        "\n",
        "  *\ttarif — название тарифного плана\n",
        "\n",
        "Таблица calls (информация о звонках):\n",
        "\n",
        "  *\tid — уникальный номер звонка\n",
        "\n",
        "  *\tcall_date — дата звонка\n",
        "\n",
        "  *\tduration — длительность звонка в минутах\n",
        "\n",
        "  *\tuser_id — идентификатор пользователя, сделавшего звонок\n",
        "\n",
        "\n",
        "Таблица messages (информация о сообщениях):\n",
        "\n",
        "  *\tid — уникальный номер сообщения\n",
        "  \n",
        "  *\tmessage_date — дата сообщения\n",
        "  \n",
        "  *\tuser_id — идентификатор пользователя, отправившего сообщение\n",
        "\n",
        "\n",
        "Таблица internet (информация об интернет-сессиях):\n",
        "\n",
        "  *\tid — уникальный номер сессии\n",
        "\n",
        "  *\tmb_used — объём потраченного за сессию интернет-трафика (в мегабайтах)\n",
        "\n",
        "  *\tsession_date — дата интернет-сессии\n",
        "\n",
        "  *\tuser_id — идентификатор пользователя\n",
        "\n",
        "\n",
        "Таблица tariffs (информация о тарифах):\n",
        "  \n",
        "  *\ttariff_name — название тарифа\n",
        "  \n",
        "  *\trub_monthly_fee — ежемесячная абонентская плата в рублях\n",
        "  \n",
        "  *\tminutes_included — количество минут разговора в месяц, включённых в абонентскую плату\n",
        "\n",
        "  *\tmessages_included — количество сообщений в месяц, включённых в абонентскую плату\n",
        "\n",
        "  *\tmb_per_month_included — объём интернет-трафика, включённого в абонентскую плату (в мегабайтах)\n",
        "\n",
        "  *\trub_per_minute — стоимость минуты разговора сверх тарифного пакета (например, если в тарифе 100 минут разговора в месяц, то со 101 минуты будет взиматься плата)\n",
        "\n",
        "  *\trub_per_message — стоимость отправки сообщения сверх тарифного пакета\n",
        "\n",
        "  *\trub_per_gb — стоимость дополнительного гигабайта интернет-трафика сверх тарифного пакета (1 гигабайт = 1024 мегабайта)"
      ],
      "metadata": {
        "id": "u6phVohjucXe"
      },
      "id": "u6phVohjucXe"
    },
    {
      "cell_type": "markdown",
      "id": "8dcd9fef",
      "metadata": {
        "id": "8dcd9fef"
      },
      "source": [
        "# Шаг 1. Откройте файлы с данными и изучите общую информацию"
      ]
    },
    {
      "cell_type": "code",
      "execution_count": null,
      "id": "3ca6f005",
      "metadata": {
        "id": "3ca6f005"
      },
      "outputs": [],
      "source": [
        "import numpy as np\n",
        "import pandas as pd\n",
        "import math\n",
        "import matplotlib.pyplot as plt\n",
        "import seaborn as sns\n",
        "from scipy import stats as st"
      ]
    },
    {
      "cell_type": "markdown",
      "source": [
        "Загрузите файлы 'users.csv',  'tariffs.csv', 'calls.csv', 'internet.csv', 'messages.csv'"
      ],
      "metadata": {
        "id": "Nt2uMdJZcNe7"
      },
      "id": "Nt2uMdJZcNe7"
    },
    {
      "cell_type": "code",
      "source": [
        "from google.colab import drive\n",
        "drive.mount('/content/drive')\n",
        "users = pd.read_csv('/content/drive/My Drive/Big_data_6sem/семинар 5/users.csv', sep=\",\")\n",
        "tariffs = pd.read_csv('/content/drive/My Drive/Big_data_6sem/семинар 5/tariffs.csv', sep=\",\")\n",
        "calls = pd.read_csv('/content/drive/My Drive/Big_data_6sem/семинар 5/calls.csv', sep=\",\")\n",
        "internet = pd.read_csv('/content/drive/My Drive/Big_data_6sem/семинар 5/internet.csv', sep=\",\", index_col=0)\n",
        "messages = pd.read_csv('/content/drive/My Drive/Big_data_6sem/семинар 5/messages.csv', sep=\",\")\n"
      ],
      "metadata": {
        "colab": {
          "base_uri": "https://localhost:8080/"
        },
        "id": "n4ENVSEScOlF",
        "outputId": "e7aa9be1-bd86-435c-856c-7b054434398c"
      },
      "id": "n4ENVSEScOlF",
      "execution_count": null,
      "outputs": [
        {
          "output_type": "stream",
          "name": "stdout",
          "text": [
            "Mounted at /content/drive\n"
          ]
        }
      ]
    },
    {
      "cell_type": "code",
      "source": [
        "users.head()"
      ],
      "metadata": {
        "colab": {
          "base_uri": "https://localhost:8080/",
          "height": 206
        },
        "id": "0jpN292wlHRV",
        "outputId": "b91d4ef1-26de-40ad-f2d7-d9ee2df925c5"
      },
      "id": "0jpN292wlHRV",
      "execution_count": null,
      "outputs": [
        {
          "output_type": "execute_result",
          "data": {
            "text/plain": [
              "   user_id  age churn_date         city first_name  last_name    reg_date  \\\n",
              "0     1000   52        NaN    Краснодар     Рафаил  Верещагин  2018-05-25   \n",
              "1     1001   41        NaN       Москва       Иван       Ежов  2018-11-01   \n",
              "2     1002   59        NaN  Стерлитамак    Евгений  Абрамович  2018-06-17   \n",
              "3     1003   23        NaN       Москва      Белла   Белякова  2018-08-17   \n",
              "4     1004   68        NaN  Новокузнецк    Татьяна   Авдеенко  2018-05-14   \n",
              "\n",
              "  tariff  \n",
              "0  ultra  \n",
              "1  smart  \n",
              "2  smart  \n",
              "3  ultra  \n",
              "4  ultra  "
            ],
            "text/html": [
              "\n",
              "  <div id=\"df-b37e6253-7fa9-4c14-9ead-8b531f0a525d\">\n",
              "    <div class=\"colab-df-container\">\n",
              "      <div>\n",
              "<style scoped>\n",
              "    .dataframe tbody tr th:only-of-type {\n",
              "        vertical-align: middle;\n",
              "    }\n",
              "\n",
              "    .dataframe tbody tr th {\n",
              "        vertical-align: top;\n",
              "    }\n",
              "\n",
              "    .dataframe thead th {\n",
              "        text-align: right;\n",
              "    }\n",
              "</style>\n",
              "<table border=\"1\" class=\"dataframe\">\n",
              "  <thead>\n",
              "    <tr style=\"text-align: right;\">\n",
              "      <th></th>\n",
              "      <th>user_id</th>\n",
              "      <th>age</th>\n",
              "      <th>churn_date</th>\n",
              "      <th>city</th>\n",
              "      <th>first_name</th>\n",
              "      <th>last_name</th>\n",
              "      <th>reg_date</th>\n",
              "      <th>tariff</th>\n",
              "    </tr>\n",
              "  </thead>\n",
              "  <tbody>\n",
              "    <tr>\n",
              "      <th>0</th>\n",
              "      <td>1000</td>\n",
              "      <td>52</td>\n",
              "      <td>NaN</td>\n",
              "      <td>Краснодар</td>\n",
              "      <td>Рафаил</td>\n",
              "      <td>Верещагин</td>\n",
              "      <td>2018-05-25</td>\n",
              "      <td>ultra</td>\n",
              "    </tr>\n",
              "    <tr>\n",
              "      <th>1</th>\n",
              "      <td>1001</td>\n",
              "      <td>41</td>\n",
              "      <td>NaN</td>\n",
              "      <td>Москва</td>\n",
              "      <td>Иван</td>\n",
              "      <td>Ежов</td>\n",
              "      <td>2018-11-01</td>\n",
              "      <td>smart</td>\n",
              "    </tr>\n",
              "    <tr>\n",
              "      <th>2</th>\n",
              "      <td>1002</td>\n",
              "      <td>59</td>\n",
              "      <td>NaN</td>\n",
              "      <td>Стерлитамак</td>\n",
              "      <td>Евгений</td>\n",
              "      <td>Абрамович</td>\n",
              "      <td>2018-06-17</td>\n",
              "      <td>smart</td>\n",
              "    </tr>\n",
              "    <tr>\n",
              "      <th>3</th>\n",
              "      <td>1003</td>\n",
              "      <td>23</td>\n",
              "      <td>NaN</td>\n",
              "      <td>Москва</td>\n",
              "      <td>Белла</td>\n",
              "      <td>Белякова</td>\n",
              "      <td>2018-08-17</td>\n",
              "      <td>ultra</td>\n",
              "    </tr>\n",
              "    <tr>\n",
              "      <th>4</th>\n",
              "      <td>1004</td>\n",
              "      <td>68</td>\n",
              "      <td>NaN</td>\n",
              "      <td>Новокузнецк</td>\n",
              "      <td>Татьяна</td>\n",
              "      <td>Авдеенко</td>\n",
              "      <td>2018-05-14</td>\n",
              "      <td>ultra</td>\n",
              "    </tr>\n",
              "  </tbody>\n",
              "</table>\n",
              "</div>\n",
              "      <button class=\"colab-df-convert\" onclick=\"convertToInteractive('df-b37e6253-7fa9-4c14-9ead-8b531f0a525d')\"\n",
              "              title=\"Convert this dataframe to an interactive table.\"\n",
              "              style=\"display:none;\">\n",
              "        \n",
              "  <svg xmlns=\"http://www.w3.org/2000/svg\" height=\"24px\"viewBox=\"0 0 24 24\"\n",
              "       width=\"24px\">\n",
              "    <path d=\"M0 0h24v24H0V0z\" fill=\"none\"/>\n",
              "    <path d=\"M18.56 5.44l.94 2.06.94-2.06 2.06-.94-2.06-.94-.94-2.06-.94 2.06-2.06.94zm-11 1L8.5 8.5l.94-2.06 2.06-.94-2.06-.94L8.5 2.5l-.94 2.06-2.06.94zm10 10l.94 2.06.94-2.06 2.06-.94-2.06-.94-.94-2.06-.94 2.06-2.06.94z\"/><path d=\"M17.41 7.96l-1.37-1.37c-.4-.4-.92-.59-1.43-.59-.52 0-1.04.2-1.43.59L10.3 9.45l-7.72 7.72c-.78.78-.78 2.05 0 2.83L4 21.41c.39.39.9.59 1.41.59.51 0 1.02-.2 1.41-.59l7.78-7.78 2.81-2.81c.8-.78.8-2.07 0-2.86zM5.41 20L4 18.59l7.72-7.72 1.47 1.35L5.41 20z\"/>\n",
              "  </svg>\n",
              "      </button>\n",
              "      \n",
              "  <style>\n",
              "    .colab-df-container {\n",
              "      display:flex;\n",
              "      flex-wrap:wrap;\n",
              "      gap: 12px;\n",
              "    }\n",
              "\n",
              "    .colab-df-convert {\n",
              "      background-color: #E8F0FE;\n",
              "      border: none;\n",
              "      border-radius: 50%;\n",
              "      cursor: pointer;\n",
              "      display: none;\n",
              "      fill: #1967D2;\n",
              "      height: 32px;\n",
              "      padding: 0 0 0 0;\n",
              "      width: 32px;\n",
              "    }\n",
              "\n",
              "    .colab-df-convert:hover {\n",
              "      background-color: #E2EBFA;\n",
              "      box-shadow: 0px 1px 2px rgba(60, 64, 67, 0.3), 0px 1px 3px 1px rgba(60, 64, 67, 0.15);\n",
              "      fill: #174EA6;\n",
              "    }\n",
              "\n",
              "    [theme=dark] .colab-df-convert {\n",
              "      background-color: #3B4455;\n",
              "      fill: #D2E3FC;\n",
              "    }\n",
              "\n",
              "    [theme=dark] .colab-df-convert:hover {\n",
              "      background-color: #434B5C;\n",
              "      box-shadow: 0px 1px 3px 1px rgba(0, 0, 0, 0.15);\n",
              "      filter: drop-shadow(0px 1px 2px rgba(0, 0, 0, 0.3));\n",
              "      fill: #FFFFFF;\n",
              "    }\n",
              "  </style>\n",
              "\n",
              "      <script>\n",
              "        const buttonEl =\n",
              "          document.querySelector('#df-b37e6253-7fa9-4c14-9ead-8b531f0a525d button.colab-df-convert');\n",
              "        buttonEl.style.display =\n",
              "          google.colab.kernel.accessAllowed ? 'block' : 'none';\n",
              "\n",
              "        async function convertToInteractive(key) {\n",
              "          const element = document.querySelector('#df-b37e6253-7fa9-4c14-9ead-8b531f0a525d');\n",
              "          const dataTable =\n",
              "            await google.colab.kernel.invokeFunction('convertToInteractive',\n",
              "                                                     [key], {});\n",
              "          if (!dataTable) return;\n",
              "\n",
              "          const docLinkHtml = 'Like what you see? Visit the ' +\n",
              "            '<a target=\"_blank\" href=https://colab.research.google.com/notebooks/data_table.ipynb>data table notebook</a>'\n",
              "            + ' to learn more about interactive tables.';\n",
              "          element.innerHTML = '';\n",
              "          dataTable['output_type'] = 'display_data';\n",
              "          await google.colab.output.renderOutput(dataTable, element);\n",
              "          const docLink = document.createElement('div');\n",
              "          docLink.innerHTML = docLinkHtml;\n",
              "          element.appendChild(docLink);\n",
              "        }\n",
              "      </script>\n",
              "    </div>\n",
              "  </div>\n",
              "  "
            ]
          },
          "metadata": {},
          "execution_count": 3
        }
      ]
    },
    {
      "cell_type": "markdown",
      "source": [
        "Изучите общую информацию о данных, содержащихся в файлах. Изучите типы данных. Оцените число пропусков в каждом датасете."
      ],
      "metadata": {
        "id": "6bcwvnsUdc3X"
      },
      "id": "6bcwvnsUdc3X"
    },
    {
      "cell_type": "code",
      "execution_count": null,
      "id": "3355f73c",
      "metadata": {
        "id": "3355f73c",
        "colab": {
          "base_uri": "https://localhost:8080/"
        },
        "outputId": "1aed67a1-fea2-4a76-dc08-b604840a520a"
      },
      "outputs": [
        {
          "output_type": "stream",
          "name": "stdout",
          "text": [
            "<class 'pandas.core.frame.DataFrame'>\n",
            "RangeIndex: 500 entries, 0 to 499\n",
            "Data columns (total 8 columns):\n",
            " #   Column      Non-Null Count  Dtype \n",
            "---  ------      --------------  ----- \n",
            " 0   user_id     500 non-null    int64 \n",
            " 1   age         500 non-null    int64 \n",
            " 2   churn_date  38 non-null     object\n",
            " 3   city        500 non-null    object\n",
            " 4   first_name  500 non-null    object\n",
            " 5   last_name   500 non-null    object\n",
            " 6   reg_date    500 non-null    object\n",
            " 7   tariff      500 non-null    object\n",
            "dtypes: int64(2), object(6)\n",
            "memory usage: 31.4+ KB\n",
            "None\n",
            "Not have\n",
            "user_id         0\n",
            "age             0\n",
            "churn_date    462\n",
            "city            0\n",
            "first_name      0\n",
            "last_name       0\n",
            "reg_date        0\n",
            "tariff          0\n",
            "dtype: int64\n",
            "\n",
            "<class 'pandas.core.frame.DataFrame'>\n",
            "RangeIndex: 2 entries, 0 to 1\n",
            "Data columns (total 8 columns):\n",
            " #   Column                 Non-Null Count  Dtype \n",
            "---  ------                 --------------  ----- \n",
            " 0   messages_included      2 non-null      int64 \n",
            " 1   mb_per_month_included  2 non-null      int64 \n",
            " 2   minutes_included       2 non-null      int64 \n",
            " 3   rub_monthly_fee        2 non-null      int64 \n",
            " 4   rub_per_gb             2 non-null      int64 \n",
            " 5   rub_per_message        2 non-null      int64 \n",
            " 6   rub_per_minute         2 non-null      int64 \n",
            " 7   tariff_name            2 non-null      object\n",
            "dtypes: int64(7), object(1)\n",
            "memory usage: 256.0+ bytes\n",
            "None\n",
            "Not have\n",
            "messages_included        0\n",
            "mb_per_month_included    0\n",
            "minutes_included         0\n",
            "rub_monthly_fee          0\n",
            "rub_per_gb               0\n",
            "rub_per_message          0\n",
            "rub_per_minute           0\n",
            "tariff_name              0\n",
            "dtype: int64\n",
            "\n",
            "<class 'pandas.core.frame.DataFrame'>\n",
            "RangeIndex: 202607 entries, 0 to 202606\n",
            "Data columns (total 4 columns):\n",
            " #   Column     Non-Null Count   Dtype  \n",
            "---  ------     --------------   -----  \n",
            " 0   id         202607 non-null  object \n",
            " 1   call_date  202607 non-null  object \n",
            " 2   duration   202607 non-null  float64\n",
            " 3   user_id    202607 non-null  int64  \n",
            "dtypes: float64(1), int64(1), object(2)\n",
            "memory usage: 6.2+ MB\n",
            "None\n",
            "Not have\n",
            "id           0\n",
            "call_date    0\n",
            "duration     0\n",
            "user_id      0\n",
            "dtype: int64\n",
            "\n",
            "<class 'pandas.core.frame.DataFrame'>\n",
            "Int64Index: 149396 entries, 0 to 149395\n",
            "Data columns (total 4 columns):\n",
            " #   Column        Non-Null Count   Dtype  \n",
            "---  ------        --------------   -----  \n",
            " 0   id            149396 non-null  object \n",
            " 1   mb_used       149396 non-null  float64\n",
            " 2   session_date  149396 non-null  object \n",
            " 3   user_id       149396 non-null  int64  \n",
            "dtypes: float64(1), int64(1), object(2)\n",
            "memory usage: 5.7+ MB\n",
            "None\n",
            "Not have\n",
            "id              0\n",
            "mb_used         0\n",
            "session_date    0\n",
            "user_id         0\n",
            "dtype: int64\n",
            "\n",
            "<class 'pandas.core.frame.DataFrame'>\n",
            "RangeIndex: 123036 entries, 0 to 123035\n",
            "Data columns (total 3 columns):\n",
            " #   Column        Non-Null Count   Dtype \n",
            "---  ------        --------------   ----- \n",
            " 0   id            123036 non-null  object\n",
            " 1   message_date  123036 non-null  object\n",
            " 2   user_id       123036 non-null  int64 \n",
            "dtypes: int64(1), object(2)\n",
            "memory usage: 2.8+ MB\n",
            "None\n",
            "Not have\n",
            "id              0\n",
            "message_date    0\n",
            "user_id         0\n",
            "dtype: int64\n",
            "\n"
          ]
        }
      ],
      "source": [
        "all = [users, tariffs, calls, internet, messages]\n",
        "\n",
        "for el in all:\n",
        "  print(el.info())\n",
        "  print('Not have')\n",
        "  print(el.isnull().sum())\n",
        "  print()"
      ]
    },
    {
      "cell_type": "markdown",
      "id": "3a9c3dcd",
      "metadata": {
        "id": "3a9c3dcd"
      },
      "source": [
        "Датасет users содержит информацию о пользователях. Столбец churn_date содержит большое количество значений NaN, т.к. эти пользователи ещё активны. Столбцы reg_date и churn_date являются типом object, необходимо перевести их в формат даты.\n",
        "\n",
        "Датасет calls содержит сведения о совершенных звонках и их продолжительности. Пропусков нет. Столбец call_date является типом object, необходимо перевести в формат даты. Столбец id характеризует идентификатор записи, т.е. каждый совершенный звонок, совершённый пользоватлем.\n",
        "\n",
        "Датасет messages содержит даты переданных сообщений. Пропусков нет. Столбец message_date\t является типом object, необходимо перевести в формат даты.\n",
        "\n",
        "Датасет internet содержит информацию об израсходаванных Мб траффика интернета и даты сессий пользователей. Пропусков нет. Столбец session_date является типом object, необходимо пеервести в формат даты. Столбец Unnamed: 0 содержит номер записи, т.е. новую сессию для каждого пользователя. Никакой информации в себе не несет, т.к. есть столбец id, характреизующий каждую сессию. Этот столбец можно удалить.\n",
        "\n",
        "Датасет tariffs содержит сведения о тарифах. Пропусков нет. \n"
      ]
    },
    {
      "cell_type": "markdown",
      "id": "361f0db7",
      "metadata": {
        "id": "361f0db7"
      },
      "source": [
        "# Шаг 2. Подготовьте данные"
      ]
    },
    {
      "cell_type": "markdown",
      "id": "5e11472b",
      "metadata": {
        "id": "5e11472b"
      },
      "source": [
        "•\tПриведите данные к нужным типам;\n",
        "\n",
        "•\tНайдите и исправьте ошибки в данных, если они есть.\n",
        "\n",
        "Поясните, какие ошибки вы нашли и как их исправили. В данных вы найдёте звонки с нулевой продолжительностью. Это не ошибка: нулями обозначены пропущенные звонки, поэтому их не нужно удалять."
      ]
    },
    {
      "cell_type": "markdown",
      "id": "9ae5c7bc",
      "metadata": {
        "id": "9ae5c7bc"
      },
      "source": [
        "Приведем к формату даты столбцы reg_date и churn_date в users, call_date в calls, message_date в messages и session_date в internet методом pd.to_datetime"
      ]
    },
    {
      "cell_type": "code",
      "execution_count": null,
      "id": "c6eb635e",
      "metadata": {
        "id": "c6eb635e"
      },
      "outputs": [],
      "source": [
        "users['reg_date'] = pd.to_datetime(users['reg_date'], format='%Y-%m-%dT')\n",
        "users['churn_date'] = pd.to_datetime(users['churn_date'], format='%Y-%m-%dT')\n",
        "calls['message_date'] = pd.to_datetime(calls['call_date'], format='%Y-%m-%dT')\n",
        "messages['message_date'] = pd.to_datetime(messages['message_date'], format='%Y-%m-%dT')\n",
        "internet['session_date'] = pd.to_datetime(internet['session_date'], format='%Y-%m-%dT')"
      ]
    },
    {
      "cell_type": "code",
      "execution_count": null,
      "id": "ba19236a",
      "metadata": {
        "id": "ba19236a",
        "colab": {
          "base_uri": "https://localhost:8080/"
        },
        "outputId": "df3d76d5-a9f3-4a79-b79f-fa66a1931bbd"
      },
      "outputs": [
        {
          "output_type": "execute_result",
          "data": {
            "text/plain": [
              "id                      object\n",
              "call_date               object\n",
              "duration               float64\n",
              "user_id                  int64\n",
              "message_date    datetime64[ns]\n",
              "dtype: object"
            ]
          },
          "metadata": {},
          "execution_count": 129
        }
      ],
      "source": [
        "calls.dtypes"
      ]
    },
    {
      "cell_type": "markdown",
      "id": "8fd8d9b1",
      "metadata": {
        "id": "8fd8d9b1"
      },
      "source": [
        "Изучите статистические характеристики. Выведите на экран описательную статистику для всех датасетов, кроме messeges, т.к. в нем нет количественных переменных (кроме user_id). Используйте метод describe()"
      ]
    },
    {
      "cell_type": "code",
      "execution_count": null,
      "id": "ab48d4d3",
      "metadata": {
        "id": "ab48d4d3",
        "colab": {
          "base_uri": "https://localhost:8080/"
        },
        "outputId": "a629c24f-3532-4258-b605-cb25eaca997f"
      },
      "outputs": [
        {
          "output_type": "stream",
          "name": "stdout",
          "text": [
            "           user_id        age\n",
            "count   500.000000  500.00000\n",
            "mean   1249.500000   46.58800\n",
            "std     144.481833   16.66763\n",
            "min    1000.000000   18.00000\n",
            "25%    1124.750000   32.00000\n",
            "50%    1249.500000   46.00000\n",
            "75%    1374.250000   62.00000\n",
            "max    1499.000000   75.00000\n",
            "\n",
            "       messages_included  mb_per_month_included  minutes_included  \\\n",
            "count           2.000000               2.000000          2.000000   \n",
            "mean          525.000000           23040.000000       1750.000000   \n",
            "std           671.751442           10861.160159       1767.766953   \n",
            "min            50.000000           15360.000000        500.000000   \n",
            "25%           287.500000           19200.000000       1125.000000   \n",
            "50%           525.000000           23040.000000       1750.000000   \n",
            "75%           762.500000           26880.000000       2375.000000   \n",
            "max          1000.000000           30720.000000       3000.000000   \n",
            "\n",
            "       rub_monthly_fee  rub_per_gb  rub_per_message  rub_per_minute  \n",
            "count         2.000000    2.000000         2.000000        2.000000  \n",
            "mean       1250.000000  175.000000         2.000000        2.000000  \n",
            "std         989.949494   35.355339         1.414214        1.414214  \n",
            "min         550.000000  150.000000         1.000000        1.000000  \n",
            "25%         900.000000  162.500000         1.500000        1.500000  \n",
            "50%        1250.000000  175.000000         2.000000        2.000000  \n",
            "75%        1600.000000  187.500000         2.500000        2.500000  \n",
            "max        1950.000000  200.000000         3.000000        3.000000  \n",
            "\n",
            "            duration        user_id\n",
            "count  202607.000000  202607.000000\n",
            "mean        6.755887    1253.940619\n",
            "std         5.843365     144.722751\n",
            "min         0.000000    1000.000000\n",
            "25%         1.300000    1126.000000\n",
            "50%         6.000000    1260.000000\n",
            "75%        10.700000    1379.000000\n",
            "max        38.000000    1499.000000\n",
            "\n",
            "             mb_used        user_id\n",
            "count  149396.000000  149396.000000\n",
            "mean      370.192426    1252.099842\n",
            "std       278.300951     144.050823\n",
            "min         0.000000    1000.000000\n",
            "25%       138.187500    1130.000000\n",
            "50%       348.015000    1251.000000\n",
            "75%       559.552500    1380.000000\n",
            "max      1724.830000    1499.000000\n",
            "\n",
            "             user_id\n",
            "count  123036.000000\n",
            "mean     1256.989410\n",
            "std       143.523967\n",
            "min      1000.000000\n",
            "25%      1134.000000\n",
            "50%      1271.000000\n",
            "75%      1381.000000\n",
            "max      1499.000000\n",
            "\n"
          ]
        }
      ],
      "source": [
        "for i in all:\n",
        "  print(i.describe())\n",
        "  print()"
      ]
    },
    {
      "cell_type": "markdown",
      "id": "169f9ecc",
      "metadata": {
        "id": "169f9ecc"
      },
      "source": [
        "Никаких подозрительных значений (типа отрицательного возраста, отрицательного числа минут разговоров или отрицательных значений использованного траффика не обраружено).\n",
        "\n",
        "\n",
        "\n",
        "\n"
      ]
    },
    {
      "cell_type": "markdown",
      "source": [
        "Проверьте данные на наличие явных дубликатов методом duplicated()."
      ],
      "metadata": {
        "id": "CxxTjTXTwjHH"
      },
      "id": "CxxTjTXTwjHH"
    },
    {
      "cell_type": "code",
      "execution_count": null,
      "id": "67c1bbaf",
      "metadata": {
        "id": "67c1bbaf",
        "colab": {
          "base_uri": "https://localhost:8080/"
        },
        "outputId": "c81e2915-fbee-4f89-8158-e28a31905e10"
      },
      "outputs": [
        {
          "output_type": "stream",
          "name": "stdout",
          "text": [
            "0\n",
            "\n",
            "0\n",
            "\n",
            "0\n",
            "\n",
            "0\n",
            "\n",
            "0\n",
            "\n"
          ]
        }
      ],
      "source": [
        "for i in all:\n",
        "  print(i.duplicated().sum())\n",
        "  print()"
      ]
    },
    {
      "cell_type": "markdown",
      "id": "8012e382",
      "metadata": {
        "id": "8012e382"
      },
      "source": [
        "Явных дубликатов нет.  "
      ]
    },
    {
      "cell_type": "markdown",
      "id": "fca76132",
      "metadata": {
        "id": "fca76132"
      },
      "source": [
        "Проверьте наличие неявных дубликатов в информации о пользователях. Для этого рассмотрите уникальные значения в именах пользователей, городов проживания. Используйте метод unique()"
      ]
    },
    {
      "cell_type": "code",
      "execution_count": null,
      "id": "0aef6dba",
      "metadata": {
        "id": "0aef6dba",
        "colab": {
          "base_uri": "https://localhost:8080/"
        },
        "outputId": "88d10b84-35a5-4536-cadc-845fdbfcd646"
      },
      "outputs": [
        {
          "output_type": "execute_result",
          "data": {
            "text/plain": [
              "array(['Авксентий', 'Агата', 'Агафья', 'Агнесса', 'Адам', 'Аким', 'Аксён',\n",
              "       'Алан', 'Алевтина', 'Александр', 'Александра', 'Алексей', 'Алина',\n",
              "       'Алиса', 'Алла', 'Альберта', 'Альбин', 'Альфред', 'Алёна',\n",
              "       'Анатолий', 'Анвар', 'Ангелина', 'Андрей', 'Анжелика', 'Анита',\n",
              "       'Антонина', 'Анфиса', 'Арина', 'Арнольд', 'Арсен', 'Арсений',\n",
              "       'Артемий', 'Артём', 'Аурелия', 'Афанасий', 'Ахмет', 'Аюна',\n",
              "       'Белла', 'Берта', 'Борис', 'Вадим', 'Валентина', 'Валерий',\n",
              "       'Валерия', 'Варвара', 'Варлам', 'Василиса', 'Вениамин', 'Вера',\n",
              "       'Вероника', 'Веселина', 'Виктор', 'Виктория', 'Виолетта',\n",
              "       'Виталий', 'Владимир', 'Владислав', 'Владислава', 'Всеволод',\n",
              "       'Габриель', 'Габриэль', 'Гайдар', 'Галина', 'Гарри', 'Гектор',\n",
              "       'Гелена', 'Геннадий', 'Геодар', 'Георгий', 'Георгина', 'Геральд',\n",
              "       'Герасим', 'Глеб', 'Гордей', 'Григорий', 'Дайна', 'Дана', 'Даниил',\n",
              "       'Даниэла', 'Дебора', 'Демьян', 'Денис', 'Джемма', 'Джозефина',\n",
              "       'Джулия', 'Динара', 'Доминика', 'Ева', 'Евгений', 'Евгения',\n",
              "       'Евдокия', 'Евфросинья', 'Егор', 'Екатерина', 'Елена', 'Еремей',\n",
              "       'Ермолай', 'Ефим', 'Зинаида', 'Иван', 'Игнатий', 'Игорь',\n",
              "       'Изольда', 'Илзе', 'Илья', 'Инара', 'Инга', 'Инесса', 'Инна',\n",
              "       'Иннокентий', 'Ириней', 'Исаак', 'Исак', 'Иулиан', 'Камилла',\n",
              "       'Карина', 'Каролина', 'Касьян', 'Ким', 'Клавдия', 'Клара',\n",
              "       'Клариса', 'Константин', 'Кристина', 'Ксения', 'Кузьма',\n",
              "       'Лаврентий', 'Лариса', 'Лаура', 'Лев', 'Лейла', 'Леон', 'Леонид',\n",
              "       'Леонтий', 'Леся', 'Лидия', 'Лилия', 'Лия', 'Лола', 'Лолита',\n",
              "       'Луиза', 'Лукий', 'Людмила', 'Мадина', 'Майя', 'Максим',\n",
              "       'Мальвина', 'Мануэла', 'Маргарита', 'Марианна', 'Мариетта',\n",
              "       'Марина', 'Марица', 'Мария', 'Марта', 'Марьяна', 'Матвей',\n",
              "       'Милана', 'Милена', 'Милица', 'Мирослава', 'Михаил', 'Мстислав',\n",
              "       'Надежда', 'Наида', 'Наталья', 'Нателла', 'Нелли', 'Николай',\n",
              "       'Нина', 'Оксана', 'Олег', 'Олеся', 'Онисим', 'Павел', 'Пётр',\n",
              "       'Радим', 'Радислав', 'Радомир', 'Раиса', 'Рауль', 'Рафаил',\n",
              "       'Рафаэль', 'Рашид', 'Рем', 'Ренальд', 'Ренат', 'Рената', 'Ринат',\n",
              "       'Роберт', 'Роза', 'Розалия', 'Роксана', 'Ростислав', 'Рубен',\n",
              "       'Рудольф', 'Рузана', 'Руслан', 'Руслана', 'Рустам', 'Рустем',\n",
              "       'Рустэм', 'Рэм', 'Сабина', 'Саида', 'Сара', 'Светлана',\n",
              "       'Святослав', 'Семён', 'Серафима', 'Симона', 'Снежана', 'Софья',\n",
              "       'Станислав', 'Степан', 'Таира', 'Таисия', 'Тала', 'Тамара',\n",
              "       'Татьяна', 'Тимофей', 'Тихон', 'Трифон', 'Трофим', 'Фаддей',\n",
              "       'Фёдор', 'Харитон', 'Эдита', 'Эдуард', 'Элеонора', 'Элина', 'Элла',\n",
              "       'Эллада', 'Эльвира', 'Эльга', 'Эльза', 'Эльмира', 'Эмилия',\n",
              "       'Эсмеральда', 'Юзефа', 'Юлий', 'Юлия', 'Юна', 'Юрий', 'Яков',\n",
              "       'Яна'], dtype=object)"
            ]
          },
          "metadata": {},
          "execution_count": 132
        }
      ],
      "source": [
        "users['first_name'].sort_values().unique()"
      ]
    },
    {
      "cell_type": "code",
      "execution_count": null,
      "id": "89abf5d4",
      "metadata": {
        "id": "89abf5d4",
        "colab": {
          "base_uri": "https://localhost:8080/"
        },
        "outputId": "00681532-ce02-40f6-de6a-e4384de8ffca"
      },
      "outputs": [
        {
          "output_type": "execute_result",
          "data": {
            "text/plain": [
              "array(['Ёлчина', 'Ёркин', 'Ёркина', 'Ёрохов', 'Ёрохова', 'Абаимов',\n",
              "       'Абакумов', 'Абакшина', 'Абалакова', 'Абалдуева', 'Абалкин',\n",
              "       'Абашкин', 'Абашкина', 'Абдулина', 'Абоимов', 'Абрамович',\n",
              "       'Абрамцев', 'Абрамычева', 'Абрашина', 'Абрикосова', 'Авдеев',\n",
              "       'Авдеенко', 'Авдонюшкин', 'Авдушева', 'Авдышев', 'Авдюков',\n",
              "       'Авраамова', 'Авраменко', 'Авринский', 'Аврорин', 'Авроров',\n",
              "       'Авросимова', 'Авросинова', 'Авсейкина', 'Авчинникова', 'Агаев',\n",
              "       'Агаева', 'Агапеева', 'Агеева', 'Адаменко', 'Адамов', 'Азаров',\n",
              "       'Азерников', 'Азимова', 'Акимов', 'Акимчин', 'Акимычева',\n",
              "       'Акиндинов', 'Акинин', 'Акинфьев', 'Аксёнов', 'Акуленко',\n",
              "       'Александрова', 'Александрович', 'Александрюк', 'Алексеева',\n",
              "       'Алексеенко', 'Алексеичев', 'Аленникова', 'Алесин', 'Алехина',\n",
              "       'Алешин', 'Алешина', 'Алешкова', 'Алиев', 'Алфеева', 'Алфимов',\n",
              "       'Алфимова', 'Алымова', 'Алютин', 'Алюшина', 'Алёшко', 'Алёшкова',\n",
              "       'Амелин', 'Амелишко', 'Амельченко', 'Ананьева', 'Андреенко',\n",
              "       'Андрейкин', 'Андрейчук', 'Андрианов', 'Андропов', 'Андропова',\n",
              "       'Андрющенко', 'Аникина', 'Аничкина', 'Анищенко', 'Антипов',\n",
              "       'Антоненко', 'Антонова', 'Антропов', 'Антропова', 'Аракина',\n",
              "       'Аракчеев', 'Аркадьев', 'Арсенкова', 'Артемчук', 'Артемьев',\n",
              "       'Артёменко', 'Артёмов', 'Артёшин', 'Архипова', 'Асафьева',\n",
              "       'Астапенко', 'Астапов', 'Астафьева', 'Афанасенко', 'Афанасова',\n",
              "       'Афинин', 'Афонасьева', 'Афонин', 'Афонина', 'Ахмадулин',\n",
              "       'Ахматов', 'Ахматулин', 'Ахматулина', 'Ахмедов', 'Бабушкина',\n",
              "       'Барсуков', 'Басова', 'Безруков', 'Беликова', 'Белова',\n",
              "       'Белозёров', 'Белоусова', 'Беляев', 'Беляева', 'Белякова',\n",
              "       'Березина', 'Блинова', 'Блохин', 'Блохина', 'Боброва', 'Бобылёв',\n",
              "       'Богданов', 'Богданова', 'Болдырев', 'Болдырева', 'Бондарев',\n",
              "       'Борисова', 'Бородин', 'Бородина', 'Булгаков', 'Бычкова',\n",
              "       'Васильева', 'Верещагин', 'Верещагина', 'Веселов', 'Вешнякова',\n",
              "       'Вишневский', 'Вишняков', 'Воронин', 'Воронина', 'Гаврилова',\n",
              "       'Галкин', 'Глушков', 'Голованова', 'Гончаров', 'Горбачева',\n",
              "       'Горбунов', 'Горлов', 'Григорьев', 'Григорьева', 'Гришина',\n",
              "       'Громова', 'Давыдов', 'Демидов', 'Демьянов', 'Демьянова',\n",
              "       'Денисова', 'Добрынин', 'Добрынина', 'Дорофеева', 'Дроздов',\n",
              "       'Дубинина', 'Дьячкова', 'Евсеев', 'Ежов', 'Елизаров', 'Емельянова',\n",
              "       'Еремин', 'Ермилов', 'Ермолаев', 'Ерофеев', 'Ерофеева', 'Ефремов',\n",
              "       'Жарова', 'Жданов', 'Жукова', 'Завьялова', 'Зайцев', 'Зеленина',\n",
              "       'Зимина', 'Золотов', 'Золотова', 'Зубков', 'Зубкова', 'Зуев',\n",
              "       'Зыков', 'Иванов', 'Иванова', 'Игнатова', 'Игнатьев', 'Игнатьева',\n",
              "       'Измайлова', 'Ильин', 'Ильина', 'Кабанова', 'Казакова', 'Казанцев',\n",
              "       'Калинина', 'Капустин', 'Карасев', 'Карасева', 'Карташова',\n",
              "       'Касьянова', 'Киреева', 'Кириллов', 'Киселёв', 'Климова',\n",
              "       'Ковалева', 'Козлов', 'Козлова', 'Козырева', 'Колесова', 'Колобов',\n",
              "       'Кольцова', 'Кондратов', 'Коновалова', 'Кононов', 'Константинова',\n",
              "       'Корнеева', 'Корнилов', 'Корнилова', 'Корольков', 'Королькова',\n",
              "       'Короткова', 'Коршунов', 'Костин', 'Костина', 'Кочергина',\n",
              "       'Кочетков', 'Кочетов', 'Кошелева', 'Кравцов', 'Красильников',\n",
              "       'Круглов', 'Крылова', 'Крюков', 'Крюкова', 'Крючков', 'Кузнецов',\n",
              "       'Кукушкин', 'Кулагина', 'Кулешова', 'Куприянов', 'Курочкин',\n",
              "       'Лазарева', 'Лапина', 'Лаптева', 'Ларин', 'Ларина', 'Ларионова',\n",
              "       'Латышева', 'Лебедев', 'Левин', 'Леонтьев', 'Литвинов', 'Лобанова',\n",
              "       'Логинов', 'Лосева', 'Лукин', 'Любимов', 'Макаров', 'Макарова',\n",
              "       'Макеев', 'Малахов', 'Малинин', 'Малинина', 'Малышев', 'Мальцев',\n",
              "       'Мамонтова', 'Марков', 'Масленникова', 'Матвеев', 'Медведев',\n",
              "       'Мельникова', 'Меркулова', 'Минаев', 'Минаева', 'Мишин',\n",
              "       'Молчанова', 'Моргунов', 'Морозов', 'Муравьева', 'Муравьёв',\n",
              "       'Мясникова', 'Наумов', 'Некрасов', 'Нестеров', 'Нестерова',\n",
              "       'Нечаева', 'Никонов', 'Никулин', 'Новикова', 'Носкова',\n",
              "       'Овчинников', 'Одинцов', 'Одинцова', 'Озерова', 'Орлов',\n",
              "       'Павловский', 'Панов', 'Пантелеева', 'Панфилов', 'Панфилова',\n",
              "       'Парфенов', 'Петухова', 'Пирогова', 'Платонова', 'Покровский',\n",
              "       'Поликарпова', 'Поляков', 'Пономарев', 'Пономарева', 'Пономарёв',\n",
              "       'Попов', 'Прокофьева', 'Пугачева', 'Ракова', 'Родина', 'Родионов',\n",
              "       'Родионова', 'Розанова', 'Рудаков', 'Румянцева', 'Русанова',\n",
              "       'Рыбакова', 'Рябов', 'Савельева', 'Сазонов', 'Сазонова',\n",
              "       'Сальников', 'Сафонова', 'Сахарова', 'Свиридов', 'Севастьянова',\n",
              "       'Седова', 'Селезнев', 'Селезнева', 'Селиванова', 'Семенова',\n",
              "       'Семин', 'Семина', 'Семёнов', 'Сергеева', 'Серебрякова', 'Серов',\n",
              "       'Силин', 'Симонова', 'Синицын', 'Ситникова', 'Соколов', 'Соловьев',\n",
              "       'Соловьёв', 'Сомова', 'Сорокин', 'Софронов', 'Спиридонова',\n",
              "       'Субботина', 'Суслов', 'Суслова', 'Сухарев', 'Сухарева', 'Сухова',\n",
              "       'Сысоев', 'Тарасов', 'Тарасова', 'Терехова', 'Тетерина',\n",
              "       'Тимофеев', 'Тимофеева', 'Тихомирова', 'Тихонов', 'Толкачев',\n",
              "       'Третьякова', 'Троицкий', 'Трофимов', 'Трофимова', 'Трошин',\n",
              "       'Уваров', 'Устинов', 'Устинова', 'Фадеева', 'Федосеев', 'Фетисова',\n",
              "       'Филатов', 'Фокин', 'Фокина', 'Фомин', 'Фролов', 'Фёдоров',\n",
              "       'Худяков', 'Чернов', 'Черный', 'Чернышев', 'Черняев', 'Чеснокова',\n",
              "       'Чижова', 'Чистякова', 'Чумаков', 'Шарапов', 'Шарапова', 'Шарова',\n",
              "       'Швецов', 'Шевцов', 'Шевцова', 'Щербакова', 'Яшина'], dtype=object)"
            ]
          },
          "metadata": {},
          "execution_count": 133
        }
      ],
      "source": [
        "users['last_name'].sort_values().unique()"
      ]
    },
    {
      "cell_type": "code",
      "execution_count": null,
      "id": "b29ad353",
      "metadata": {
        "id": "b29ad353",
        "colab": {
          "base_uri": "https://localhost:8080/"
        },
        "outputId": "202c6b3b-d18e-4417-ac93-09adfbb587e5"
      },
      "outputs": [
        {
          "output_type": "execute_result",
          "data": {
            "text/plain": [
              "array(['Архангельск', 'Астрахань', 'Балашиха', 'Барнаул', 'Белгород',\n",
              "       'Брянск', 'Владивосток', 'Владикавказ', 'Владимир', 'Волгоград',\n",
              "       'Волжский', 'Вологда', 'Воронеж', 'Грозный', 'Екатеринбург',\n",
              "       'Иваново', 'Ижевск', 'Иркутск', 'Казань', 'Калининград', 'Калуга',\n",
              "       'Кемерово', 'Киров', 'Кострома', 'Краснодар', 'Красноярск',\n",
              "       'Курган', 'Курск', 'Липецк', 'Магнитогорск', 'Махачкала', 'Москва',\n",
              "       'Мурманск', 'Набережные Челны', 'Нижневартовск', 'Нижний Новгород',\n",
              "       'Нижний Тагил', 'Новокузнецк', 'Новороссийск', 'Новосибирск',\n",
              "       'Омск', 'Оренбург', 'Орёл', 'Пенза', 'Пермь', 'Петрозаводск',\n",
              "       'Подольск', 'Ростов-на-Дону', 'Рязань', 'Самара',\n",
              "       'Санкт-Петербург', 'Саранск', 'Саратов', 'Севастополь', 'Смоленск',\n",
              "       'Сочи', 'Ставрополь', 'Стерлитамак', 'Сургут', 'Тамбов', 'Тверь',\n",
              "       'Тольятти', 'Томск', 'Тула', 'Тюмень', 'Улан-Удэ', 'Ульяновск',\n",
              "       'Уфа', 'Хабаровск', 'Химки', 'Чебоксары', 'Челябинск', 'Череповец',\n",
              "       'Чита', 'Якутск', 'Ярославль'], dtype=object)"
            ]
          },
          "metadata": {},
          "execution_count": 134
        }
      ],
      "source": [
        "users['city'].sort_values().unique()"
      ]
    },
    {
      "cell_type": "markdown",
      "id": "ff20a78b",
      "metadata": {
        "id": "ff20a78b"
      },
      "source": [
        "Неверных написаний фамилий, имён пользователей и городов их проживания не обнаружено. Неявных дубликатов в датасете users нет."
      ]
    },
    {
      "cell_type": "markdown",
      "id": "aa62a923",
      "metadata": {
        "id": "aa62a923"
      },
      "source": [
        "Неявных дубликатов тоже не обнаружено"
      ]
    },
    {
      "cell_type": "markdown",
      "id": "e09ad7e9",
      "metadata": {
        "id": "e09ad7e9"
      },
      "source": [
        "В примечании сказано, что «Мегалайн» всегда округляет секунды до минут, а мегабайты — до гигабайт. Каждый звонок округляется отдельно: даже если он длился всего 1 секунду, будет засчитан как 1 минута.\n",
        "\n",
        "Округлите длительности разговоров каждого пользователя до целого вверх. Используйте метод ceil()."
      ]
    },
    {
      "cell_type": "code",
      "execution_count": null,
      "id": "e5e06f5c",
      "metadata": {
        "id": "e5e06f5c"
      },
      "outputs": [],
      "source": [
        "calls['duration'] = np.ceil(calls['duration']).astype(int)\n",
        "\n"
      ]
    },
    {
      "cell_type": "markdown",
      "id": "a96730b6",
      "metadata": {
        "id": "a96730b6"
      },
      "source": [
        "### Посчитайте для каждого пользователя:\n",
        "•\tколичество сделанных звонков и израсходованных минут разговора по месяцам;\n",
        "\n",
        "•\tколичество отправленных сообщений по месяцам;\n",
        "\n",
        "•\tобъем израсходованного интернет-трафика по месяцам;\n",
        "\n",
        "•\tпомесячную выручку с каждого пользователя (вычтите бесплатный лимит из суммарного количества звонков, сообщений и интернет-трафика; остаток умножьте на значение из тарифного плана; прибавьте абонентскую плату, соответствующую тарифному плану).\n"
      ]
    },
    {
      "cell_type": "code",
      "execution_count": null,
      "id": "6270da7e",
      "metadata": {
        "id": "6270da7e",
        "colab": {
          "base_uri": "https://localhost:8080/",
          "height": 206
        },
        "outputId": "e7c72a34-6d51-43d5-abc8-a5b2c0b81868"
      },
      "outputs": [
        {
          "output_type": "execute_result",
          "data": {
            "text/plain": [
              "   user_id  month  call_per_month  minute_per_month\n",
              "0     1000      5              22               159\n",
              "1     1000      6              43               172\n",
              "2     1000      7              47               340\n",
              "3     1000      8              52               408\n",
              "4     1000      9              58               466"
            ],
            "text/html": [
              "\n",
              "  <div id=\"df-2a10070c-05e3-4b52-aced-2f47dc34f416\">\n",
              "    <div class=\"colab-df-container\">\n",
              "      <div>\n",
              "<style scoped>\n",
              "    .dataframe tbody tr th:only-of-type {\n",
              "        vertical-align: middle;\n",
              "    }\n",
              "\n",
              "    .dataframe tbody tr th {\n",
              "        vertical-align: top;\n",
              "    }\n",
              "\n",
              "    .dataframe thead th {\n",
              "        text-align: right;\n",
              "    }\n",
              "</style>\n",
              "<table border=\"1\" class=\"dataframe\">\n",
              "  <thead>\n",
              "    <tr style=\"text-align: right;\">\n",
              "      <th></th>\n",
              "      <th>user_id</th>\n",
              "      <th>month</th>\n",
              "      <th>call_per_month</th>\n",
              "      <th>minute_per_month</th>\n",
              "    </tr>\n",
              "  </thead>\n",
              "  <tbody>\n",
              "    <tr>\n",
              "      <th>0</th>\n",
              "      <td>1000</td>\n",
              "      <td>5</td>\n",
              "      <td>22</td>\n",
              "      <td>159</td>\n",
              "    </tr>\n",
              "    <tr>\n",
              "      <th>1</th>\n",
              "      <td>1000</td>\n",
              "      <td>6</td>\n",
              "      <td>43</td>\n",
              "      <td>172</td>\n",
              "    </tr>\n",
              "    <tr>\n",
              "      <th>2</th>\n",
              "      <td>1000</td>\n",
              "      <td>7</td>\n",
              "      <td>47</td>\n",
              "      <td>340</td>\n",
              "    </tr>\n",
              "    <tr>\n",
              "      <th>3</th>\n",
              "      <td>1000</td>\n",
              "      <td>8</td>\n",
              "      <td>52</td>\n",
              "      <td>408</td>\n",
              "    </tr>\n",
              "    <tr>\n",
              "      <th>4</th>\n",
              "      <td>1000</td>\n",
              "      <td>9</td>\n",
              "      <td>58</td>\n",
              "      <td>466</td>\n",
              "    </tr>\n",
              "  </tbody>\n",
              "</table>\n",
              "</div>\n",
              "      <button class=\"colab-df-convert\" onclick=\"convertToInteractive('df-2a10070c-05e3-4b52-aced-2f47dc34f416')\"\n",
              "              title=\"Convert this dataframe to an interactive table.\"\n",
              "              style=\"display:none;\">\n",
              "        \n",
              "  <svg xmlns=\"http://www.w3.org/2000/svg\" height=\"24px\"viewBox=\"0 0 24 24\"\n",
              "       width=\"24px\">\n",
              "    <path d=\"M0 0h24v24H0V0z\" fill=\"none\"/>\n",
              "    <path d=\"M18.56 5.44l.94 2.06.94-2.06 2.06-.94-2.06-.94-.94-2.06-.94 2.06-2.06.94zm-11 1L8.5 8.5l.94-2.06 2.06-.94-2.06-.94L8.5 2.5l-.94 2.06-2.06.94zm10 10l.94 2.06.94-2.06 2.06-.94-2.06-.94-.94-2.06-.94 2.06-2.06.94z\"/><path d=\"M17.41 7.96l-1.37-1.37c-.4-.4-.92-.59-1.43-.59-.52 0-1.04.2-1.43.59L10.3 9.45l-7.72 7.72c-.78.78-.78 2.05 0 2.83L4 21.41c.39.39.9.59 1.41.59.51 0 1.02-.2 1.41-.59l7.78-7.78 2.81-2.81c.8-.78.8-2.07 0-2.86zM5.41 20L4 18.59l7.72-7.72 1.47 1.35L5.41 20z\"/>\n",
              "  </svg>\n",
              "      </button>\n",
              "      \n",
              "  <style>\n",
              "    .colab-df-container {\n",
              "      display:flex;\n",
              "      flex-wrap:wrap;\n",
              "      gap: 12px;\n",
              "    }\n",
              "\n",
              "    .colab-df-convert {\n",
              "      background-color: #E8F0FE;\n",
              "      border: none;\n",
              "      border-radius: 50%;\n",
              "      cursor: pointer;\n",
              "      display: none;\n",
              "      fill: #1967D2;\n",
              "      height: 32px;\n",
              "      padding: 0 0 0 0;\n",
              "      width: 32px;\n",
              "    }\n",
              "\n",
              "    .colab-df-convert:hover {\n",
              "      background-color: #E2EBFA;\n",
              "      box-shadow: 0px 1px 2px rgba(60, 64, 67, 0.3), 0px 1px 3px 1px rgba(60, 64, 67, 0.15);\n",
              "      fill: #174EA6;\n",
              "    }\n",
              "\n",
              "    [theme=dark] .colab-df-convert {\n",
              "      background-color: #3B4455;\n",
              "      fill: #D2E3FC;\n",
              "    }\n",
              "\n",
              "    [theme=dark] .colab-df-convert:hover {\n",
              "      background-color: #434B5C;\n",
              "      box-shadow: 0px 1px 3px 1px rgba(0, 0, 0, 0.15);\n",
              "      filter: drop-shadow(0px 1px 2px rgba(0, 0, 0, 0.3));\n",
              "      fill: #FFFFFF;\n",
              "    }\n",
              "  </style>\n",
              "\n",
              "      <script>\n",
              "        const buttonEl =\n",
              "          document.querySelector('#df-2a10070c-05e3-4b52-aced-2f47dc34f416 button.colab-df-convert');\n",
              "        buttonEl.style.display =\n",
              "          google.colab.kernel.accessAllowed ? 'block' : 'none';\n",
              "\n",
              "        async function convertToInteractive(key) {\n",
              "          const element = document.querySelector('#df-2a10070c-05e3-4b52-aced-2f47dc34f416');\n",
              "          const dataTable =\n",
              "            await google.colab.kernel.invokeFunction('convertToInteractive',\n",
              "                                                     [key], {});\n",
              "          if (!dataTable) return;\n",
              "\n",
              "          const docLinkHtml = 'Like what you see? Visit the ' +\n",
              "            '<a target=\"_blank\" href=https://colab.research.google.com/notebooks/data_table.ipynb>data table notebook</a>'\n",
              "            + ' to learn more about interactive tables.';\n",
              "          element.innerHTML = '';\n",
              "          dataTable['output_type'] = 'display_data';\n",
              "          await google.colab.output.renderOutput(dataTable, element);\n",
              "          const docLink = document.createElement('div');\n",
              "          docLink.innerHTML = docLinkHtml;\n",
              "          element.appendChild(docLink);\n",
              "        }\n",
              "      </script>\n",
              "    </div>\n",
              "  </div>\n",
              "  "
            ]
          },
          "metadata": {},
          "execution_count": 136
        }
      ],
      "source": [
        "#Выделим месяц совершения звонка в датасете calls и сформируем таблицу calls_month с количеством сделанных звонков и израсходованных минут разговора по месяцам\n",
        "calls['month'] = pd.DatetimeIndex(calls['call_date']).month\n",
        "calls_month = calls.groupby(['user_id', 'month'])['duration'].agg(['count', 'sum']).reset_index()\n",
        "calls_month.columns = ['user_id', 'month' ,'call_per_month', 'minute_per_month']\n",
        "\n",
        "calls_month.head()"
      ]
    },
    {
      "cell_type": "code",
      "execution_count": null,
      "id": "6752eb9b",
      "metadata": {
        "id": "6752eb9b",
        "colab": {
          "base_uri": "https://localhost:8080/",
          "height": 206
        },
        "outputId": "3aafc3a9-71bb-4346-d8e7-c936eb0ed7c5"
      },
      "outputs": [
        {
          "output_type": "execute_result",
          "data": {
            "text/plain": [
              "   user_id  month  messages_per_month\n",
              "0     1000      5                  22\n",
              "1     1000      6                  60\n",
              "2     1000      7                  75\n",
              "3     1000      8                  81\n",
              "4     1000      9                  57"
            ],
            "text/html": [
              "\n",
              "  <div id=\"df-5910244b-c0ef-4624-a593-51a473c269a8\">\n",
              "    <div class=\"colab-df-container\">\n",
              "      <div>\n",
              "<style scoped>\n",
              "    .dataframe tbody tr th:only-of-type {\n",
              "        vertical-align: middle;\n",
              "    }\n",
              "\n",
              "    .dataframe tbody tr th {\n",
              "        vertical-align: top;\n",
              "    }\n",
              "\n",
              "    .dataframe thead th {\n",
              "        text-align: right;\n",
              "    }\n",
              "</style>\n",
              "<table border=\"1\" class=\"dataframe\">\n",
              "  <thead>\n",
              "    <tr style=\"text-align: right;\">\n",
              "      <th></th>\n",
              "      <th>user_id</th>\n",
              "      <th>month</th>\n",
              "      <th>messages_per_month</th>\n",
              "    </tr>\n",
              "  </thead>\n",
              "  <tbody>\n",
              "    <tr>\n",
              "      <th>0</th>\n",
              "      <td>1000</td>\n",
              "      <td>5</td>\n",
              "      <td>22</td>\n",
              "    </tr>\n",
              "    <tr>\n",
              "      <th>1</th>\n",
              "      <td>1000</td>\n",
              "      <td>6</td>\n",
              "      <td>60</td>\n",
              "    </tr>\n",
              "    <tr>\n",
              "      <th>2</th>\n",
              "      <td>1000</td>\n",
              "      <td>7</td>\n",
              "      <td>75</td>\n",
              "    </tr>\n",
              "    <tr>\n",
              "      <th>3</th>\n",
              "      <td>1000</td>\n",
              "      <td>8</td>\n",
              "      <td>81</td>\n",
              "    </tr>\n",
              "    <tr>\n",
              "      <th>4</th>\n",
              "      <td>1000</td>\n",
              "      <td>9</td>\n",
              "      <td>57</td>\n",
              "    </tr>\n",
              "  </tbody>\n",
              "</table>\n",
              "</div>\n",
              "      <button class=\"colab-df-convert\" onclick=\"convertToInteractive('df-5910244b-c0ef-4624-a593-51a473c269a8')\"\n",
              "              title=\"Convert this dataframe to an interactive table.\"\n",
              "              style=\"display:none;\">\n",
              "        \n",
              "  <svg xmlns=\"http://www.w3.org/2000/svg\" height=\"24px\"viewBox=\"0 0 24 24\"\n",
              "       width=\"24px\">\n",
              "    <path d=\"M0 0h24v24H0V0z\" fill=\"none\"/>\n",
              "    <path d=\"M18.56 5.44l.94 2.06.94-2.06 2.06-.94-2.06-.94-.94-2.06-.94 2.06-2.06.94zm-11 1L8.5 8.5l.94-2.06 2.06-.94-2.06-.94L8.5 2.5l-.94 2.06-2.06.94zm10 10l.94 2.06.94-2.06 2.06-.94-2.06-.94-.94-2.06-.94 2.06-2.06.94z\"/><path d=\"M17.41 7.96l-1.37-1.37c-.4-.4-.92-.59-1.43-.59-.52 0-1.04.2-1.43.59L10.3 9.45l-7.72 7.72c-.78.78-.78 2.05 0 2.83L4 21.41c.39.39.9.59 1.41.59.51 0 1.02-.2 1.41-.59l7.78-7.78 2.81-2.81c.8-.78.8-2.07 0-2.86zM5.41 20L4 18.59l7.72-7.72 1.47 1.35L5.41 20z\"/>\n",
              "  </svg>\n",
              "      </button>\n",
              "      \n",
              "  <style>\n",
              "    .colab-df-container {\n",
              "      display:flex;\n",
              "      flex-wrap:wrap;\n",
              "      gap: 12px;\n",
              "    }\n",
              "\n",
              "    .colab-df-convert {\n",
              "      background-color: #E8F0FE;\n",
              "      border: none;\n",
              "      border-radius: 50%;\n",
              "      cursor: pointer;\n",
              "      display: none;\n",
              "      fill: #1967D2;\n",
              "      height: 32px;\n",
              "      padding: 0 0 0 0;\n",
              "      width: 32px;\n",
              "    }\n",
              "\n",
              "    .colab-df-convert:hover {\n",
              "      background-color: #E2EBFA;\n",
              "      box-shadow: 0px 1px 2px rgba(60, 64, 67, 0.3), 0px 1px 3px 1px rgba(60, 64, 67, 0.15);\n",
              "      fill: #174EA6;\n",
              "    }\n",
              "\n",
              "    [theme=dark] .colab-df-convert {\n",
              "      background-color: #3B4455;\n",
              "      fill: #D2E3FC;\n",
              "    }\n",
              "\n",
              "    [theme=dark] .colab-df-convert:hover {\n",
              "      background-color: #434B5C;\n",
              "      box-shadow: 0px 1px 3px 1px rgba(0, 0, 0, 0.15);\n",
              "      filter: drop-shadow(0px 1px 2px rgba(0, 0, 0, 0.3));\n",
              "      fill: #FFFFFF;\n",
              "    }\n",
              "  </style>\n",
              "\n",
              "      <script>\n",
              "        const buttonEl =\n",
              "          document.querySelector('#df-5910244b-c0ef-4624-a593-51a473c269a8 button.colab-df-convert');\n",
              "        buttonEl.style.display =\n",
              "          google.colab.kernel.accessAllowed ? 'block' : 'none';\n",
              "\n",
              "        async function convertToInteractive(key) {\n",
              "          const element = document.querySelector('#df-5910244b-c0ef-4624-a593-51a473c269a8');\n",
              "          const dataTable =\n",
              "            await google.colab.kernel.invokeFunction('convertToInteractive',\n",
              "                                                     [key], {});\n",
              "          if (!dataTable) return;\n",
              "\n",
              "          const docLinkHtml = 'Like what you see? Visit the ' +\n",
              "            '<a target=\"_blank\" href=https://colab.research.google.com/notebooks/data_table.ipynb>data table notebook</a>'\n",
              "            + ' to learn more about interactive tables.';\n",
              "          element.innerHTML = '';\n",
              "          dataTable['output_type'] = 'display_data';\n",
              "          await google.colab.output.renderOutput(dataTable, element);\n",
              "          const docLink = document.createElement('div');\n",
              "          docLink.innerHTML = docLinkHtml;\n",
              "          element.appendChild(docLink);\n",
              "        }\n",
              "      </script>\n",
              "    </div>\n",
              "  </div>\n",
              "  "
            ]
          },
          "metadata": {},
          "execution_count": 137
        }
      ],
      "source": [
        "#Выделим месяц отправки сообщений в датасете messages и сформируем  таблицу messages_month с количеством отправленных сообщений по месяцам\n",
        "messages['month'] = pd.DatetimeIndex(messages['message_date']).month\n",
        "messages_month = messages.groupby(['user_id', 'month'])['id'].agg(['count']).reset_index()\n",
        "messages_month.columns = ['user_id', 'month' , 'messages_per_month']\n",
        "\n",
        "messages_month.head()\n"
      ]
    },
    {
      "cell_type": "code",
      "execution_count": null,
      "id": "07b7dfcb",
      "metadata": {
        "id": "07b7dfcb",
        "colab": {
          "base_uri": "https://localhost:8080/",
          "height": 206
        },
        "outputId": "a1fb7f3a-f8c8-4090-c33b-2dfddae8cd6d"
      },
      "outputs": [
        {
          "output_type": "execute_result",
          "data": {
            "text/plain": [
              "   user_id  month  mb_per_month\n",
              "0     1000      5       2253.49\n",
              "1     1000      6      23233.77\n",
              "2     1000      7      14003.64\n",
              "3     1000      8      14055.93\n",
              "4     1000      9      14568.91"
            ],
            "text/html": [
              "\n",
              "  <div id=\"df-37a47e0c-1e25-4dc7-b9ed-2d9d819d5494\">\n",
              "    <div class=\"colab-df-container\">\n",
              "      <div>\n",
              "<style scoped>\n",
              "    .dataframe tbody tr th:only-of-type {\n",
              "        vertical-align: middle;\n",
              "    }\n",
              "\n",
              "    .dataframe tbody tr th {\n",
              "        vertical-align: top;\n",
              "    }\n",
              "\n",
              "    .dataframe thead th {\n",
              "        text-align: right;\n",
              "    }\n",
              "</style>\n",
              "<table border=\"1\" class=\"dataframe\">\n",
              "  <thead>\n",
              "    <tr style=\"text-align: right;\">\n",
              "      <th></th>\n",
              "      <th>user_id</th>\n",
              "      <th>month</th>\n",
              "      <th>mb_per_month</th>\n",
              "    </tr>\n",
              "  </thead>\n",
              "  <tbody>\n",
              "    <tr>\n",
              "      <th>0</th>\n",
              "      <td>1000</td>\n",
              "      <td>5</td>\n",
              "      <td>2253.49</td>\n",
              "    </tr>\n",
              "    <tr>\n",
              "      <th>1</th>\n",
              "      <td>1000</td>\n",
              "      <td>6</td>\n",
              "      <td>23233.77</td>\n",
              "    </tr>\n",
              "    <tr>\n",
              "      <th>2</th>\n",
              "      <td>1000</td>\n",
              "      <td>7</td>\n",
              "      <td>14003.64</td>\n",
              "    </tr>\n",
              "    <tr>\n",
              "      <th>3</th>\n",
              "      <td>1000</td>\n",
              "      <td>8</td>\n",
              "      <td>14055.93</td>\n",
              "    </tr>\n",
              "    <tr>\n",
              "      <th>4</th>\n",
              "      <td>1000</td>\n",
              "      <td>9</td>\n",
              "      <td>14568.91</td>\n",
              "    </tr>\n",
              "  </tbody>\n",
              "</table>\n",
              "</div>\n",
              "      <button class=\"colab-df-convert\" onclick=\"convertToInteractive('df-37a47e0c-1e25-4dc7-b9ed-2d9d819d5494')\"\n",
              "              title=\"Convert this dataframe to an interactive table.\"\n",
              "              style=\"display:none;\">\n",
              "        \n",
              "  <svg xmlns=\"http://www.w3.org/2000/svg\" height=\"24px\"viewBox=\"0 0 24 24\"\n",
              "       width=\"24px\">\n",
              "    <path d=\"M0 0h24v24H0V0z\" fill=\"none\"/>\n",
              "    <path d=\"M18.56 5.44l.94 2.06.94-2.06 2.06-.94-2.06-.94-.94-2.06-.94 2.06-2.06.94zm-11 1L8.5 8.5l.94-2.06 2.06-.94-2.06-.94L8.5 2.5l-.94 2.06-2.06.94zm10 10l.94 2.06.94-2.06 2.06-.94-2.06-.94-.94-2.06-.94 2.06-2.06.94z\"/><path d=\"M17.41 7.96l-1.37-1.37c-.4-.4-.92-.59-1.43-.59-.52 0-1.04.2-1.43.59L10.3 9.45l-7.72 7.72c-.78.78-.78 2.05 0 2.83L4 21.41c.39.39.9.59 1.41.59.51 0 1.02-.2 1.41-.59l7.78-7.78 2.81-2.81c.8-.78.8-2.07 0-2.86zM5.41 20L4 18.59l7.72-7.72 1.47 1.35L5.41 20z\"/>\n",
              "  </svg>\n",
              "      </button>\n",
              "      \n",
              "  <style>\n",
              "    .colab-df-container {\n",
              "      display:flex;\n",
              "      flex-wrap:wrap;\n",
              "      gap: 12px;\n",
              "    }\n",
              "\n",
              "    .colab-df-convert {\n",
              "      background-color: #E8F0FE;\n",
              "      border: none;\n",
              "      border-radius: 50%;\n",
              "      cursor: pointer;\n",
              "      display: none;\n",
              "      fill: #1967D2;\n",
              "      height: 32px;\n",
              "      padding: 0 0 0 0;\n",
              "      width: 32px;\n",
              "    }\n",
              "\n",
              "    .colab-df-convert:hover {\n",
              "      background-color: #E2EBFA;\n",
              "      box-shadow: 0px 1px 2px rgba(60, 64, 67, 0.3), 0px 1px 3px 1px rgba(60, 64, 67, 0.15);\n",
              "      fill: #174EA6;\n",
              "    }\n",
              "\n",
              "    [theme=dark] .colab-df-convert {\n",
              "      background-color: #3B4455;\n",
              "      fill: #D2E3FC;\n",
              "    }\n",
              "\n",
              "    [theme=dark] .colab-df-convert:hover {\n",
              "      background-color: #434B5C;\n",
              "      box-shadow: 0px 1px 3px 1px rgba(0, 0, 0, 0.15);\n",
              "      filter: drop-shadow(0px 1px 2px rgba(0, 0, 0, 0.3));\n",
              "      fill: #FFFFFF;\n",
              "    }\n",
              "  </style>\n",
              "\n",
              "      <script>\n",
              "        const buttonEl =\n",
              "          document.querySelector('#df-37a47e0c-1e25-4dc7-b9ed-2d9d819d5494 button.colab-df-convert');\n",
              "        buttonEl.style.display =\n",
              "          google.colab.kernel.accessAllowed ? 'block' : 'none';\n",
              "\n",
              "        async function convertToInteractive(key) {\n",
              "          const element = document.querySelector('#df-37a47e0c-1e25-4dc7-b9ed-2d9d819d5494');\n",
              "          const dataTable =\n",
              "            await google.colab.kernel.invokeFunction('convertToInteractive',\n",
              "                                                     [key], {});\n",
              "          if (!dataTable) return;\n",
              "\n",
              "          const docLinkHtml = 'Like what you see? Visit the ' +\n",
              "            '<a target=\"_blank\" href=https://colab.research.google.com/notebooks/data_table.ipynb>data table notebook</a>'\n",
              "            + ' to learn more about interactive tables.';\n",
              "          element.innerHTML = '';\n",
              "          dataTable['output_type'] = 'display_data';\n",
              "          await google.colab.output.renderOutput(dataTable, element);\n",
              "          const docLink = document.createElement('div');\n",
              "          docLink.innerHTML = docLinkHtml;\n",
              "          element.appendChild(docLink);\n",
              "        }\n",
              "      </script>\n",
              "    </div>\n",
              "  </div>\n",
              "  "
            ]
          },
          "metadata": {},
          "execution_count": 138
        }
      ],
      "source": [
        "#Выделим месяц использования интернета в датасете internet и сформируем сводную таблицу internet_month с объемом израсходованного интернет-трафика по месяцам \n",
        "internet['month'] = pd.DatetimeIndex(internet['session_date']).month\n",
        "internet_month = internet.groupby(['user_id', 'month'])['mb_used'].agg(['sum']).reset_index()\n",
        "internet_month.columns = ['user_id', 'month' , 'mb_per_month']\n",
        "\n",
        "internet_month.head()"
      ]
    },
    {
      "cell_type": "markdown",
      "id": "d725c79f",
      "metadata": {
        "id": "d725c79f"
      },
      "source": [
        "В примечании сказано, что для веб-трафика отдельные сессии не считаются. Вместо этого общая сумма за месяц округляется в бо́льшую сторону. Если абонент использует 1025 мегабайт в этом месяце, с него возьмут плату за 2 гигабайта.\n",
        "\n",
        "Поэтому округлите полученные результаты объема использованного траффика в большую сторону до целого.\n"
      ]
    },
    {
      "cell_type": "code",
      "execution_count": null,
      "id": "7f02707d",
      "metadata": {
        "id": "7f02707d"
      },
      "outputs": [],
      "source": [
        "# Напишем функции для выполнения округления вверх\n",
        "def int_th(num):\n",
        "    num = math.ceil(num / 1024)\n",
        "    return num\n",
        "\n",
        "def int_r(num):\n",
        "    num = math.ceil(num)\n",
        "    return num"
      ]
    },
    {
      "cell_type": "code",
      "execution_count": null,
      "id": "243ab978",
      "metadata": {
        "id": "243ab978",
        "colab": {
          "base_uri": "https://localhost:8080/",
          "height": 206
        },
        "outputId": "e711d050-5b1a-4a83-9ea0-0f486589c26f"
      },
      "outputs": [
        {
          "output_type": "execute_result",
          "data": {
            "text/plain": [
              "   user_id  month  mb_per_month  gb_per_month\n",
              "0     1000      5          2254             3\n",
              "1     1000      6         23234            23\n",
              "2     1000      7         14004            14\n",
              "3     1000      8         14056            14\n",
              "4     1000      9         14569            15"
            ],
            "text/html": [
              "\n",
              "  <div id=\"df-f839512e-baed-40af-83eb-1a3876530259\">\n",
              "    <div class=\"colab-df-container\">\n",
              "      <div>\n",
              "<style scoped>\n",
              "    .dataframe tbody tr th:only-of-type {\n",
              "        vertical-align: middle;\n",
              "    }\n",
              "\n",
              "    .dataframe tbody tr th {\n",
              "        vertical-align: top;\n",
              "    }\n",
              "\n",
              "    .dataframe thead th {\n",
              "        text-align: right;\n",
              "    }\n",
              "</style>\n",
              "<table border=\"1\" class=\"dataframe\">\n",
              "  <thead>\n",
              "    <tr style=\"text-align: right;\">\n",
              "      <th></th>\n",
              "      <th>user_id</th>\n",
              "      <th>month</th>\n",
              "      <th>mb_per_month</th>\n",
              "      <th>gb_per_month</th>\n",
              "    </tr>\n",
              "  </thead>\n",
              "  <tbody>\n",
              "    <tr>\n",
              "      <th>0</th>\n",
              "      <td>1000</td>\n",
              "      <td>5</td>\n",
              "      <td>2254</td>\n",
              "      <td>3</td>\n",
              "    </tr>\n",
              "    <tr>\n",
              "      <th>1</th>\n",
              "      <td>1000</td>\n",
              "      <td>6</td>\n",
              "      <td>23234</td>\n",
              "      <td>23</td>\n",
              "    </tr>\n",
              "    <tr>\n",
              "      <th>2</th>\n",
              "      <td>1000</td>\n",
              "      <td>7</td>\n",
              "      <td>14004</td>\n",
              "      <td>14</td>\n",
              "    </tr>\n",
              "    <tr>\n",
              "      <th>3</th>\n",
              "      <td>1000</td>\n",
              "      <td>8</td>\n",
              "      <td>14056</td>\n",
              "      <td>14</td>\n",
              "    </tr>\n",
              "    <tr>\n",
              "      <th>4</th>\n",
              "      <td>1000</td>\n",
              "      <td>9</td>\n",
              "      <td>14569</td>\n",
              "      <td>15</td>\n",
              "    </tr>\n",
              "  </tbody>\n",
              "</table>\n",
              "</div>\n",
              "      <button class=\"colab-df-convert\" onclick=\"convertToInteractive('df-f839512e-baed-40af-83eb-1a3876530259')\"\n",
              "              title=\"Convert this dataframe to an interactive table.\"\n",
              "              style=\"display:none;\">\n",
              "        \n",
              "  <svg xmlns=\"http://www.w3.org/2000/svg\" height=\"24px\"viewBox=\"0 0 24 24\"\n",
              "       width=\"24px\">\n",
              "    <path d=\"M0 0h24v24H0V0z\" fill=\"none\"/>\n",
              "    <path d=\"M18.56 5.44l.94 2.06.94-2.06 2.06-.94-2.06-.94-.94-2.06-.94 2.06-2.06.94zm-11 1L8.5 8.5l.94-2.06 2.06-.94-2.06-.94L8.5 2.5l-.94 2.06-2.06.94zm10 10l.94 2.06.94-2.06 2.06-.94-2.06-.94-.94-2.06-.94 2.06-2.06.94z\"/><path d=\"M17.41 7.96l-1.37-1.37c-.4-.4-.92-.59-1.43-.59-.52 0-1.04.2-1.43.59L10.3 9.45l-7.72 7.72c-.78.78-.78 2.05 0 2.83L4 21.41c.39.39.9.59 1.41.59.51 0 1.02-.2 1.41-.59l7.78-7.78 2.81-2.81c.8-.78.8-2.07 0-2.86zM5.41 20L4 18.59l7.72-7.72 1.47 1.35L5.41 20z\"/>\n",
              "  </svg>\n",
              "      </button>\n",
              "      \n",
              "  <style>\n",
              "    .colab-df-container {\n",
              "      display:flex;\n",
              "      flex-wrap:wrap;\n",
              "      gap: 12px;\n",
              "    }\n",
              "\n",
              "    .colab-df-convert {\n",
              "      background-color: #E8F0FE;\n",
              "      border: none;\n",
              "      border-radius: 50%;\n",
              "      cursor: pointer;\n",
              "      display: none;\n",
              "      fill: #1967D2;\n",
              "      height: 32px;\n",
              "      padding: 0 0 0 0;\n",
              "      width: 32px;\n",
              "    }\n",
              "\n",
              "    .colab-df-convert:hover {\n",
              "      background-color: #E2EBFA;\n",
              "      box-shadow: 0px 1px 2px rgba(60, 64, 67, 0.3), 0px 1px 3px 1px rgba(60, 64, 67, 0.15);\n",
              "      fill: #174EA6;\n",
              "    }\n",
              "\n",
              "    [theme=dark] .colab-df-convert {\n",
              "      background-color: #3B4455;\n",
              "      fill: #D2E3FC;\n",
              "    }\n",
              "\n",
              "    [theme=dark] .colab-df-convert:hover {\n",
              "      background-color: #434B5C;\n",
              "      box-shadow: 0px 1px 3px 1px rgba(0, 0, 0, 0.15);\n",
              "      filter: drop-shadow(0px 1px 2px rgba(0, 0, 0, 0.3));\n",
              "      fill: #FFFFFF;\n",
              "    }\n",
              "  </style>\n",
              "\n",
              "      <script>\n",
              "        const buttonEl =\n",
              "          document.querySelector('#df-f839512e-baed-40af-83eb-1a3876530259 button.colab-df-convert');\n",
              "        buttonEl.style.display =\n",
              "          google.colab.kernel.accessAllowed ? 'block' : 'none';\n",
              "\n",
              "        async function convertToInteractive(key) {\n",
              "          const element = document.querySelector('#df-f839512e-baed-40af-83eb-1a3876530259');\n",
              "          const dataTable =\n",
              "            await google.colab.kernel.invokeFunction('convertToInteractive',\n",
              "                                                     [key], {});\n",
              "          if (!dataTable) return;\n",
              "\n",
              "          const docLinkHtml = 'Like what you see? Visit the ' +\n",
              "            '<a target=\"_blank\" href=https://colab.research.google.com/notebooks/data_table.ipynb>data table notebook</a>'\n",
              "            + ' to learn more about interactive tables.';\n",
              "          element.innerHTML = '';\n",
              "          dataTable['output_type'] = 'display_data';\n",
              "          await google.colab.output.renderOutput(dataTable, element);\n",
              "          const docLink = document.createElement('div');\n",
              "          docLink.innerHTML = docLinkHtml;\n",
              "          element.appendChild(docLink);\n",
              "        }\n",
              "      </script>\n",
              "    </div>\n",
              "  </div>\n",
              "  "
            ]
          },
          "metadata": {},
          "execution_count": 140
        }
      ],
      "source": [
        "internet_month['mb_per_month'] = internet_month['mb_per_month'].apply(int_r).astype(int)\n",
        "internet_month['gb_per_month'] = internet_month['mb_per_month'].apply(int_th).astype(int)\n",
        "\n",
        "internet_month.head()"
      ]
    },
    {
      "cell_type": "markdown",
      "source": [
        "Выясните количество абонентов, которые совершают звонки, отправляют СМС и используют интернет. Используйте метод nunique()"
      ],
      "metadata": {
        "id": "VW9IoXyD0kJe"
      },
      "id": "VW9IoXyD0kJe"
    },
    {
      "cell_type": "code",
      "execution_count": null,
      "id": "656dd72c",
      "metadata": {
        "id": "656dd72c",
        "colab": {
          "base_uri": "https://localhost:8080/"
        },
        "outputId": "79b3726f-851b-4d76-c142-7febf984ecce"
      },
      "outputs": [
        {
          "output_type": "stream",
          "name": "stdout",
          "text": [
            "492\n",
            "426\n",
            "497\n"
          ]
        }
      ],
      "source": [
        "# Определим количество уникальных абонентов, которые совершали звонки, отправляли СМС, использовали интернет-траффик\n",
        "print(calls_month['user_id'].nunique())\n",
        "print(messages_month['user_id'].nunique())\n",
        "print(internet_month['user_id'].nunique())"
      ]
    },
    {
      "cell_type": "markdown",
      "id": "7e518f60",
      "metadata": {
        "id": "7e518f60"
      },
      "source": [
        "Видим, что не все абоненты совершали звонки, отправляли сообщения, использовали интернет-траффик"
      ]
    },
    {
      "cell_type": "markdown",
      "id": "6698f40d",
      "metadata": {
        "id": "6698f40d"
      },
      "source": [
        "Объединим все полученные таблицы со сведениямии об абонентах в один датафрейм abonents методом merge()."
      ]
    },
    {
      "cell_type": "code",
      "execution_count": null,
      "id": "e13552ce",
      "metadata": {
        "id": "e13552ce",
        "colab": {
          "base_uri": "https://localhost:8080/",
          "height": 206
        },
        "outputId": "26178c33-2b69-460b-f777-96152515d839"
      },
      "outputs": [
        {
          "output_type": "execute_result",
          "data": {
            "text/plain": [
              "   user_id  month  call_per_month  minute_per_month  messages_per_month  \\\n",
              "0     1000      5            22.0             159.0                22.0   \n",
              "1     1000      6            43.0             172.0                60.0   \n",
              "2     1000      7            47.0             340.0                75.0   \n",
              "3     1000      8            52.0             408.0                81.0   \n",
              "4     1000      9            58.0             466.0                57.0   \n",
              "\n",
              "   mb_per_month  gb_per_month  \n",
              "0        2254.0           3.0  \n",
              "1       23234.0          23.0  \n",
              "2       14004.0          14.0  \n",
              "3       14056.0          14.0  \n",
              "4       14569.0          15.0  "
            ],
            "text/html": [
              "\n",
              "  <div id=\"df-9df001d4-fcda-44f4-a718-312866172375\">\n",
              "    <div class=\"colab-df-container\">\n",
              "      <div>\n",
              "<style scoped>\n",
              "    .dataframe tbody tr th:only-of-type {\n",
              "        vertical-align: middle;\n",
              "    }\n",
              "\n",
              "    .dataframe tbody tr th {\n",
              "        vertical-align: top;\n",
              "    }\n",
              "\n",
              "    .dataframe thead th {\n",
              "        text-align: right;\n",
              "    }\n",
              "</style>\n",
              "<table border=\"1\" class=\"dataframe\">\n",
              "  <thead>\n",
              "    <tr style=\"text-align: right;\">\n",
              "      <th></th>\n",
              "      <th>user_id</th>\n",
              "      <th>month</th>\n",
              "      <th>call_per_month</th>\n",
              "      <th>minute_per_month</th>\n",
              "      <th>messages_per_month</th>\n",
              "      <th>mb_per_month</th>\n",
              "      <th>gb_per_month</th>\n",
              "    </tr>\n",
              "  </thead>\n",
              "  <tbody>\n",
              "    <tr>\n",
              "      <th>0</th>\n",
              "      <td>1000</td>\n",
              "      <td>5</td>\n",
              "      <td>22.0</td>\n",
              "      <td>159.0</td>\n",
              "      <td>22.0</td>\n",
              "      <td>2254.0</td>\n",
              "      <td>3.0</td>\n",
              "    </tr>\n",
              "    <tr>\n",
              "      <th>1</th>\n",
              "      <td>1000</td>\n",
              "      <td>6</td>\n",
              "      <td>43.0</td>\n",
              "      <td>172.0</td>\n",
              "      <td>60.0</td>\n",
              "      <td>23234.0</td>\n",
              "      <td>23.0</td>\n",
              "    </tr>\n",
              "    <tr>\n",
              "      <th>2</th>\n",
              "      <td>1000</td>\n",
              "      <td>7</td>\n",
              "      <td>47.0</td>\n",
              "      <td>340.0</td>\n",
              "      <td>75.0</td>\n",
              "      <td>14004.0</td>\n",
              "      <td>14.0</td>\n",
              "    </tr>\n",
              "    <tr>\n",
              "      <th>3</th>\n",
              "      <td>1000</td>\n",
              "      <td>8</td>\n",
              "      <td>52.0</td>\n",
              "      <td>408.0</td>\n",
              "      <td>81.0</td>\n",
              "      <td>14056.0</td>\n",
              "      <td>14.0</td>\n",
              "    </tr>\n",
              "    <tr>\n",
              "      <th>4</th>\n",
              "      <td>1000</td>\n",
              "      <td>9</td>\n",
              "      <td>58.0</td>\n",
              "      <td>466.0</td>\n",
              "      <td>57.0</td>\n",
              "      <td>14569.0</td>\n",
              "      <td>15.0</td>\n",
              "    </tr>\n",
              "  </tbody>\n",
              "</table>\n",
              "</div>\n",
              "      <button class=\"colab-df-convert\" onclick=\"convertToInteractive('df-9df001d4-fcda-44f4-a718-312866172375')\"\n",
              "              title=\"Convert this dataframe to an interactive table.\"\n",
              "              style=\"display:none;\">\n",
              "        \n",
              "  <svg xmlns=\"http://www.w3.org/2000/svg\" height=\"24px\"viewBox=\"0 0 24 24\"\n",
              "       width=\"24px\">\n",
              "    <path d=\"M0 0h24v24H0V0z\" fill=\"none\"/>\n",
              "    <path d=\"M18.56 5.44l.94 2.06.94-2.06 2.06-.94-2.06-.94-.94-2.06-.94 2.06-2.06.94zm-11 1L8.5 8.5l.94-2.06 2.06-.94-2.06-.94L8.5 2.5l-.94 2.06-2.06.94zm10 10l.94 2.06.94-2.06 2.06-.94-2.06-.94-.94-2.06-.94 2.06-2.06.94z\"/><path d=\"M17.41 7.96l-1.37-1.37c-.4-.4-.92-.59-1.43-.59-.52 0-1.04.2-1.43.59L10.3 9.45l-7.72 7.72c-.78.78-.78 2.05 0 2.83L4 21.41c.39.39.9.59 1.41.59.51 0 1.02-.2 1.41-.59l7.78-7.78 2.81-2.81c.8-.78.8-2.07 0-2.86zM5.41 20L4 18.59l7.72-7.72 1.47 1.35L5.41 20z\"/>\n",
              "  </svg>\n",
              "      </button>\n",
              "      \n",
              "  <style>\n",
              "    .colab-df-container {\n",
              "      display:flex;\n",
              "      flex-wrap:wrap;\n",
              "      gap: 12px;\n",
              "    }\n",
              "\n",
              "    .colab-df-convert {\n",
              "      background-color: #E8F0FE;\n",
              "      border: none;\n",
              "      border-radius: 50%;\n",
              "      cursor: pointer;\n",
              "      display: none;\n",
              "      fill: #1967D2;\n",
              "      height: 32px;\n",
              "      padding: 0 0 0 0;\n",
              "      width: 32px;\n",
              "    }\n",
              "\n",
              "    .colab-df-convert:hover {\n",
              "      background-color: #E2EBFA;\n",
              "      box-shadow: 0px 1px 2px rgba(60, 64, 67, 0.3), 0px 1px 3px 1px rgba(60, 64, 67, 0.15);\n",
              "      fill: #174EA6;\n",
              "    }\n",
              "\n",
              "    [theme=dark] .colab-df-convert {\n",
              "      background-color: #3B4455;\n",
              "      fill: #D2E3FC;\n",
              "    }\n",
              "\n",
              "    [theme=dark] .colab-df-convert:hover {\n",
              "      background-color: #434B5C;\n",
              "      box-shadow: 0px 1px 3px 1px rgba(0, 0, 0, 0.15);\n",
              "      filter: drop-shadow(0px 1px 2px rgba(0, 0, 0, 0.3));\n",
              "      fill: #FFFFFF;\n",
              "    }\n",
              "  </style>\n",
              "\n",
              "      <script>\n",
              "        const buttonEl =\n",
              "          document.querySelector('#df-9df001d4-fcda-44f4-a718-312866172375 button.colab-df-convert');\n",
              "        buttonEl.style.display =\n",
              "          google.colab.kernel.accessAllowed ? 'block' : 'none';\n",
              "\n",
              "        async function convertToInteractive(key) {\n",
              "          const element = document.querySelector('#df-9df001d4-fcda-44f4-a718-312866172375');\n",
              "          const dataTable =\n",
              "            await google.colab.kernel.invokeFunction('convertToInteractive',\n",
              "                                                     [key], {});\n",
              "          if (!dataTable) return;\n",
              "\n",
              "          const docLinkHtml = 'Like what you see? Visit the ' +\n",
              "            '<a target=\"_blank\" href=https://colab.research.google.com/notebooks/data_table.ipynb>data table notebook</a>'\n",
              "            + ' to learn more about interactive tables.';\n",
              "          element.innerHTML = '';\n",
              "          dataTable['output_type'] = 'display_data';\n",
              "          await google.colab.output.renderOutput(dataTable, element);\n",
              "          const docLink = document.createElement('div');\n",
              "          docLink.innerHTML = docLinkHtml;\n",
              "          element.appendChild(docLink);\n",
              "        }\n",
              "      </script>\n",
              "    </div>\n",
              "  </div>\n",
              "  "
            ]
          },
          "metadata": {},
          "execution_count": 142
        }
      ],
      "source": [
        "abonents = pd.merge(calls_month, messages_month, how ='outer', on = ['user_id', 'month'])\n",
        "abonents = pd.merge(abonents, internet_month, how ='outer', on = ['user_id', 'month'])\n",
        "abonents.head()"
      ]
    },
    {
      "cell_type": "markdown",
      "id": "049e05dd",
      "metadata": {
        "id": "049e05dd"
      },
      "source": [
        "Добавим в этот датафрейм сведения о пользователях из таблицы users"
      ]
    },
    {
      "cell_type": "code",
      "execution_count": null,
      "id": "77ff4fa3",
      "metadata": {
        "id": "77ff4fa3",
        "colab": {
          "base_uri": "https://localhost:8080/"
        },
        "outputId": "a6662ffc-ae18-41ae-a0e8-9bf4138034e7"
      },
      "outputs": [
        {
          "output_type": "execute_result",
          "data": {
            "text/plain": [
              "Index(['user_id', 'age', 'churn_date', 'city', 'first_name', 'last_name',\n",
              "       'reg_date', 'tariff'],\n",
              "      dtype='object')"
            ]
          },
          "metadata": {},
          "execution_count": 143
        }
      ],
      "source": [
        "users.columns"
      ]
    },
    {
      "cell_type": "code",
      "source": [
        "user1 = users.loc[:, ['user_id', 'city', 'tariff']]\n",
        "\n",
        "abonents = pd.merge(abonents, user1, how ='outer', on = ['user_id'])\n",
        "abonents"
      ],
      "metadata": {
        "colab": {
          "base_uri": "https://localhost:8080/",
          "height": 423
        },
        "id": "qrNWpPw8jRXV",
        "outputId": "48e023fc-8937-4f57-9b48-a5cf88d98a97"
      },
      "id": "qrNWpPw8jRXV",
      "execution_count": null,
      "outputs": [
        {
          "output_type": "execute_result",
          "data": {
            "text/plain": [
              "      user_id  month  call_per_month  minute_per_month  messages_per_month  \\\n",
              "0        1000    5.0            22.0             159.0                22.0   \n",
              "1        1000    6.0            43.0             172.0                60.0   \n",
              "2        1000    7.0            47.0             340.0                75.0   \n",
              "3        1000    8.0            52.0             408.0                81.0   \n",
              "4        1000    9.0            58.0             466.0                57.0   \n",
              "...       ...    ...             ...               ...                 ...   \n",
              "3211     1489   10.0             NaN               NaN                21.0   \n",
              "3212     1489   11.0             NaN               NaN                20.0   \n",
              "3213     1489   12.0             NaN               NaN                35.0   \n",
              "3214     1128    NaN             NaN               NaN                 NaN   \n",
              "3215     1371    NaN             NaN               NaN                 NaN   \n",
              "\n",
              "      mb_per_month  gb_per_month             city tariff  \n",
              "0           2254.0           3.0        Краснодар  ultra  \n",
              "1          23234.0          23.0        Краснодар  ultra  \n",
              "2          14004.0          14.0        Краснодар  ultra  \n",
              "3          14056.0          14.0        Краснодар  ultra  \n",
              "4          14569.0          15.0        Краснодар  ultra  \n",
              "...            ...           ...              ...    ...  \n",
              "3211       19560.0          20.0  Санкт-Петербург  smart  \n",
              "3212       17492.0          18.0  Санкт-Петербург  smart  \n",
              "3213       17323.0          17.0  Санкт-Петербург  smart  \n",
              "3214           NaN           NaN         Волжский  ultra  \n",
              "3215           NaN           NaN             Омск  smart  \n",
              "\n",
              "[3216 rows x 9 columns]"
            ],
            "text/html": [
              "\n",
              "  <div id=\"df-8ca460c2-5b65-4686-824e-8ab4a15303f4\">\n",
              "    <div class=\"colab-df-container\">\n",
              "      <div>\n",
              "<style scoped>\n",
              "    .dataframe tbody tr th:only-of-type {\n",
              "        vertical-align: middle;\n",
              "    }\n",
              "\n",
              "    .dataframe tbody tr th {\n",
              "        vertical-align: top;\n",
              "    }\n",
              "\n",
              "    .dataframe thead th {\n",
              "        text-align: right;\n",
              "    }\n",
              "</style>\n",
              "<table border=\"1\" class=\"dataframe\">\n",
              "  <thead>\n",
              "    <tr style=\"text-align: right;\">\n",
              "      <th></th>\n",
              "      <th>user_id</th>\n",
              "      <th>month</th>\n",
              "      <th>call_per_month</th>\n",
              "      <th>minute_per_month</th>\n",
              "      <th>messages_per_month</th>\n",
              "      <th>mb_per_month</th>\n",
              "      <th>gb_per_month</th>\n",
              "      <th>city</th>\n",
              "      <th>tariff</th>\n",
              "    </tr>\n",
              "  </thead>\n",
              "  <tbody>\n",
              "    <tr>\n",
              "      <th>0</th>\n",
              "      <td>1000</td>\n",
              "      <td>5.0</td>\n",
              "      <td>22.0</td>\n",
              "      <td>159.0</td>\n",
              "      <td>22.0</td>\n",
              "      <td>2254.0</td>\n",
              "      <td>3.0</td>\n",
              "      <td>Краснодар</td>\n",
              "      <td>ultra</td>\n",
              "    </tr>\n",
              "    <tr>\n",
              "      <th>1</th>\n",
              "      <td>1000</td>\n",
              "      <td>6.0</td>\n",
              "      <td>43.0</td>\n",
              "      <td>172.0</td>\n",
              "      <td>60.0</td>\n",
              "      <td>23234.0</td>\n",
              "      <td>23.0</td>\n",
              "      <td>Краснодар</td>\n",
              "      <td>ultra</td>\n",
              "    </tr>\n",
              "    <tr>\n",
              "      <th>2</th>\n",
              "      <td>1000</td>\n",
              "      <td>7.0</td>\n",
              "      <td>47.0</td>\n",
              "      <td>340.0</td>\n",
              "      <td>75.0</td>\n",
              "      <td>14004.0</td>\n",
              "      <td>14.0</td>\n",
              "      <td>Краснодар</td>\n",
              "      <td>ultra</td>\n",
              "    </tr>\n",
              "    <tr>\n",
              "      <th>3</th>\n",
              "      <td>1000</td>\n",
              "      <td>8.0</td>\n",
              "      <td>52.0</td>\n",
              "      <td>408.0</td>\n",
              "      <td>81.0</td>\n",
              "      <td>14056.0</td>\n",
              "      <td>14.0</td>\n",
              "      <td>Краснодар</td>\n",
              "      <td>ultra</td>\n",
              "    </tr>\n",
              "    <tr>\n",
              "      <th>4</th>\n",
              "      <td>1000</td>\n",
              "      <td>9.0</td>\n",
              "      <td>58.0</td>\n",
              "      <td>466.0</td>\n",
              "      <td>57.0</td>\n",
              "      <td>14569.0</td>\n",
              "      <td>15.0</td>\n",
              "      <td>Краснодар</td>\n",
              "      <td>ultra</td>\n",
              "    </tr>\n",
              "    <tr>\n",
              "      <th>...</th>\n",
              "      <td>...</td>\n",
              "      <td>...</td>\n",
              "      <td>...</td>\n",
              "      <td>...</td>\n",
              "      <td>...</td>\n",
              "      <td>...</td>\n",
              "      <td>...</td>\n",
              "      <td>...</td>\n",
              "      <td>...</td>\n",
              "    </tr>\n",
              "    <tr>\n",
              "      <th>3211</th>\n",
              "      <td>1489</td>\n",
              "      <td>10.0</td>\n",
              "      <td>NaN</td>\n",
              "      <td>NaN</td>\n",
              "      <td>21.0</td>\n",
              "      <td>19560.0</td>\n",
              "      <td>20.0</td>\n",
              "      <td>Санкт-Петербург</td>\n",
              "      <td>smart</td>\n",
              "    </tr>\n",
              "    <tr>\n",
              "      <th>3212</th>\n",
              "      <td>1489</td>\n",
              "      <td>11.0</td>\n",
              "      <td>NaN</td>\n",
              "      <td>NaN</td>\n",
              "      <td>20.0</td>\n",
              "      <td>17492.0</td>\n",
              "      <td>18.0</td>\n",
              "      <td>Санкт-Петербург</td>\n",
              "      <td>smart</td>\n",
              "    </tr>\n",
              "    <tr>\n",
              "      <th>3213</th>\n",
              "      <td>1489</td>\n",
              "      <td>12.0</td>\n",
              "      <td>NaN</td>\n",
              "      <td>NaN</td>\n",
              "      <td>35.0</td>\n",
              "      <td>17323.0</td>\n",
              "      <td>17.0</td>\n",
              "      <td>Санкт-Петербург</td>\n",
              "      <td>smart</td>\n",
              "    </tr>\n",
              "    <tr>\n",
              "      <th>3214</th>\n",
              "      <td>1128</td>\n",
              "      <td>NaN</td>\n",
              "      <td>NaN</td>\n",
              "      <td>NaN</td>\n",
              "      <td>NaN</td>\n",
              "      <td>NaN</td>\n",
              "      <td>NaN</td>\n",
              "      <td>Волжский</td>\n",
              "      <td>ultra</td>\n",
              "    </tr>\n",
              "    <tr>\n",
              "      <th>3215</th>\n",
              "      <td>1371</td>\n",
              "      <td>NaN</td>\n",
              "      <td>NaN</td>\n",
              "      <td>NaN</td>\n",
              "      <td>NaN</td>\n",
              "      <td>NaN</td>\n",
              "      <td>NaN</td>\n",
              "      <td>Омск</td>\n",
              "      <td>smart</td>\n",
              "    </tr>\n",
              "  </tbody>\n",
              "</table>\n",
              "<p>3216 rows × 9 columns</p>\n",
              "</div>\n",
              "      <button class=\"colab-df-convert\" onclick=\"convertToInteractive('df-8ca460c2-5b65-4686-824e-8ab4a15303f4')\"\n",
              "              title=\"Convert this dataframe to an interactive table.\"\n",
              "              style=\"display:none;\">\n",
              "        \n",
              "  <svg xmlns=\"http://www.w3.org/2000/svg\" height=\"24px\"viewBox=\"0 0 24 24\"\n",
              "       width=\"24px\">\n",
              "    <path d=\"M0 0h24v24H0V0z\" fill=\"none\"/>\n",
              "    <path d=\"M18.56 5.44l.94 2.06.94-2.06 2.06-.94-2.06-.94-.94-2.06-.94 2.06-2.06.94zm-11 1L8.5 8.5l.94-2.06 2.06-.94-2.06-.94L8.5 2.5l-.94 2.06-2.06.94zm10 10l.94 2.06.94-2.06 2.06-.94-2.06-.94-.94-2.06-.94 2.06-2.06.94z\"/><path d=\"M17.41 7.96l-1.37-1.37c-.4-.4-.92-.59-1.43-.59-.52 0-1.04.2-1.43.59L10.3 9.45l-7.72 7.72c-.78.78-.78 2.05 0 2.83L4 21.41c.39.39.9.59 1.41.59.51 0 1.02-.2 1.41-.59l7.78-7.78 2.81-2.81c.8-.78.8-2.07 0-2.86zM5.41 20L4 18.59l7.72-7.72 1.47 1.35L5.41 20z\"/>\n",
              "  </svg>\n",
              "      </button>\n",
              "      \n",
              "  <style>\n",
              "    .colab-df-container {\n",
              "      display:flex;\n",
              "      flex-wrap:wrap;\n",
              "      gap: 12px;\n",
              "    }\n",
              "\n",
              "    .colab-df-convert {\n",
              "      background-color: #E8F0FE;\n",
              "      border: none;\n",
              "      border-radius: 50%;\n",
              "      cursor: pointer;\n",
              "      display: none;\n",
              "      fill: #1967D2;\n",
              "      height: 32px;\n",
              "      padding: 0 0 0 0;\n",
              "      width: 32px;\n",
              "    }\n",
              "\n",
              "    .colab-df-convert:hover {\n",
              "      background-color: #E2EBFA;\n",
              "      box-shadow: 0px 1px 2px rgba(60, 64, 67, 0.3), 0px 1px 3px 1px rgba(60, 64, 67, 0.15);\n",
              "      fill: #174EA6;\n",
              "    }\n",
              "\n",
              "    [theme=dark] .colab-df-convert {\n",
              "      background-color: #3B4455;\n",
              "      fill: #D2E3FC;\n",
              "    }\n",
              "\n",
              "    [theme=dark] .colab-df-convert:hover {\n",
              "      background-color: #434B5C;\n",
              "      box-shadow: 0px 1px 3px 1px rgba(0, 0, 0, 0.15);\n",
              "      filter: drop-shadow(0px 1px 2px rgba(0, 0, 0, 0.3));\n",
              "      fill: #FFFFFF;\n",
              "    }\n",
              "  </style>\n",
              "\n",
              "      <script>\n",
              "        const buttonEl =\n",
              "          document.querySelector('#df-8ca460c2-5b65-4686-824e-8ab4a15303f4 button.colab-df-convert');\n",
              "        buttonEl.style.display =\n",
              "          google.colab.kernel.accessAllowed ? 'block' : 'none';\n",
              "\n",
              "        async function convertToInteractive(key) {\n",
              "          const element = document.querySelector('#df-8ca460c2-5b65-4686-824e-8ab4a15303f4');\n",
              "          const dataTable =\n",
              "            await google.colab.kernel.invokeFunction('convertToInteractive',\n",
              "                                                     [key], {});\n",
              "          if (!dataTable) return;\n",
              "\n",
              "          const docLinkHtml = 'Like what you see? Visit the ' +\n",
              "            '<a target=\"_blank\" href=https://colab.research.google.com/notebooks/data_table.ipynb>data table notebook</a>'\n",
              "            + ' to learn more about interactive tables.';\n",
              "          element.innerHTML = '';\n",
              "          dataTable['output_type'] = 'display_data';\n",
              "          await google.colab.output.renderOutput(dataTable, element);\n",
              "          const docLink = document.createElement('div');\n",
              "          docLink.innerHTML = docLinkHtml;\n",
              "          element.appendChild(docLink);\n",
              "        }\n",
              "      </script>\n",
              "    </div>\n",
              "  </div>\n",
              "  "
            ]
          },
          "metadata": {},
          "execution_count": 144
        }
      ]
    },
    {
      "cell_type": "markdown",
      "source": [
        "Проверьте количество абонентов в полученной таблице методом nunique()"
      ],
      "metadata": {
        "id": "kWyRgNul1HJI"
      },
      "id": "kWyRgNul1HJI"
    },
    {
      "cell_type": "code",
      "execution_count": null,
      "id": "dff7bf3d",
      "metadata": {
        "id": "dff7bf3d",
        "colab": {
          "base_uri": "https://localhost:8080/"
        },
        "outputId": "b30fc397-a119-4499-c411-a3d8ba39d8b0"
      },
      "outputs": [
        {
          "output_type": "execute_result",
          "data": {
            "text/plain": [
              "500"
            ]
          },
          "metadata": {},
          "execution_count": 145
        }
      ],
      "source": [
        "abonents['user_id'].nunique()"
      ]
    },
    {
      "cell_type": "code",
      "execution_count": null,
      "id": "4e3aa871",
      "metadata": {
        "id": "4e3aa871",
        "colab": {
          "base_uri": "https://localhost:8080/"
        },
        "outputId": "42fced85-9dbe-4cd4-fcf9-4ce8d86d7bc6"
      },
      "outputs": [
        {
          "output_type": "stream",
          "name": "stdout",
          "text": [
            "2\n",
            "42\n",
            "499\n",
            "13\n"
          ]
        }
      ],
      "source": [
        "# Определите количество пропущенных значений в столбцах month, calls_per_month, messages_per_month, mb_per_month в таблице abonents\n",
        "print(abonents['month'].isna().sum())\n",
        "print(abonents['call_per_month'].isna().sum())\n",
        "print(abonents['messages_per_month'].isna().sum())\n",
        "print(abonents['mb_per_month'].isna().sum())"
      ]
    },
    {
      "cell_type": "code",
      "execution_count": null,
      "id": "f95d7504",
      "metadata": {
        "id": "f95d7504",
        "colab": {
          "base_uri": "https://localhost:8080/",
          "height": 112
        },
        "outputId": "d22fad0c-803a-49f3-9b91-4a98550a9609"
      },
      "outputs": [
        {
          "output_type": "execute_result",
          "data": {
            "text/plain": [
              "      user_id  month  call_per_month  minute_per_month  messages_per_month  \\\n",
              "3214     1128    NaN             NaN               NaN                 NaN   \n",
              "3215     1371    NaN             NaN               NaN                 NaN   \n",
              "\n",
              "      mb_per_month  gb_per_month      city tariff  \n",
              "3214           NaN           NaN  Волжский  ultra  \n",
              "3215           NaN           NaN      Омск  smart  "
            ],
            "text/html": [
              "\n",
              "  <div id=\"df-0c9d0da7-3587-4740-a52f-65d997cdfcb1\">\n",
              "    <div class=\"colab-df-container\">\n",
              "      <div>\n",
              "<style scoped>\n",
              "    .dataframe tbody tr th:only-of-type {\n",
              "        vertical-align: middle;\n",
              "    }\n",
              "\n",
              "    .dataframe tbody tr th {\n",
              "        vertical-align: top;\n",
              "    }\n",
              "\n",
              "    .dataframe thead th {\n",
              "        text-align: right;\n",
              "    }\n",
              "</style>\n",
              "<table border=\"1\" class=\"dataframe\">\n",
              "  <thead>\n",
              "    <tr style=\"text-align: right;\">\n",
              "      <th></th>\n",
              "      <th>user_id</th>\n",
              "      <th>month</th>\n",
              "      <th>call_per_month</th>\n",
              "      <th>minute_per_month</th>\n",
              "      <th>messages_per_month</th>\n",
              "      <th>mb_per_month</th>\n",
              "      <th>gb_per_month</th>\n",
              "      <th>city</th>\n",
              "      <th>tariff</th>\n",
              "    </tr>\n",
              "  </thead>\n",
              "  <tbody>\n",
              "    <tr>\n",
              "      <th>3214</th>\n",
              "      <td>1128</td>\n",
              "      <td>NaN</td>\n",
              "      <td>NaN</td>\n",
              "      <td>NaN</td>\n",
              "      <td>NaN</td>\n",
              "      <td>NaN</td>\n",
              "      <td>NaN</td>\n",
              "      <td>Волжский</td>\n",
              "      <td>ultra</td>\n",
              "    </tr>\n",
              "    <tr>\n",
              "      <th>3215</th>\n",
              "      <td>1371</td>\n",
              "      <td>NaN</td>\n",
              "      <td>NaN</td>\n",
              "      <td>NaN</td>\n",
              "      <td>NaN</td>\n",
              "      <td>NaN</td>\n",
              "      <td>NaN</td>\n",
              "      <td>Омск</td>\n",
              "      <td>smart</td>\n",
              "    </tr>\n",
              "  </tbody>\n",
              "</table>\n",
              "</div>\n",
              "      <button class=\"colab-df-convert\" onclick=\"convertToInteractive('df-0c9d0da7-3587-4740-a52f-65d997cdfcb1')\"\n",
              "              title=\"Convert this dataframe to an interactive table.\"\n",
              "              style=\"display:none;\">\n",
              "        \n",
              "  <svg xmlns=\"http://www.w3.org/2000/svg\" height=\"24px\"viewBox=\"0 0 24 24\"\n",
              "       width=\"24px\">\n",
              "    <path d=\"M0 0h24v24H0V0z\" fill=\"none\"/>\n",
              "    <path d=\"M18.56 5.44l.94 2.06.94-2.06 2.06-.94-2.06-.94-.94-2.06-.94 2.06-2.06.94zm-11 1L8.5 8.5l.94-2.06 2.06-.94-2.06-.94L8.5 2.5l-.94 2.06-2.06.94zm10 10l.94 2.06.94-2.06 2.06-.94-2.06-.94-.94-2.06-.94 2.06-2.06.94z\"/><path d=\"M17.41 7.96l-1.37-1.37c-.4-.4-.92-.59-1.43-.59-.52 0-1.04.2-1.43.59L10.3 9.45l-7.72 7.72c-.78.78-.78 2.05 0 2.83L4 21.41c.39.39.9.59 1.41.59.51 0 1.02-.2 1.41-.59l7.78-7.78 2.81-2.81c.8-.78.8-2.07 0-2.86zM5.41 20L4 18.59l7.72-7.72 1.47 1.35L5.41 20z\"/>\n",
              "  </svg>\n",
              "      </button>\n",
              "      \n",
              "  <style>\n",
              "    .colab-df-container {\n",
              "      display:flex;\n",
              "      flex-wrap:wrap;\n",
              "      gap: 12px;\n",
              "    }\n",
              "\n",
              "    .colab-df-convert {\n",
              "      background-color: #E8F0FE;\n",
              "      border: none;\n",
              "      border-radius: 50%;\n",
              "      cursor: pointer;\n",
              "      display: none;\n",
              "      fill: #1967D2;\n",
              "      height: 32px;\n",
              "      padding: 0 0 0 0;\n",
              "      width: 32px;\n",
              "    }\n",
              "\n",
              "    .colab-df-convert:hover {\n",
              "      background-color: #E2EBFA;\n",
              "      box-shadow: 0px 1px 2px rgba(60, 64, 67, 0.3), 0px 1px 3px 1px rgba(60, 64, 67, 0.15);\n",
              "      fill: #174EA6;\n",
              "    }\n",
              "\n",
              "    [theme=dark] .colab-df-convert {\n",
              "      background-color: #3B4455;\n",
              "      fill: #D2E3FC;\n",
              "    }\n",
              "\n",
              "    [theme=dark] .colab-df-convert:hover {\n",
              "      background-color: #434B5C;\n",
              "      box-shadow: 0px 1px 3px 1px rgba(0, 0, 0, 0.15);\n",
              "      filter: drop-shadow(0px 1px 2px rgba(0, 0, 0, 0.3));\n",
              "      fill: #FFFFFF;\n",
              "    }\n",
              "  </style>\n",
              "\n",
              "      <script>\n",
              "        const buttonEl =\n",
              "          document.querySelector('#df-0c9d0da7-3587-4740-a52f-65d997cdfcb1 button.colab-df-convert');\n",
              "        buttonEl.style.display =\n",
              "          google.colab.kernel.accessAllowed ? 'block' : 'none';\n",
              "\n",
              "        async function convertToInteractive(key) {\n",
              "          const element = document.querySelector('#df-0c9d0da7-3587-4740-a52f-65d997cdfcb1');\n",
              "          const dataTable =\n",
              "            await google.colab.kernel.invokeFunction('convertToInteractive',\n",
              "                                                     [key], {});\n",
              "          if (!dataTable) return;\n",
              "\n",
              "          const docLinkHtml = 'Like what you see? Visit the ' +\n",
              "            '<a target=\"_blank\" href=https://colab.research.google.com/notebooks/data_table.ipynb>data table notebook</a>'\n",
              "            + ' to learn more about interactive tables.';\n",
              "          element.innerHTML = '';\n",
              "          dataTable['output_type'] = 'display_data';\n",
              "          await google.colab.output.renderOutput(dataTable, element);\n",
              "          const docLink = document.createElement('div');\n",
              "          docLink.innerHTML = docLinkHtml;\n",
              "          element.appendChild(docLink);\n",
              "        }\n",
              "      </script>\n",
              "    </div>\n",
              "  </div>\n",
              "  "
            ]
          },
          "metadata": {},
          "execution_count": 147
        }
      ],
      "source": [
        "# Выясните, есть ли абоненты, которые не совершали звонки, не отправляли СМС, не использовали интернет-траффик\n",
        "abonents.loc[(abonents['call_per_month'].isna() == True) & (abonents['messages_per_month'].isna() == True) & (abonents['mb_per_month'].isna() == True)]"
      ]
    },
    {
      "cell_type": "markdown",
      "id": "e5b024ef",
      "metadata": {
        "id": "e5b024ef"
      },
      "source": [
        "Видим, что два абонента не пользовались ни интернетом, не отправляли сообщений и не совершали звонки. И столбец month для этих пользователей пуст. \n",
        "\n",
        "Проверьте дату подключения этих абонентов. Обратитесь к таблице users и проверьте reg_data для этих пользователей"
      ]
    },
    {
      "cell_type": "code",
      "execution_count": null,
      "id": "61ff2743",
      "metadata": {
        "id": "61ff2743",
        "colab": {
          "base_uri": "https://localhost:8080/",
          "height": 112
        },
        "outputId": "4265f76e-56b8-4aad-b7f1-2ade2d79ac69"
      },
      "outputs": [
        {
          "output_type": "execute_result",
          "data": {
            "text/plain": [
              "     user_id  age churn_date      city first_name last_name   reg_date tariff\n",
              "128     1128   51 2018-12-23  Волжский     Ксения    Агаева 2018-12-15  ultra\n",
              "371     1371   50 2018-12-30      Омск     Ириней  Трофимов 2018-12-25  smart"
            ],
            "text/html": [
              "\n",
              "  <div id=\"df-248d4ce4-7e59-4a7a-bcce-966505d1f2a2\">\n",
              "    <div class=\"colab-df-container\">\n",
              "      <div>\n",
              "<style scoped>\n",
              "    .dataframe tbody tr th:only-of-type {\n",
              "        vertical-align: middle;\n",
              "    }\n",
              "\n",
              "    .dataframe tbody tr th {\n",
              "        vertical-align: top;\n",
              "    }\n",
              "\n",
              "    .dataframe thead th {\n",
              "        text-align: right;\n",
              "    }\n",
              "</style>\n",
              "<table border=\"1\" class=\"dataframe\">\n",
              "  <thead>\n",
              "    <tr style=\"text-align: right;\">\n",
              "      <th></th>\n",
              "      <th>user_id</th>\n",
              "      <th>age</th>\n",
              "      <th>churn_date</th>\n",
              "      <th>city</th>\n",
              "      <th>first_name</th>\n",
              "      <th>last_name</th>\n",
              "      <th>reg_date</th>\n",
              "      <th>tariff</th>\n",
              "    </tr>\n",
              "  </thead>\n",
              "  <tbody>\n",
              "    <tr>\n",
              "      <th>128</th>\n",
              "      <td>1128</td>\n",
              "      <td>51</td>\n",
              "      <td>2018-12-23</td>\n",
              "      <td>Волжский</td>\n",
              "      <td>Ксения</td>\n",
              "      <td>Агаева</td>\n",
              "      <td>2018-12-15</td>\n",
              "      <td>ultra</td>\n",
              "    </tr>\n",
              "    <tr>\n",
              "      <th>371</th>\n",
              "      <td>1371</td>\n",
              "      <td>50</td>\n",
              "      <td>2018-12-30</td>\n",
              "      <td>Омск</td>\n",
              "      <td>Ириней</td>\n",
              "      <td>Трофимов</td>\n",
              "      <td>2018-12-25</td>\n",
              "      <td>smart</td>\n",
              "    </tr>\n",
              "  </tbody>\n",
              "</table>\n",
              "</div>\n",
              "      <button class=\"colab-df-convert\" onclick=\"convertToInteractive('df-248d4ce4-7e59-4a7a-bcce-966505d1f2a2')\"\n",
              "              title=\"Convert this dataframe to an interactive table.\"\n",
              "              style=\"display:none;\">\n",
              "        \n",
              "  <svg xmlns=\"http://www.w3.org/2000/svg\" height=\"24px\"viewBox=\"0 0 24 24\"\n",
              "       width=\"24px\">\n",
              "    <path d=\"M0 0h24v24H0V0z\" fill=\"none\"/>\n",
              "    <path d=\"M18.56 5.44l.94 2.06.94-2.06 2.06-.94-2.06-.94-.94-2.06-.94 2.06-2.06.94zm-11 1L8.5 8.5l.94-2.06 2.06-.94-2.06-.94L8.5 2.5l-.94 2.06-2.06.94zm10 10l.94 2.06.94-2.06 2.06-.94-2.06-.94-.94-2.06-.94 2.06-2.06.94z\"/><path d=\"M17.41 7.96l-1.37-1.37c-.4-.4-.92-.59-1.43-.59-.52 0-1.04.2-1.43.59L10.3 9.45l-7.72 7.72c-.78.78-.78 2.05 0 2.83L4 21.41c.39.39.9.59 1.41.59.51 0 1.02-.2 1.41-.59l7.78-7.78 2.81-2.81c.8-.78.8-2.07 0-2.86zM5.41 20L4 18.59l7.72-7.72 1.47 1.35L5.41 20z\"/>\n",
              "  </svg>\n",
              "      </button>\n",
              "      \n",
              "  <style>\n",
              "    .colab-df-container {\n",
              "      display:flex;\n",
              "      flex-wrap:wrap;\n",
              "      gap: 12px;\n",
              "    }\n",
              "\n",
              "    .colab-df-convert {\n",
              "      background-color: #E8F0FE;\n",
              "      border: none;\n",
              "      border-radius: 50%;\n",
              "      cursor: pointer;\n",
              "      display: none;\n",
              "      fill: #1967D2;\n",
              "      height: 32px;\n",
              "      padding: 0 0 0 0;\n",
              "      width: 32px;\n",
              "    }\n",
              "\n",
              "    .colab-df-convert:hover {\n",
              "      background-color: #E2EBFA;\n",
              "      box-shadow: 0px 1px 2px rgba(60, 64, 67, 0.3), 0px 1px 3px 1px rgba(60, 64, 67, 0.15);\n",
              "      fill: #174EA6;\n",
              "    }\n",
              "\n",
              "    [theme=dark] .colab-df-convert {\n",
              "      background-color: #3B4455;\n",
              "      fill: #D2E3FC;\n",
              "    }\n",
              "\n",
              "    [theme=dark] .colab-df-convert:hover {\n",
              "      background-color: #434B5C;\n",
              "      box-shadow: 0px 1px 3px 1px rgba(0, 0, 0, 0.15);\n",
              "      filter: drop-shadow(0px 1px 2px rgba(0, 0, 0, 0.3));\n",
              "      fill: #FFFFFF;\n",
              "    }\n",
              "  </style>\n",
              "\n",
              "      <script>\n",
              "        const buttonEl =\n",
              "          document.querySelector('#df-248d4ce4-7e59-4a7a-bcce-966505d1f2a2 button.colab-df-convert');\n",
              "        buttonEl.style.display =\n",
              "          google.colab.kernel.accessAllowed ? 'block' : 'none';\n",
              "\n",
              "        async function convertToInteractive(key) {\n",
              "          const element = document.querySelector('#df-248d4ce4-7e59-4a7a-bcce-966505d1f2a2');\n",
              "          const dataTable =\n",
              "            await google.colab.kernel.invokeFunction('convertToInteractive',\n",
              "                                                     [key], {});\n",
              "          if (!dataTable) return;\n",
              "\n",
              "          const docLinkHtml = 'Like what you see? Visit the ' +\n",
              "            '<a target=\"_blank\" href=https://colab.research.google.com/notebooks/data_table.ipynb>data table notebook</a>'\n",
              "            + ' to learn more about interactive tables.';\n",
              "          element.innerHTML = '';\n",
              "          dataTable['output_type'] = 'display_data';\n",
              "          await google.colab.output.renderOutput(dataTable, element);\n",
              "          const docLink = document.createElement('div');\n",
              "          docLink.innerHTML = docLinkHtml;\n",
              "          element.appendChild(docLink);\n",
              "        }\n",
              "      </script>\n",
              "    </div>\n",
              "  </div>\n",
              "  "
            ]
          },
          "metadata": {},
          "execution_count": 148
        }
      ],
      "source": [
        "users.query('user_id == 1128 or user_id == 1371')"
      ]
    },
    {
      "cell_type": "markdown",
      "id": "47814db4",
      "metadata": {
        "id": "47814db4"
      },
      "source": [
        "Эти абоненты были подключены в декабре, поэтому пропущенное значение в столбце month таблицы abonents замените на значение 12. \n",
        "\n",
        "Используйте метод fillna()"
      ]
    },
    {
      "cell_type": "code",
      "execution_count": null,
      "id": "ee094fed",
      "metadata": {
        "id": "ee094fed"
      },
      "outputs": [],
      "source": [
        "abonents['month'].fillna(12, inplace = True)"
      ]
    },
    {
      "cell_type": "code",
      "source": [
        "abonents.loc[(abonents['call_per_month'].isna() == True) & (abonents['messages_per_month'].isna() == True) & (abonents['mb_per_month'].isna() == True)]"
      ],
      "metadata": {
        "colab": {
          "base_uri": "https://localhost:8080/",
          "height": 112
        },
        "id": "FD5-eWpCm5zR",
        "outputId": "929b8f5b-77c0-4914-9874-9752178408f2"
      },
      "id": "FD5-eWpCm5zR",
      "execution_count": null,
      "outputs": [
        {
          "output_type": "execute_result",
          "data": {
            "text/plain": [
              "      user_id  month  call_per_month  minute_per_month  messages_per_month  \\\n",
              "3214     1128   12.0             NaN               NaN                 NaN   \n",
              "3215     1371   12.0             NaN               NaN                 NaN   \n",
              "\n",
              "      mb_per_month  gb_per_month      city tariff  \n",
              "3214           NaN           NaN  Волжский  ultra  \n",
              "3215           NaN           NaN      Омск  smart  "
            ],
            "text/html": [
              "\n",
              "  <div id=\"df-3d90d57d-0ef9-40f1-90b6-2d9a7b6826eb\">\n",
              "    <div class=\"colab-df-container\">\n",
              "      <div>\n",
              "<style scoped>\n",
              "    .dataframe tbody tr th:only-of-type {\n",
              "        vertical-align: middle;\n",
              "    }\n",
              "\n",
              "    .dataframe tbody tr th {\n",
              "        vertical-align: top;\n",
              "    }\n",
              "\n",
              "    .dataframe thead th {\n",
              "        text-align: right;\n",
              "    }\n",
              "</style>\n",
              "<table border=\"1\" class=\"dataframe\">\n",
              "  <thead>\n",
              "    <tr style=\"text-align: right;\">\n",
              "      <th></th>\n",
              "      <th>user_id</th>\n",
              "      <th>month</th>\n",
              "      <th>call_per_month</th>\n",
              "      <th>minute_per_month</th>\n",
              "      <th>messages_per_month</th>\n",
              "      <th>mb_per_month</th>\n",
              "      <th>gb_per_month</th>\n",
              "      <th>city</th>\n",
              "      <th>tariff</th>\n",
              "    </tr>\n",
              "  </thead>\n",
              "  <tbody>\n",
              "    <tr>\n",
              "      <th>3214</th>\n",
              "      <td>1128</td>\n",
              "      <td>12.0</td>\n",
              "      <td>NaN</td>\n",
              "      <td>NaN</td>\n",
              "      <td>NaN</td>\n",
              "      <td>NaN</td>\n",
              "      <td>NaN</td>\n",
              "      <td>Волжский</td>\n",
              "      <td>ultra</td>\n",
              "    </tr>\n",
              "    <tr>\n",
              "      <th>3215</th>\n",
              "      <td>1371</td>\n",
              "      <td>12.0</td>\n",
              "      <td>NaN</td>\n",
              "      <td>NaN</td>\n",
              "      <td>NaN</td>\n",
              "      <td>NaN</td>\n",
              "      <td>NaN</td>\n",
              "      <td>Омск</td>\n",
              "      <td>smart</td>\n",
              "    </tr>\n",
              "  </tbody>\n",
              "</table>\n",
              "</div>\n",
              "      <button class=\"colab-df-convert\" onclick=\"convertToInteractive('df-3d90d57d-0ef9-40f1-90b6-2d9a7b6826eb')\"\n",
              "              title=\"Convert this dataframe to an interactive table.\"\n",
              "              style=\"display:none;\">\n",
              "        \n",
              "  <svg xmlns=\"http://www.w3.org/2000/svg\" height=\"24px\"viewBox=\"0 0 24 24\"\n",
              "       width=\"24px\">\n",
              "    <path d=\"M0 0h24v24H0V0z\" fill=\"none\"/>\n",
              "    <path d=\"M18.56 5.44l.94 2.06.94-2.06 2.06-.94-2.06-.94-.94-2.06-.94 2.06-2.06.94zm-11 1L8.5 8.5l.94-2.06 2.06-.94-2.06-.94L8.5 2.5l-.94 2.06-2.06.94zm10 10l.94 2.06.94-2.06 2.06-.94-2.06-.94-.94-2.06-.94 2.06-2.06.94z\"/><path d=\"M17.41 7.96l-1.37-1.37c-.4-.4-.92-.59-1.43-.59-.52 0-1.04.2-1.43.59L10.3 9.45l-7.72 7.72c-.78.78-.78 2.05 0 2.83L4 21.41c.39.39.9.59 1.41.59.51 0 1.02-.2 1.41-.59l7.78-7.78 2.81-2.81c.8-.78.8-2.07 0-2.86zM5.41 20L4 18.59l7.72-7.72 1.47 1.35L5.41 20z\"/>\n",
              "  </svg>\n",
              "      </button>\n",
              "      \n",
              "  <style>\n",
              "    .colab-df-container {\n",
              "      display:flex;\n",
              "      flex-wrap:wrap;\n",
              "      gap: 12px;\n",
              "    }\n",
              "\n",
              "    .colab-df-convert {\n",
              "      background-color: #E8F0FE;\n",
              "      border: none;\n",
              "      border-radius: 50%;\n",
              "      cursor: pointer;\n",
              "      display: none;\n",
              "      fill: #1967D2;\n",
              "      height: 32px;\n",
              "      padding: 0 0 0 0;\n",
              "      width: 32px;\n",
              "    }\n",
              "\n",
              "    .colab-df-convert:hover {\n",
              "      background-color: #E2EBFA;\n",
              "      box-shadow: 0px 1px 2px rgba(60, 64, 67, 0.3), 0px 1px 3px 1px rgba(60, 64, 67, 0.15);\n",
              "      fill: #174EA6;\n",
              "    }\n",
              "\n",
              "    [theme=dark] .colab-df-convert {\n",
              "      background-color: #3B4455;\n",
              "      fill: #D2E3FC;\n",
              "    }\n",
              "\n",
              "    [theme=dark] .colab-df-convert:hover {\n",
              "      background-color: #434B5C;\n",
              "      box-shadow: 0px 1px 3px 1px rgba(0, 0, 0, 0.15);\n",
              "      filter: drop-shadow(0px 1px 2px rgba(0, 0, 0, 0.3));\n",
              "      fill: #FFFFFF;\n",
              "    }\n",
              "  </style>\n",
              "\n",
              "      <script>\n",
              "        const buttonEl =\n",
              "          document.querySelector('#df-3d90d57d-0ef9-40f1-90b6-2d9a7b6826eb button.colab-df-convert');\n",
              "        buttonEl.style.display =\n",
              "          google.colab.kernel.accessAllowed ? 'block' : 'none';\n",
              "\n",
              "        async function convertToInteractive(key) {\n",
              "          const element = document.querySelector('#df-3d90d57d-0ef9-40f1-90b6-2d9a7b6826eb');\n",
              "          const dataTable =\n",
              "            await google.colab.kernel.invokeFunction('convertToInteractive',\n",
              "                                                     [key], {});\n",
              "          if (!dataTable) return;\n",
              "\n",
              "          const docLinkHtml = 'Like what you see? Visit the ' +\n",
              "            '<a target=\"_blank\" href=https://colab.research.google.com/notebooks/data_table.ipynb>data table notebook</a>'\n",
              "            + ' to learn more about interactive tables.';\n",
              "          element.innerHTML = '';\n",
              "          dataTable['output_type'] = 'display_data';\n",
              "          await google.colab.output.renderOutput(dataTable, element);\n",
              "          const docLink = document.createElement('div');\n",
              "          docLink.innerHTML = docLinkHtml;\n",
              "          element.appendChild(docLink);\n",
              "        }\n",
              "      </script>\n",
              "    </div>\n",
              "  </div>\n",
              "  "
            ]
          },
          "metadata": {},
          "execution_count": 150
        }
      ]
    },
    {
      "cell_type": "markdown",
      "id": "2f8a6f7d",
      "metadata": {
        "id": "2f8a6f7d"
      },
      "source": [
        "Заполните отсутствующие значения в calls_per_month, minute_per_month, messages_per_month, gb_per_month значением 0. \n",
        "\n",
        "Используйте метод fillna()"
      ]
    },
    {
      "cell_type": "code",
      "execution_count": null,
      "id": "288dd83b",
      "metadata": {
        "id": "288dd83b"
      },
      "outputs": [],
      "source": [
        "for i in ['call_per_month', 'minute_per_month', 'messages_per_month', 'mb_per_month', 'gb_per_month']:\n",
        "  abonents[i].fillna(0, inplace = True) "
      ]
    },
    {
      "cell_type": "code",
      "execution_count": null,
      "id": "f48593bf",
      "metadata": {
        "id": "f48593bf",
        "colab": {
          "base_uri": "https://localhost:8080/"
        },
        "outputId": "6eb00fa5-7b49-4f2c-fcf6-f709236f5969"
      },
      "outputs": [
        {
          "output_type": "execute_result",
          "data": {
            "text/plain": [
              "user_id               0\n",
              "month                 0\n",
              "call_per_month        0\n",
              "minute_per_month      0\n",
              "messages_per_month    0\n",
              "mb_per_month          0\n",
              "gb_per_month          0\n",
              "city                  0\n",
              "tariff                0\n",
              "dtype: int64"
            ]
          },
          "metadata": {},
          "execution_count": 152
        }
      ],
      "source": [
        "abonents.isna().sum()"
      ]
    },
    {
      "cell_type": "code",
      "execution_count": null,
      "id": "4137a23e",
      "metadata": {
        "id": "4137a23e",
        "colab": {
          "base_uri": "https://localhost:8080/",
          "height": 206
        },
        "outputId": "1d5d56e2-7ee5-4fc2-ce3a-ef5671d87e43"
      },
      "outputs": [
        {
          "output_type": "execute_result",
          "data": {
            "text/plain": [
              "   user_id  month  call_per_month  minute_per_month  messages_per_month  \\\n",
              "0     1000    5.0            22.0             159.0                22.0   \n",
              "1     1000    6.0            43.0             172.0                60.0   \n",
              "2     1000    7.0            47.0             340.0                75.0   \n",
              "3     1000    8.0            52.0             408.0                81.0   \n",
              "4     1000    9.0            58.0             466.0                57.0   \n",
              "\n",
              "   mb_per_month  gb_per_month       city tariff  \n",
              "0        2254.0           3.0  Краснодар  ultra  \n",
              "1       23234.0          23.0  Краснодар  ultra  \n",
              "2       14004.0          14.0  Краснодар  ultra  \n",
              "3       14056.0          14.0  Краснодар  ultra  \n",
              "4       14569.0          15.0  Краснодар  ultra  "
            ],
            "text/html": [
              "\n",
              "  <div id=\"df-5d1985e1-6009-49ff-a1e0-238ab520d8cf\">\n",
              "    <div class=\"colab-df-container\">\n",
              "      <div>\n",
              "<style scoped>\n",
              "    .dataframe tbody tr th:only-of-type {\n",
              "        vertical-align: middle;\n",
              "    }\n",
              "\n",
              "    .dataframe tbody tr th {\n",
              "        vertical-align: top;\n",
              "    }\n",
              "\n",
              "    .dataframe thead th {\n",
              "        text-align: right;\n",
              "    }\n",
              "</style>\n",
              "<table border=\"1\" class=\"dataframe\">\n",
              "  <thead>\n",
              "    <tr style=\"text-align: right;\">\n",
              "      <th></th>\n",
              "      <th>user_id</th>\n",
              "      <th>month</th>\n",
              "      <th>call_per_month</th>\n",
              "      <th>minute_per_month</th>\n",
              "      <th>messages_per_month</th>\n",
              "      <th>mb_per_month</th>\n",
              "      <th>gb_per_month</th>\n",
              "      <th>city</th>\n",
              "      <th>tariff</th>\n",
              "    </tr>\n",
              "  </thead>\n",
              "  <tbody>\n",
              "    <tr>\n",
              "      <th>0</th>\n",
              "      <td>1000</td>\n",
              "      <td>5.0</td>\n",
              "      <td>22.0</td>\n",
              "      <td>159.0</td>\n",
              "      <td>22.0</td>\n",
              "      <td>2254.0</td>\n",
              "      <td>3.0</td>\n",
              "      <td>Краснодар</td>\n",
              "      <td>ultra</td>\n",
              "    </tr>\n",
              "    <tr>\n",
              "      <th>1</th>\n",
              "      <td>1000</td>\n",
              "      <td>6.0</td>\n",
              "      <td>43.0</td>\n",
              "      <td>172.0</td>\n",
              "      <td>60.0</td>\n",
              "      <td>23234.0</td>\n",
              "      <td>23.0</td>\n",
              "      <td>Краснодар</td>\n",
              "      <td>ultra</td>\n",
              "    </tr>\n",
              "    <tr>\n",
              "      <th>2</th>\n",
              "      <td>1000</td>\n",
              "      <td>7.0</td>\n",
              "      <td>47.0</td>\n",
              "      <td>340.0</td>\n",
              "      <td>75.0</td>\n",
              "      <td>14004.0</td>\n",
              "      <td>14.0</td>\n",
              "      <td>Краснодар</td>\n",
              "      <td>ultra</td>\n",
              "    </tr>\n",
              "    <tr>\n",
              "      <th>3</th>\n",
              "      <td>1000</td>\n",
              "      <td>8.0</td>\n",
              "      <td>52.0</td>\n",
              "      <td>408.0</td>\n",
              "      <td>81.0</td>\n",
              "      <td>14056.0</td>\n",
              "      <td>14.0</td>\n",
              "      <td>Краснодар</td>\n",
              "      <td>ultra</td>\n",
              "    </tr>\n",
              "    <tr>\n",
              "      <th>4</th>\n",
              "      <td>1000</td>\n",
              "      <td>9.0</td>\n",
              "      <td>58.0</td>\n",
              "      <td>466.0</td>\n",
              "      <td>57.0</td>\n",
              "      <td>14569.0</td>\n",
              "      <td>15.0</td>\n",
              "      <td>Краснодар</td>\n",
              "      <td>ultra</td>\n",
              "    </tr>\n",
              "  </tbody>\n",
              "</table>\n",
              "</div>\n",
              "      <button class=\"colab-df-convert\" onclick=\"convertToInteractive('df-5d1985e1-6009-49ff-a1e0-238ab520d8cf')\"\n",
              "              title=\"Convert this dataframe to an interactive table.\"\n",
              "              style=\"display:none;\">\n",
              "        \n",
              "  <svg xmlns=\"http://www.w3.org/2000/svg\" height=\"24px\"viewBox=\"0 0 24 24\"\n",
              "       width=\"24px\">\n",
              "    <path d=\"M0 0h24v24H0V0z\" fill=\"none\"/>\n",
              "    <path d=\"M18.56 5.44l.94 2.06.94-2.06 2.06-.94-2.06-.94-.94-2.06-.94 2.06-2.06.94zm-11 1L8.5 8.5l.94-2.06 2.06-.94-2.06-.94L8.5 2.5l-.94 2.06-2.06.94zm10 10l.94 2.06.94-2.06 2.06-.94-2.06-.94-.94-2.06-.94 2.06-2.06.94z\"/><path d=\"M17.41 7.96l-1.37-1.37c-.4-.4-.92-.59-1.43-.59-.52 0-1.04.2-1.43.59L10.3 9.45l-7.72 7.72c-.78.78-.78 2.05 0 2.83L4 21.41c.39.39.9.59 1.41.59.51 0 1.02-.2 1.41-.59l7.78-7.78 2.81-2.81c.8-.78.8-2.07 0-2.86zM5.41 20L4 18.59l7.72-7.72 1.47 1.35L5.41 20z\"/>\n",
              "  </svg>\n",
              "      </button>\n",
              "      \n",
              "  <style>\n",
              "    .colab-df-container {\n",
              "      display:flex;\n",
              "      flex-wrap:wrap;\n",
              "      gap: 12px;\n",
              "    }\n",
              "\n",
              "    .colab-df-convert {\n",
              "      background-color: #E8F0FE;\n",
              "      border: none;\n",
              "      border-radius: 50%;\n",
              "      cursor: pointer;\n",
              "      display: none;\n",
              "      fill: #1967D2;\n",
              "      height: 32px;\n",
              "      padding: 0 0 0 0;\n",
              "      width: 32px;\n",
              "    }\n",
              "\n",
              "    .colab-df-convert:hover {\n",
              "      background-color: #E2EBFA;\n",
              "      box-shadow: 0px 1px 2px rgba(60, 64, 67, 0.3), 0px 1px 3px 1px rgba(60, 64, 67, 0.15);\n",
              "      fill: #174EA6;\n",
              "    }\n",
              "\n",
              "    [theme=dark] .colab-df-convert {\n",
              "      background-color: #3B4455;\n",
              "      fill: #D2E3FC;\n",
              "    }\n",
              "\n",
              "    [theme=dark] .colab-df-convert:hover {\n",
              "      background-color: #434B5C;\n",
              "      box-shadow: 0px 1px 3px 1px rgba(0, 0, 0, 0.15);\n",
              "      filter: drop-shadow(0px 1px 2px rgba(0, 0, 0, 0.3));\n",
              "      fill: #FFFFFF;\n",
              "    }\n",
              "  </style>\n",
              "\n",
              "      <script>\n",
              "        const buttonEl =\n",
              "          document.querySelector('#df-5d1985e1-6009-49ff-a1e0-238ab520d8cf button.colab-df-convert');\n",
              "        buttonEl.style.display =\n",
              "          google.colab.kernel.accessAllowed ? 'block' : 'none';\n",
              "\n",
              "        async function convertToInteractive(key) {\n",
              "          const element = document.querySelector('#df-5d1985e1-6009-49ff-a1e0-238ab520d8cf');\n",
              "          const dataTable =\n",
              "            await google.colab.kernel.invokeFunction('convertToInteractive',\n",
              "                                                     [key], {});\n",
              "          if (!dataTable) return;\n",
              "\n",
              "          const docLinkHtml = 'Like what you see? Visit the ' +\n",
              "            '<a target=\"_blank\" href=https://colab.research.google.com/notebooks/data_table.ipynb>data table notebook</a>'\n",
              "            + ' to learn more about interactive tables.';\n",
              "          element.innerHTML = '';\n",
              "          dataTable['output_type'] = 'display_data';\n",
              "          await google.colab.output.renderOutput(dataTable, element);\n",
              "          const docLink = document.createElement('div');\n",
              "          docLink.innerHTML = docLinkHtml;\n",
              "          element.appendChild(docLink);\n",
              "        }\n",
              "      </script>\n",
              "    </div>\n",
              "  </div>\n",
              "  "
            ]
          },
          "metadata": {},
          "execution_count": 153
        }
      ],
      "source": [
        "abonents.head()"
      ]
    },
    {
      "cell_type": "code",
      "execution_count": null,
      "id": "e82a376e",
      "metadata": {
        "id": "e82a376e"
      },
      "outputs": [],
      "source": [
        "#Измените тип данных на целое в столбцах calls_per_month, minute_per_month, messages_per_month, mb_per_month, gb_per_month\n",
        "for i in ['month', 'call_per_month', 'minute_per_month', 'messages_per_month', 'mb_per_month', 'gb_per_month' ]:\n",
        "  abonents[i] = abonents[i].astype(int)"
      ]
    },
    {
      "cell_type": "code",
      "execution_count": null,
      "id": "66eb7879",
      "metadata": {
        "id": "66eb7879",
        "colab": {
          "base_uri": "https://localhost:8080/"
        },
        "outputId": "78951999-d476-4ca1-8a69-1357489ad0ed"
      },
      "outputs": [
        {
          "output_type": "execute_result",
          "data": {
            "text/plain": [
              "user_id                int64\n",
              "month                  int64\n",
              "call_per_month         int64\n",
              "minute_per_month       int64\n",
              "messages_per_month     int64\n",
              "mb_per_month           int64\n",
              "gb_per_month           int64\n",
              "city                  object\n",
              "tariff                object\n",
              "dtype: object"
            ]
          },
          "metadata": {},
          "execution_count": 155
        }
      ],
      "source": [
        "abonents.dtypes"
      ]
    },
    {
      "cell_type": "markdown",
      "id": "e1f6130b",
      "metadata": {
        "id": "e1f6130b"
      },
      "source": [
        "Добавьте в таблицу abonents сведения о помесячной выручке с каждого пользователя. Для этого обратитесь к таблице tariffs с описанием тарифных планов"
      ]
    },
    {
      "cell_type": "code",
      "execution_count": null,
      "id": "1b53be67",
      "metadata": {
        "id": "1b53be67",
        "colab": {
          "base_uri": "https://localhost:8080/",
          "height": 112
        },
        "outputId": "f03d77bc-1b9d-4d79-abb0-b7015c51d416"
      },
      "outputs": [
        {
          "output_type": "execute_result",
          "data": {
            "text/plain": [
              "   messages_included  mb_per_month_included  minutes_included  \\\n",
              "0                 50                  15360               500   \n",
              "1               1000                  30720              3000   \n",
              "\n",
              "   rub_monthly_fee  rub_per_gb  rub_per_message  rub_per_minute tariff_name  \n",
              "0              550         200                3               3       smart  \n",
              "1             1950         150                1               1       ultra  "
            ],
            "text/html": [
              "\n",
              "  <div id=\"df-bcdaaacc-1767-4d79-8b2b-9a0e8fc113c2\">\n",
              "    <div class=\"colab-df-container\">\n",
              "      <div>\n",
              "<style scoped>\n",
              "    .dataframe tbody tr th:only-of-type {\n",
              "        vertical-align: middle;\n",
              "    }\n",
              "\n",
              "    .dataframe tbody tr th {\n",
              "        vertical-align: top;\n",
              "    }\n",
              "\n",
              "    .dataframe thead th {\n",
              "        text-align: right;\n",
              "    }\n",
              "</style>\n",
              "<table border=\"1\" class=\"dataframe\">\n",
              "  <thead>\n",
              "    <tr style=\"text-align: right;\">\n",
              "      <th></th>\n",
              "      <th>messages_included</th>\n",
              "      <th>mb_per_month_included</th>\n",
              "      <th>minutes_included</th>\n",
              "      <th>rub_monthly_fee</th>\n",
              "      <th>rub_per_gb</th>\n",
              "      <th>rub_per_message</th>\n",
              "      <th>rub_per_minute</th>\n",
              "      <th>tariff_name</th>\n",
              "    </tr>\n",
              "  </thead>\n",
              "  <tbody>\n",
              "    <tr>\n",
              "      <th>0</th>\n",
              "      <td>50</td>\n",
              "      <td>15360</td>\n",
              "      <td>500</td>\n",
              "      <td>550</td>\n",
              "      <td>200</td>\n",
              "      <td>3</td>\n",
              "      <td>3</td>\n",
              "      <td>smart</td>\n",
              "    </tr>\n",
              "    <tr>\n",
              "      <th>1</th>\n",
              "      <td>1000</td>\n",
              "      <td>30720</td>\n",
              "      <td>3000</td>\n",
              "      <td>1950</td>\n",
              "      <td>150</td>\n",
              "      <td>1</td>\n",
              "      <td>1</td>\n",
              "      <td>ultra</td>\n",
              "    </tr>\n",
              "  </tbody>\n",
              "</table>\n",
              "</div>\n",
              "      <button class=\"colab-df-convert\" onclick=\"convertToInteractive('df-bcdaaacc-1767-4d79-8b2b-9a0e8fc113c2')\"\n",
              "              title=\"Convert this dataframe to an interactive table.\"\n",
              "              style=\"display:none;\">\n",
              "        \n",
              "  <svg xmlns=\"http://www.w3.org/2000/svg\" height=\"24px\"viewBox=\"0 0 24 24\"\n",
              "       width=\"24px\">\n",
              "    <path d=\"M0 0h24v24H0V0z\" fill=\"none\"/>\n",
              "    <path d=\"M18.56 5.44l.94 2.06.94-2.06 2.06-.94-2.06-.94-.94-2.06-.94 2.06-2.06.94zm-11 1L8.5 8.5l.94-2.06 2.06-.94-2.06-.94L8.5 2.5l-.94 2.06-2.06.94zm10 10l.94 2.06.94-2.06 2.06-.94-2.06-.94-.94-2.06-.94 2.06-2.06.94z\"/><path d=\"M17.41 7.96l-1.37-1.37c-.4-.4-.92-.59-1.43-.59-.52 0-1.04.2-1.43.59L10.3 9.45l-7.72 7.72c-.78.78-.78 2.05 0 2.83L4 21.41c.39.39.9.59 1.41.59.51 0 1.02-.2 1.41-.59l7.78-7.78 2.81-2.81c.8-.78.8-2.07 0-2.86zM5.41 20L4 18.59l7.72-7.72 1.47 1.35L5.41 20z\"/>\n",
              "  </svg>\n",
              "      </button>\n",
              "      \n",
              "  <style>\n",
              "    .colab-df-container {\n",
              "      display:flex;\n",
              "      flex-wrap:wrap;\n",
              "      gap: 12px;\n",
              "    }\n",
              "\n",
              "    .colab-df-convert {\n",
              "      background-color: #E8F0FE;\n",
              "      border: none;\n",
              "      border-radius: 50%;\n",
              "      cursor: pointer;\n",
              "      display: none;\n",
              "      fill: #1967D2;\n",
              "      height: 32px;\n",
              "      padding: 0 0 0 0;\n",
              "      width: 32px;\n",
              "    }\n",
              "\n",
              "    .colab-df-convert:hover {\n",
              "      background-color: #E2EBFA;\n",
              "      box-shadow: 0px 1px 2px rgba(60, 64, 67, 0.3), 0px 1px 3px 1px rgba(60, 64, 67, 0.15);\n",
              "      fill: #174EA6;\n",
              "    }\n",
              "\n",
              "    [theme=dark] .colab-df-convert {\n",
              "      background-color: #3B4455;\n",
              "      fill: #D2E3FC;\n",
              "    }\n",
              "\n",
              "    [theme=dark] .colab-df-convert:hover {\n",
              "      background-color: #434B5C;\n",
              "      box-shadow: 0px 1px 3px 1px rgba(0, 0, 0, 0.15);\n",
              "      filter: drop-shadow(0px 1px 2px rgba(0, 0, 0, 0.3));\n",
              "      fill: #FFFFFF;\n",
              "    }\n",
              "  </style>\n",
              "\n",
              "      <script>\n",
              "        const buttonEl =\n",
              "          document.querySelector('#df-bcdaaacc-1767-4d79-8b2b-9a0e8fc113c2 button.colab-df-convert');\n",
              "        buttonEl.style.display =\n",
              "          google.colab.kernel.accessAllowed ? 'block' : 'none';\n",
              "\n",
              "        async function convertToInteractive(key) {\n",
              "          const element = document.querySelector('#df-bcdaaacc-1767-4d79-8b2b-9a0e8fc113c2');\n",
              "          const dataTable =\n",
              "            await google.colab.kernel.invokeFunction('convertToInteractive',\n",
              "                                                     [key], {});\n",
              "          if (!dataTable) return;\n",
              "\n",
              "          const docLinkHtml = 'Like what you see? Visit the ' +\n",
              "            '<a target=\"_blank\" href=https://colab.research.google.com/notebooks/data_table.ipynb>data table notebook</a>'\n",
              "            + ' to learn more about interactive tables.';\n",
              "          element.innerHTML = '';\n",
              "          dataTable['output_type'] = 'display_data';\n",
              "          await google.colab.output.renderOutput(dataTable, element);\n",
              "          const docLink = document.createElement('div');\n",
              "          docLink.innerHTML = docLinkHtml;\n",
              "          element.appendChild(docLink);\n",
              "        }\n",
              "      </script>\n",
              "    </div>\n",
              "  </div>\n",
              "  "
            ]
          },
          "metadata": {},
          "execution_count": 156
        }
      ],
      "source": [
        "tariffs"
      ]
    },
    {
      "cell_type": "code",
      "execution_count": null,
      "id": "d8b355cf",
      "metadata": {
        "id": "d8b355cf"
      },
      "outputs": [],
      "source": [
        "def income_month(ab_month):\n",
        "        \n",
        "    if ab_month['tariff'] == 'smart':\n",
        "        \n",
        "        inc_calls = (ab_month['minute_per_month'] - tariffs.loc[0,'minutes_included']) * tariffs.loc[0,'rub_per_minute']\n",
        "        if inc_calls < 0 :\n",
        "            inc_calls = 0\n",
        "        \n",
        "        inc_mess = (ab_month['messages_per_month'] - tariffs.loc[0,'messages_included']) * tariffs.loc[0,'rub_per_message']\n",
        "        if inc_mess < 0 :\n",
        "            inc_mess = 0\n",
        "        \n",
        "        # int_r(num) - Функция округления вверх. Описывалась выше\n",
        "        inc_mb  = int_r((ab_month['mb_per_month'] - tariffs.loc[0,'mb_per_month_included'])/1024) * tariffs.loc[0,'rub_per_gb'] \n",
        "        if inc_mb < 0 :\n",
        "            inc_mb = 0\n",
        "             \n",
        "        inc = inc_calls + inc_mess + inc_mb + tariffs.loc[0,'rub_monthly_fee']\n",
        "        \n",
        "    else:\n",
        "        \n",
        "        inc_calls = (ab_month['minute_per_month'] - tariffs.loc[1,'minutes_included']) * tariffs.loc[1,'rub_per_minute']\n",
        "        if inc_calls < 0 :\n",
        "            inc_calls = 0\n",
        "        \n",
        "        inc_mess = (ab_month['messages_per_month'] - tariffs.loc[1,'messages_included']) * tariffs.loc[1,'rub_per_message']\n",
        "        if inc_mess < 0 :\n",
        "            inc_mess = 0\n",
        "        \n",
        "        inc_mb  = int_r((ab_month['mb_per_month'] - tariffs.loc[1,'mb_per_month_included'])/1024) * tariffs.loc[1,'rub_per_gb'] \n",
        "        if inc_mb < 0 :\n",
        "            inc_mb = 0\n",
        "             \n",
        "        inc = inc_calls + inc_mess + inc_mb + tariffs.loc[1,'rub_monthly_fee']\n",
        "    \n",
        "    return inc\n",
        "\n"
      ]
    },
    {
      "cell_type": "code",
      "execution_count": null,
      "id": "c2111231",
      "metadata": {
        "id": "c2111231",
        "colab": {
          "base_uri": "https://localhost:8080/",
          "height": 206
        },
        "outputId": "1b3f2ef1-383a-4258-c0d1-21025c93fdc4"
      },
      "outputs": [
        {
          "output_type": "execute_result",
          "data": {
            "text/plain": [
              "      user_id  month  call_per_month  minute_per_month  messages_per_month  \\\n",
              "3068     1480      9              58               305                  19   \n",
              "2132     1340      6              68               535                  14   \n",
              "1289     1204      2              43               367                   0   \n",
              "2449     1388     10              65               421                   0   \n",
              "2690     1423     12              34               219                  49   \n",
              "\n",
              "      mb_per_month  gb_per_month         city tariff  income  \n",
              "3068         13640            14  Новокузнецк  smart     550  \n",
              "2132         18911            19        Пенза  smart    1455  \n",
              "1289         19746            20       Москва  smart    1550  \n",
              "2449         26756            27      Вологда  smart    2950  \n",
              "2690         17072            17    Астрахань  smart     950  "
            ],
            "text/html": [
              "\n",
              "  <div id=\"df-53a2cc81-ab77-491f-8b1a-9bef98308f41\">\n",
              "    <div class=\"colab-df-container\">\n",
              "      <div>\n",
              "<style scoped>\n",
              "    .dataframe tbody tr th:only-of-type {\n",
              "        vertical-align: middle;\n",
              "    }\n",
              "\n",
              "    .dataframe tbody tr th {\n",
              "        vertical-align: top;\n",
              "    }\n",
              "\n",
              "    .dataframe thead th {\n",
              "        text-align: right;\n",
              "    }\n",
              "</style>\n",
              "<table border=\"1\" class=\"dataframe\">\n",
              "  <thead>\n",
              "    <tr style=\"text-align: right;\">\n",
              "      <th></th>\n",
              "      <th>user_id</th>\n",
              "      <th>month</th>\n",
              "      <th>call_per_month</th>\n",
              "      <th>minute_per_month</th>\n",
              "      <th>messages_per_month</th>\n",
              "      <th>mb_per_month</th>\n",
              "      <th>gb_per_month</th>\n",
              "      <th>city</th>\n",
              "      <th>tariff</th>\n",
              "      <th>income</th>\n",
              "    </tr>\n",
              "  </thead>\n",
              "  <tbody>\n",
              "    <tr>\n",
              "      <th>3068</th>\n",
              "      <td>1480</td>\n",
              "      <td>9</td>\n",
              "      <td>58</td>\n",
              "      <td>305</td>\n",
              "      <td>19</td>\n",
              "      <td>13640</td>\n",
              "      <td>14</td>\n",
              "      <td>Новокузнецк</td>\n",
              "      <td>smart</td>\n",
              "      <td>550</td>\n",
              "    </tr>\n",
              "    <tr>\n",
              "      <th>2132</th>\n",
              "      <td>1340</td>\n",
              "      <td>6</td>\n",
              "      <td>68</td>\n",
              "      <td>535</td>\n",
              "      <td>14</td>\n",
              "      <td>18911</td>\n",
              "      <td>19</td>\n",
              "      <td>Пенза</td>\n",
              "      <td>smart</td>\n",
              "      <td>1455</td>\n",
              "    </tr>\n",
              "    <tr>\n",
              "      <th>1289</th>\n",
              "      <td>1204</td>\n",
              "      <td>2</td>\n",
              "      <td>43</td>\n",
              "      <td>367</td>\n",
              "      <td>0</td>\n",
              "      <td>19746</td>\n",
              "      <td>20</td>\n",
              "      <td>Москва</td>\n",
              "      <td>smart</td>\n",
              "      <td>1550</td>\n",
              "    </tr>\n",
              "    <tr>\n",
              "      <th>2449</th>\n",
              "      <td>1388</td>\n",
              "      <td>10</td>\n",
              "      <td>65</td>\n",
              "      <td>421</td>\n",
              "      <td>0</td>\n",
              "      <td>26756</td>\n",
              "      <td>27</td>\n",
              "      <td>Вологда</td>\n",
              "      <td>smart</td>\n",
              "      <td>2950</td>\n",
              "    </tr>\n",
              "    <tr>\n",
              "      <th>2690</th>\n",
              "      <td>1423</td>\n",
              "      <td>12</td>\n",
              "      <td>34</td>\n",
              "      <td>219</td>\n",
              "      <td>49</td>\n",
              "      <td>17072</td>\n",
              "      <td>17</td>\n",
              "      <td>Астрахань</td>\n",
              "      <td>smart</td>\n",
              "      <td>950</td>\n",
              "    </tr>\n",
              "  </tbody>\n",
              "</table>\n",
              "</div>\n",
              "      <button class=\"colab-df-convert\" onclick=\"convertToInteractive('df-53a2cc81-ab77-491f-8b1a-9bef98308f41')\"\n",
              "              title=\"Convert this dataframe to an interactive table.\"\n",
              "              style=\"display:none;\">\n",
              "        \n",
              "  <svg xmlns=\"http://www.w3.org/2000/svg\" height=\"24px\"viewBox=\"0 0 24 24\"\n",
              "       width=\"24px\">\n",
              "    <path d=\"M0 0h24v24H0V0z\" fill=\"none\"/>\n",
              "    <path d=\"M18.56 5.44l.94 2.06.94-2.06 2.06-.94-2.06-.94-.94-2.06-.94 2.06-2.06.94zm-11 1L8.5 8.5l.94-2.06 2.06-.94-2.06-.94L8.5 2.5l-.94 2.06-2.06.94zm10 10l.94 2.06.94-2.06 2.06-.94-2.06-.94-.94-2.06-.94 2.06-2.06.94z\"/><path d=\"M17.41 7.96l-1.37-1.37c-.4-.4-.92-.59-1.43-.59-.52 0-1.04.2-1.43.59L10.3 9.45l-7.72 7.72c-.78.78-.78 2.05 0 2.83L4 21.41c.39.39.9.59 1.41.59.51 0 1.02-.2 1.41-.59l7.78-7.78 2.81-2.81c.8-.78.8-2.07 0-2.86zM5.41 20L4 18.59l7.72-7.72 1.47 1.35L5.41 20z\"/>\n",
              "  </svg>\n",
              "      </button>\n",
              "      \n",
              "  <style>\n",
              "    .colab-df-container {\n",
              "      display:flex;\n",
              "      flex-wrap:wrap;\n",
              "      gap: 12px;\n",
              "    }\n",
              "\n",
              "    .colab-df-convert {\n",
              "      background-color: #E8F0FE;\n",
              "      border: none;\n",
              "      border-radius: 50%;\n",
              "      cursor: pointer;\n",
              "      display: none;\n",
              "      fill: #1967D2;\n",
              "      height: 32px;\n",
              "      padding: 0 0 0 0;\n",
              "      width: 32px;\n",
              "    }\n",
              "\n",
              "    .colab-df-convert:hover {\n",
              "      background-color: #E2EBFA;\n",
              "      box-shadow: 0px 1px 2px rgba(60, 64, 67, 0.3), 0px 1px 3px 1px rgba(60, 64, 67, 0.15);\n",
              "      fill: #174EA6;\n",
              "    }\n",
              "\n",
              "    [theme=dark] .colab-df-convert {\n",
              "      background-color: #3B4455;\n",
              "      fill: #D2E3FC;\n",
              "    }\n",
              "\n",
              "    [theme=dark] .colab-df-convert:hover {\n",
              "      background-color: #434B5C;\n",
              "      box-shadow: 0px 1px 3px 1px rgba(0, 0, 0, 0.15);\n",
              "      filter: drop-shadow(0px 1px 2px rgba(0, 0, 0, 0.3));\n",
              "      fill: #FFFFFF;\n",
              "    }\n",
              "  </style>\n",
              "\n",
              "      <script>\n",
              "        const buttonEl =\n",
              "          document.querySelector('#df-53a2cc81-ab77-491f-8b1a-9bef98308f41 button.colab-df-convert');\n",
              "        buttonEl.style.display =\n",
              "          google.colab.kernel.accessAllowed ? 'block' : 'none';\n",
              "\n",
              "        async function convertToInteractive(key) {\n",
              "          const element = document.querySelector('#df-53a2cc81-ab77-491f-8b1a-9bef98308f41');\n",
              "          const dataTable =\n",
              "            await google.colab.kernel.invokeFunction('convertToInteractive',\n",
              "                                                     [key], {});\n",
              "          if (!dataTable) return;\n",
              "\n",
              "          const docLinkHtml = 'Like what you see? Visit the ' +\n",
              "            '<a target=\"_blank\" href=https://colab.research.google.com/notebooks/data_table.ipynb>data table notebook</a>'\n",
              "            + ' to learn more about interactive tables.';\n",
              "          element.innerHTML = '';\n",
              "          dataTable['output_type'] = 'display_data';\n",
              "          await google.colab.output.renderOutput(dataTable, element);\n",
              "          const docLink = document.createElement('div');\n",
              "          docLink.innerHTML = docLinkHtml;\n",
              "          element.appendChild(docLink);\n",
              "        }\n",
              "      </script>\n",
              "    </div>\n",
              "  </div>\n",
              "  "
            ]
          },
          "metadata": {},
          "execution_count": 158
        }
      ],
      "source": [
        "abonents['income'] = abonents.apply(income_month, axis = 1)\n",
        "abonents.sample(5)"
      ]
    },
    {
      "cell_type": "markdown",
      "id": "3de7f053",
      "metadata": {
        "id": "3de7f053"
      },
      "source": [
        "### Вывод\n",
        "В данных не обнаружено пропусков и дубликатов, значения NaN соответствуют нулевым значениям, замена на которые была выполнена. Сформирована новая таблица, содержащая сведения об израсходаванных минутах, сообщениях и Мб интернет-траффика для каждого пользователя ежемесячно. \n",
        "\n",
        "Не все абоненты совершали звонки, отправляли сообщения, использовали интернет-траффик. \n",
        "\n",
        "Определена ежемесячная выручка от каждого абонента с учетом тарифа подключения."
      ]
    },
    {
      "cell_type": "markdown",
      "id": "001cf40a",
      "metadata": {
        "id": "001cf40a"
      },
      "source": [
        "# Шаг 3. Проанализируйте данные\n",
        "\n",
        "Опишите поведение клиентов оператора, исходя из выборки. Сколько минут разговора, сколько сообщений и какой объём интернет-трафика требуется пользователям каждого тарифа в месяц? Посчитайте среднее количество, дисперсию и стандартное отклонение. Постройте гистограммы. Опишите распределения."
      ]
    },
    {
      "cell_type": "markdown",
      "id": "04ea7593",
      "metadata": {
        "id": "04ea7593"
      },
      "source": [
        "Определите количество абонентов, подключенных к различным тарифам. Постройте график в виде столбчатой диаграммы методом countplot().\n"
      ]
    },
    {
      "cell_type": "code",
      "execution_count": null,
      "id": "5761fda5",
      "metadata": {
        "id": "5761fda5",
        "colab": {
          "base_uri": "https://localhost:8080/"
        },
        "outputId": "01b8469b-1567-4550-bff8-2766ee7d73e1"
      },
      "outputs": [
        {
          "output_type": "execute_result",
          "data": {
            "text/plain": [
              "smart    351\n",
              "ultra    149\n",
              "Name: tariff, dtype: int64"
            ]
          },
          "metadata": {},
          "execution_count": 159
        }
      ],
      "source": [
        "users['tariff'].value_counts()"
      ]
    },
    {
      "cell_type": "code",
      "execution_count": null,
      "id": "5a87693f",
      "metadata": {
        "id": "5a87693f",
        "colab": {
          "base_uri": "https://localhost:8080/"
        },
        "outputId": "b8044add-7495-40dc-c575-8d7dd0e8833a"
      },
      "outputs": [
        {
          "output_type": "execute_result",
          "data": {
            "text/plain": [
              "smart    0.702\n",
              "ultra    0.298\n",
              "Name: tariff, dtype: float64"
            ]
          },
          "metadata": {},
          "execution_count": 160
        }
      ],
      "source": [
        "users['tariff'].value_counts(normalize = True)"
      ]
    },
    {
      "cell_type": "markdown",
      "id": "e23002f8",
      "metadata": {
        "id": "e23002f8"
      },
      "source": [
        "70,2% абонентов подключены к тарифу \"smart\", остальные 29,8% - к тарифу \"ultra\""
      ]
    },
    {
      "cell_type": "code",
      "source": [
        "sns.countplot(x = users['tariff'])\n",
        "plt.show()"
      ],
      "metadata": {
        "colab": {
          "base_uri": "https://localhost:8080/",
          "height": 279
        },
        "id": "WGTfyqZPAUvr",
        "outputId": "7d263aae-5f81-4a20-b8c0-ffd4ce52ab2c"
      },
      "id": "WGTfyqZPAUvr",
      "execution_count": null,
      "outputs": [
        {
          "output_type": "display_data",
          "data": {
            "text/plain": [
              "<Figure size 432x288 with 1 Axes>"
            ],
            "image/png": "[encoded data removed]"
          },
          "metadata": {
            "needs_background": "light"
          }
        }
      ]
    },
    {
      "cell_type": "code",
      "execution_count": null,
      "id": "2c376e11",
      "metadata": {
        "id": "2c376e11",
        "colab": {
          "base_uri": "https://localhost:8080/",
          "height": 395
        },
        "outputId": "d5c52094-fac2-44e4-9d7a-4591ad25cf1f"
      },
      "outputs": [
        {
          "output_type": "display_data",
          "data": {
            "text/plain": [
              "   user_id  month  call_per_month  minute_per_month  messages_per_month  \\\n",
              "0     1001     11              59               430                   0   \n",
              "1     1001     12              63               414                   0   \n",
              "2     1002      6              15               117                   4   \n",
              "3     1002      7              26               214                  11   \n",
              "4     1002      8              42               289                  13   \n",
              "\n",
              "   mb_per_month  gb_per_month         city tariff  income  \n",
              "0         18430            18       Москва  smart    1150  \n",
              "1         14037            14       Москва  smart     550  \n",
              "2         10857            11  Стерлитамак  smart     550  \n",
              "3         17581            18  Стерлитамак  smart    1150  \n",
              "4         20320            20  Стерлитамак  smart    1550  "
            ],
            "text/html": [
              "\n",
              "  <div id=\"df-e3b078c2-ca56-4c34-980f-e0f1d33c9ac4\">\n",
              "    <div class=\"colab-df-container\">\n",
              "      <div>\n",
              "<style scoped>\n",
              "    .dataframe tbody tr th:only-of-type {\n",
              "        vertical-align: middle;\n",
              "    }\n",
              "\n",
              "    .dataframe tbody tr th {\n",
              "        vertical-align: top;\n",
              "    }\n",
              "\n",
              "    .dataframe thead th {\n",
              "        text-align: right;\n",
              "    }\n",
              "</style>\n",
              "<table border=\"1\" class=\"dataframe\">\n",
              "  <thead>\n",
              "    <tr style=\"text-align: right;\">\n",
              "      <th></th>\n",
              "      <th>user_id</th>\n",
              "      <th>month</th>\n",
              "      <th>call_per_month</th>\n",
              "      <th>minute_per_month</th>\n",
              "      <th>messages_per_month</th>\n",
              "      <th>mb_per_month</th>\n",
              "      <th>gb_per_month</th>\n",
              "      <th>city</th>\n",
              "      <th>tariff</th>\n",
              "      <th>income</th>\n",
              "    </tr>\n",
              "  </thead>\n",
              "  <tbody>\n",
              "    <tr>\n",
              "      <th>0</th>\n",
              "      <td>1001</td>\n",
              "      <td>11</td>\n",
              "      <td>59</td>\n",
              "      <td>430</td>\n",
              "      <td>0</td>\n",
              "      <td>18430</td>\n",
              "      <td>18</td>\n",
              "      <td>Москва</td>\n",
              "      <td>smart</td>\n",
              "      <td>1150</td>\n",
              "    </tr>\n",
              "    <tr>\n",
              "      <th>1</th>\n",
              "      <td>1001</td>\n",
              "      <td>12</td>\n",
              "      <td>63</td>\n",
              "      <td>414</td>\n",
              "      <td>0</td>\n",
              "      <td>14037</td>\n",
              "      <td>14</td>\n",
              "      <td>Москва</td>\n",
              "      <td>smart</td>\n",
              "      <td>550</td>\n",
              "    </tr>\n",
              "    <tr>\n",
              "      <th>2</th>\n",
              "      <td>1002</td>\n",
              "      <td>6</td>\n",
              "      <td>15</td>\n",
              "      <td>117</td>\n",
              "      <td>4</td>\n",
              "      <td>10857</td>\n",
              "      <td>11</td>\n",
              "      <td>Стерлитамак</td>\n",
              "      <td>smart</td>\n",
              "      <td>550</td>\n",
              "    </tr>\n",
              "    <tr>\n",
              "      <th>3</th>\n",
              "      <td>1002</td>\n",
              "      <td>7</td>\n",
              "      <td>26</td>\n",
              "      <td>214</td>\n",
              "      <td>11</td>\n",
              "      <td>17581</td>\n",
              "      <td>18</td>\n",
              "      <td>Стерлитамак</td>\n",
              "      <td>smart</td>\n",
              "      <td>1150</td>\n",
              "    </tr>\n",
              "    <tr>\n",
              "      <th>4</th>\n",
              "      <td>1002</td>\n",
              "      <td>8</td>\n",
              "      <td>42</td>\n",
              "      <td>289</td>\n",
              "      <td>13</td>\n",
              "      <td>20320</td>\n",
              "      <td>20</td>\n",
              "      <td>Стерлитамак</td>\n",
              "      <td>smart</td>\n",
              "      <td>1550</td>\n",
              "    </tr>\n",
              "  </tbody>\n",
              "</table>\n",
              "</div>\n",
              "      <button class=\"colab-df-convert\" onclick=\"convertToInteractive('df-e3b078c2-ca56-4c34-980f-e0f1d33c9ac4')\"\n",
              "              title=\"Convert this dataframe to an interactive table.\"\n",
              "              style=\"display:none;\">\n",
              "        \n",
              "  <svg xmlns=\"http://www.w3.org/2000/svg\" height=\"24px\"viewBox=\"0 0 24 24\"\n",
              "       width=\"24px\">\n",
              "    <path d=\"M0 0h24v24H0V0z\" fill=\"none\"/>\n",
              "    <path d=\"M18.56 5.44l.94 2.06.94-2.06 2.06-.94-2.06-.94-.94-2.06-.94 2.06-2.06.94zm-11 1L8.5 8.5l.94-2.06 2.06-.94-2.06-.94L8.5 2.5l-.94 2.06-2.06.94zm10 10l.94 2.06.94-2.06 2.06-.94-2.06-.94-.94-2.06-.94 2.06-2.06.94z\"/><path d=\"M17.41 7.96l-1.37-1.37c-.4-.4-.92-.59-1.43-.59-.52 0-1.04.2-1.43.59L10.3 9.45l-7.72 7.72c-.78.78-.78 2.05 0 2.83L4 21.41c.39.39.9.59 1.41.59.51 0 1.02-.2 1.41-.59l7.78-7.78 2.81-2.81c.8-.78.8-2.07 0-2.86zM5.41 20L4 18.59l7.72-7.72 1.47 1.35L5.41 20z\"/>\n",
              "  </svg>\n",
              "      </button>\n",
              "      \n",
              "  <style>\n",
              "    .colab-df-container {\n",
              "      display:flex;\n",
              "      flex-wrap:wrap;\n",
              "      gap: 12px;\n",
              "    }\n",
              "\n",
              "    .colab-df-convert {\n",
              "      background-color: #E8F0FE;\n",
              "      border: none;\n",
              "      border-radius: 50%;\n",
              "      cursor: pointer;\n",
              "      display: none;\n",
              "      fill: #1967D2;\n",
              "      height: 32px;\n",
              "      padding: 0 0 0 0;\n",
              "      width: 32px;\n",
              "    }\n",
              "\n",
              "    .colab-df-convert:hover {\n",
              "      background-color: #E2EBFA;\n",
              "      box-shadow: 0px 1px 2px rgba(60, 64, 67, 0.3), 0px 1px 3px 1px rgba(60, 64, 67, 0.15);\n",
              "      fill: #174EA6;\n",
              "    }\n",
              "\n",
              "    [theme=dark] .colab-df-convert {\n",
              "      background-color: #3B4455;\n",
              "      fill: #D2E3FC;\n",
              "    }\n",
              "\n",
              "    [theme=dark] .colab-df-convert:hover {\n",
              "      background-color: #434B5C;\n",
              "      box-shadow: 0px 1px 3px 1px rgba(0, 0, 0, 0.15);\n",
              "      filter: drop-shadow(0px 1px 2px rgba(0, 0, 0, 0.3));\n",
              "      fill: #FFFFFF;\n",
              "    }\n",
              "  </style>\n",
              "\n",
              "      <script>\n",
              "        const buttonEl =\n",
              "          document.querySelector('#df-e3b078c2-ca56-4c34-980f-e0f1d33c9ac4 button.colab-df-convert');\n",
              "        buttonEl.style.display =\n",
              "          google.colab.kernel.accessAllowed ? 'block' : 'none';\n",
              "\n",
              "        async function convertToInteractive(key) {\n",
              "          const element = document.querySelector('#df-e3b078c2-ca56-4c34-980f-e0f1d33c9ac4');\n",
              "          const dataTable =\n",
              "            await google.colab.kernel.invokeFunction('convertToInteractive',\n",
              "                                                     [key], {});\n",
              "          if (!dataTable) return;\n",
              "\n",
              "          const docLinkHtml = 'Like what you see? Visit the ' +\n",
              "            '<a target=\"_blank\" href=https://colab.research.google.com/notebooks/data_table.ipynb>data table notebook</a>'\n",
              "            + ' to learn more about interactive tables.';\n",
              "          element.innerHTML = '';\n",
              "          dataTable['output_type'] = 'display_data';\n",
              "          await google.colab.output.renderOutput(dataTable, element);\n",
              "          const docLink = document.createElement('div');\n",
              "          docLink.innerHTML = docLinkHtml;\n",
              "          element.appendChild(docLink);\n",
              "        }\n",
              "      </script>\n",
              "    </div>\n",
              "  </div>\n",
              "  "
            ]
          },
          "metadata": {}
        },
        {
          "output_type": "display_data",
          "data": {
            "text/plain": [
              "   user_id  month  call_per_month  minute_per_month  messages_per_month  \\\n",
              "0     1000      5              22               159                  22   \n",
              "1     1000      6              43               172                  60   \n",
              "2     1000      7              47               340                  75   \n",
              "3     1000      8              52               408                  81   \n",
              "4     1000      9              58               466                  57   \n",
              "\n",
              "   mb_per_month  gb_per_month       city tariff  income  \n",
              "0          2254             3  Краснодар  ultra    1950  \n",
              "1         23234            23  Краснодар  ultra    1950  \n",
              "2         14004            14  Краснодар  ultra    1950  \n",
              "3         14056            14  Краснодар  ultra    1950  \n",
              "4         14569            15  Краснодар  ultra    1950  "
            ],
            "text/html": [
              "\n",
              "  <div id=\"df-5fb4f73a-8e44-463d-b9b0-efa9ee6308d1\">\n",
              "    <div class=\"colab-df-container\">\n",
              "      <div>\n",
              "<style scoped>\n",
              "    .dataframe tbody tr th:only-of-type {\n",
              "        vertical-align: middle;\n",
              "    }\n",
              "\n",
              "    .dataframe tbody tr th {\n",
              "        vertical-align: top;\n",
              "    }\n",
              "\n",
              "    .dataframe thead th {\n",
              "        text-align: right;\n",
              "    }\n",
              "</style>\n",
              "<table border=\"1\" class=\"dataframe\">\n",
              "  <thead>\n",
              "    <tr style=\"text-align: right;\">\n",
              "      <th></th>\n",
              "      <th>user_id</th>\n",
              "      <th>month</th>\n",
              "      <th>call_per_month</th>\n",
              "      <th>minute_per_month</th>\n",
              "      <th>messages_per_month</th>\n",
              "      <th>mb_per_month</th>\n",
              "      <th>gb_per_month</th>\n",
              "      <th>city</th>\n",
              "      <th>tariff</th>\n",
              "      <th>income</th>\n",
              "    </tr>\n",
              "  </thead>\n",
              "  <tbody>\n",
              "    <tr>\n",
              "      <th>0</th>\n",
              "      <td>1000</td>\n",
              "      <td>5</td>\n",
              "      <td>22</td>\n",
              "      <td>159</td>\n",
              "      <td>22</td>\n",
              "      <td>2254</td>\n",
              "      <td>3</td>\n",
              "      <td>Краснодар</td>\n",
              "      <td>ultra</td>\n",
              "      <td>1950</td>\n",
              "    </tr>\n",
              "    <tr>\n",
              "      <th>1</th>\n",
              "      <td>1000</td>\n",
              "      <td>6</td>\n",
              "      <td>43</td>\n",
              "      <td>172</td>\n",
              "      <td>60</td>\n",
              "      <td>23234</td>\n",
              "      <td>23</td>\n",
              "      <td>Краснодар</td>\n",
              "      <td>ultra</td>\n",
              "      <td>1950</td>\n",
              "    </tr>\n",
              "    <tr>\n",
              "      <th>2</th>\n",
              "      <td>1000</td>\n",
              "      <td>7</td>\n",
              "      <td>47</td>\n",
              "      <td>340</td>\n",
              "      <td>75</td>\n",
              "      <td>14004</td>\n",
              "      <td>14</td>\n",
              "      <td>Краснодар</td>\n",
              "      <td>ultra</td>\n",
              "      <td>1950</td>\n",
              "    </tr>\n",
              "    <tr>\n",
              "      <th>3</th>\n",
              "      <td>1000</td>\n",
              "      <td>8</td>\n",
              "      <td>52</td>\n",
              "      <td>408</td>\n",
              "      <td>81</td>\n",
              "      <td>14056</td>\n",
              "      <td>14</td>\n",
              "      <td>Краснодар</td>\n",
              "      <td>ultra</td>\n",
              "      <td>1950</td>\n",
              "    </tr>\n",
              "    <tr>\n",
              "      <th>4</th>\n",
              "      <td>1000</td>\n",
              "      <td>9</td>\n",
              "      <td>58</td>\n",
              "      <td>466</td>\n",
              "      <td>57</td>\n",
              "      <td>14569</td>\n",
              "      <td>15</td>\n",
              "      <td>Краснодар</td>\n",
              "      <td>ultra</td>\n",
              "      <td>1950</td>\n",
              "    </tr>\n",
              "  </tbody>\n",
              "</table>\n",
              "</div>\n",
              "      <button class=\"colab-df-convert\" onclick=\"convertToInteractive('df-5fb4f73a-8e44-463d-b9b0-efa9ee6308d1')\"\n",
              "              title=\"Convert this dataframe to an interactive table.\"\n",
              "              style=\"display:none;\">\n",
              "        \n",
              "  <svg xmlns=\"http://www.w3.org/2000/svg\" height=\"24px\"viewBox=\"0 0 24 24\"\n",
              "       width=\"24px\">\n",
              "    <path d=\"M0 0h24v24H0V0z\" fill=\"none\"/>\n",
              "    <path d=\"M18.56 5.44l.94 2.06.94-2.06 2.06-.94-2.06-.94-.94-2.06-.94 2.06-2.06.94zm-11 1L8.5 8.5l.94-2.06 2.06-.94-2.06-.94L8.5 2.5l-.94 2.06-2.06.94zm10 10l.94 2.06.94-2.06 2.06-.94-2.06-.94-.94-2.06-.94 2.06-2.06.94z\"/><path d=\"M17.41 7.96l-1.37-1.37c-.4-.4-.92-.59-1.43-.59-.52 0-1.04.2-1.43.59L10.3 9.45l-7.72 7.72c-.78.78-.78 2.05 0 2.83L4 21.41c.39.39.9.59 1.41.59.51 0 1.02-.2 1.41-.59l7.78-7.78 2.81-2.81c.8-.78.8-2.07 0-2.86zM5.41 20L4 18.59l7.72-7.72 1.47 1.35L5.41 20z\"/>\n",
              "  </svg>\n",
              "      </button>\n",
              "      \n",
              "  <style>\n",
              "    .colab-df-container {\n",
              "      display:flex;\n",
              "      flex-wrap:wrap;\n",
              "      gap: 12px;\n",
              "    }\n",
              "\n",
              "    .colab-df-convert {\n",
              "      background-color: #E8F0FE;\n",
              "      border: none;\n",
              "      border-radius: 50%;\n",
              "      cursor: pointer;\n",
              "      display: none;\n",
              "      fill: #1967D2;\n",
              "      height: 32px;\n",
              "      padding: 0 0 0 0;\n",
              "      width: 32px;\n",
              "    }\n",
              "\n",
              "    .colab-df-convert:hover {\n",
              "      background-color: #E2EBFA;\n",
              "      box-shadow: 0px 1px 2px rgba(60, 64, 67, 0.3), 0px 1px 3px 1px rgba(60, 64, 67, 0.15);\n",
              "      fill: #174EA6;\n",
              "    }\n",
              "\n",
              "    [theme=dark] .colab-df-convert {\n",
              "      background-color: #3B4455;\n",
              "      fill: #D2E3FC;\n",
              "    }\n",
              "\n",
              "    [theme=dark] .colab-df-convert:hover {\n",
              "      background-color: #434B5C;\n",
              "      box-shadow: 0px 1px 3px 1px rgba(0, 0, 0, 0.15);\n",
              "      filter: drop-shadow(0px 1px 2px rgba(0, 0, 0, 0.3));\n",
              "      fill: #FFFFFF;\n",
              "    }\n",
              "  </style>\n",
              "\n",
              "      <script>\n",
              "        const buttonEl =\n",
              "          document.querySelector('#df-5fb4f73a-8e44-463d-b9b0-efa9ee6308d1 button.colab-df-convert');\n",
              "        buttonEl.style.display =\n",
              "          google.colab.kernel.accessAllowed ? 'block' : 'none';\n",
              "\n",
              "        async function convertToInteractive(key) {\n",
              "          const element = document.querySelector('#df-5fb4f73a-8e44-463d-b9b0-efa9ee6308d1');\n",
              "          const dataTable =\n",
              "            await google.colab.kernel.invokeFunction('convertToInteractive',\n",
              "                                                     [key], {});\n",
              "          if (!dataTable) return;\n",
              "\n",
              "          const docLinkHtml = 'Like what you see? Visit the ' +\n",
              "            '<a target=\"_blank\" href=https://colab.research.google.com/notebooks/data_table.ipynb>data table notebook</a>'\n",
              "            + ' to learn more about interactive tables.';\n",
              "          element.innerHTML = '';\n",
              "          dataTable['output_type'] = 'display_data';\n",
              "          await google.colab.output.renderOutput(dataTable, element);\n",
              "          const docLink = document.createElement('div');\n",
              "          docLink.innerHTML = docLinkHtml;\n",
              "          element.appendChild(docLink);\n",
              "        }\n",
              "      </script>\n",
              "    </div>\n",
              "  </div>\n",
              "  "
            ]
          },
          "metadata": {}
        }
      ],
      "source": [
        "# разобьем всех абонентов на 2 таблицы по тарифу: smart_abonent и ultra_abonent\n",
        "smart_abonent = abonents.query('tariff == \"smart\"').reset_index(drop = True)\n",
        "ultra_abonent = abonents.query('tariff == \"ultra\"').reset_index(drop = True)\n",
        "\n",
        "display(smart_abonent.head())\n",
        "display(ultra_abonent.head())"
      ]
    },
    {
      "cell_type": "code",
      "execution_count": null,
      "id": "7dd2ea81",
      "metadata": {
        "id": "7dd2ea81",
        "colab": {
          "base_uri": "https://localhost:8080/",
          "height": 275
        },
        "outputId": "dc82b497-f468-4282-8cb3-1769e90cac9e"
      },
      "outputs": [
        {
          "output_type": "stream",
          "name": "stderr",
          "text": [
            "<ipython-input-163-2eddc16037b2>:2: FutureWarning: Indexing with multiple keys (implicitly converted to a tuple of keys) will be deprecated, use a list instead.\n",
            "  smart_abonent_month = smart_abonent.groupby(['month'])['call_per_month', 'minute_per_month', 'messages_per_month', 'gb_per_month', 'income'].sum().reset_index()\n",
            "<ipython-input-163-2eddc16037b2>:3: FutureWarning: Indexing with multiple keys (implicitly converted to a tuple of keys) will be deprecated, use a list instead.\n",
            "  ultra_abonent_month = ultra_abonent.groupby(['month'])['call_per_month', 'minute_per_month', 'messages_per_month', 'gb_per_month', 'income'].sum().reset_index()\n"
          ]
        },
        {
          "output_type": "execute_result",
          "data": {
            "text/plain": [
              "   month  call_per_month  minute_per_month  messages_per_month  gb_per_month  \\\n",
              "0      1             535              3853                 304           119   \n",
              "1      2             997              7131                 527           288   \n",
              "2      3            2504             18117                1195           653   \n",
              "3      4            3525             25191                1736           933   \n",
              "4      5            4858             34192                2536          1298   \n",
              "\n",
              "   income  \n",
              "0   17550  \n",
              "1   47400  \n",
              "2   74550  \n",
              "3  110100  \n",
              "4  138000  "
            ],
            "text/html": [
              "\n",
              "  <div id=\"df-16198248-a096-4cd6-a085-abb476000aef\">\n",
              "    <div class=\"colab-df-container\">\n",
              "      <div>\n",
              "<style scoped>\n",
              "    .dataframe tbody tr th:only-of-type {\n",
              "        vertical-align: middle;\n",
              "    }\n",
              "\n",
              "    .dataframe tbody tr th {\n",
              "        vertical-align: top;\n",
              "    }\n",
              "\n",
              "    .dataframe thead th {\n",
              "        text-align: right;\n",
              "    }\n",
              "</style>\n",
              "<table border=\"1\" class=\"dataframe\">\n",
              "  <thead>\n",
              "    <tr style=\"text-align: right;\">\n",
              "      <th></th>\n",
              "      <th>month</th>\n",
              "      <th>call_per_month</th>\n",
              "      <th>minute_per_month</th>\n",
              "      <th>messages_per_month</th>\n",
              "      <th>gb_per_month</th>\n",
              "      <th>income</th>\n",
              "    </tr>\n",
              "  </thead>\n",
              "  <tbody>\n",
              "    <tr>\n",
              "      <th>0</th>\n",
              "      <td>1</td>\n",
              "      <td>535</td>\n",
              "      <td>3853</td>\n",
              "      <td>304</td>\n",
              "      <td>119</td>\n",
              "      <td>17550</td>\n",
              "    </tr>\n",
              "    <tr>\n",
              "      <th>1</th>\n",
              "      <td>2</td>\n",
              "      <td>997</td>\n",
              "      <td>7131</td>\n",
              "      <td>527</td>\n",
              "      <td>288</td>\n",
              "      <td>47400</td>\n",
              "    </tr>\n",
              "    <tr>\n",
              "      <th>2</th>\n",
              "      <td>3</td>\n",
              "      <td>2504</td>\n",
              "      <td>18117</td>\n",
              "      <td>1195</td>\n",
              "      <td>653</td>\n",
              "      <td>74550</td>\n",
              "    </tr>\n",
              "    <tr>\n",
              "      <th>3</th>\n",
              "      <td>4</td>\n",
              "      <td>3525</td>\n",
              "      <td>25191</td>\n",
              "      <td>1736</td>\n",
              "      <td>933</td>\n",
              "      <td>110100</td>\n",
              "    </tr>\n",
              "    <tr>\n",
              "      <th>4</th>\n",
              "      <td>5</td>\n",
              "      <td>4858</td>\n",
              "      <td>34192</td>\n",
              "      <td>2536</td>\n",
              "      <td>1298</td>\n",
              "      <td>138000</td>\n",
              "    </tr>\n",
              "  </tbody>\n",
              "</table>\n",
              "</div>\n",
              "      <button class=\"colab-df-convert\" onclick=\"convertToInteractive('df-16198248-a096-4cd6-a085-abb476000aef')\"\n",
              "              title=\"Convert this dataframe to an interactive table.\"\n",
              "              style=\"display:none;\">\n",
              "        \n",
              "  <svg xmlns=\"http://www.w3.org/2000/svg\" height=\"24px\"viewBox=\"0 0 24 24\"\n",
              "       width=\"24px\">\n",
              "    <path d=\"M0 0h24v24H0V0z\" fill=\"none\"/>\n",
              "    <path d=\"M18.56 5.44l.94 2.06.94-2.06 2.06-.94-2.06-.94-.94-2.06-.94 2.06-2.06.94zm-11 1L8.5 8.5l.94-2.06 2.06-.94-2.06-.94L8.5 2.5l-.94 2.06-2.06.94zm10 10l.94 2.06.94-2.06 2.06-.94-2.06-.94-.94-2.06-.94 2.06-2.06.94z\"/><path d=\"M17.41 7.96l-1.37-1.37c-.4-.4-.92-.59-1.43-.59-.52 0-1.04.2-1.43.59L10.3 9.45l-7.72 7.72c-.78.78-.78 2.05 0 2.83L4 21.41c.39.39.9.59 1.41.59.51 0 1.02-.2 1.41-.59l7.78-7.78 2.81-2.81c.8-.78.8-2.07 0-2.86zM5.41 20L4 18.59l7.72-7.72 1.47 1.35L5.41 20z\"/>\n",
              "  </svg>\n",
              "      </button>\n",
              "      \n",
              "  <style>\n",
              "    .colab-df-container {\n",
              "      display:flex;\n",
              "      flex-wrap:wrap;\n",
              "      gap: 12px;\n",
              "    }\n",
              "\n",
              "    .colab-df-convert {\n",
              "      background-color: #E8F0FE;\n",
              "      border: none;\n",
              "      border-radius: 50%;\n",
              "      cursor: pointer;\n",
              "      display: none;\n",
              "      fill: #1967D2;\n",
              "      height: 32px;\n",
              "      padding: 0 0 0 0;\n",
              "      width: 32px;\n",
              "    }\n",
              "\n",
              "    .colab-df-convert:hover {\n",
              "      background-color: #E2EBFA;\n",
              "      box-shadow: 0px 1px 2px rgba(60, 64, 67, 0.3), 0px 1px 3px 1px rgba(60, 64, 67, 0.15);\n",
              "      fill: #174EA6;\n",
              "    }\n",
              "\n",
              "    [theme=dark] .colab-df-convert {\n",
              "      background-color: #3B4455;\n",
              "      fill: #D2E3FC;\n",
              "    }\n",
              "\n",
              "    [theme=dark] .colab-df-convert:hover {\n",
              "      background-color: #434B5C;\n",
              "      box-shadow: 0px 1px 3px 1px rgba(0, 0, 0, 0.15);\n",
              "      filter: drop-shadow(0px 1px 2px rgba(0, 0, 0, 0.3));\n",
              "      fill: #FFFFFF;\n",
              "    }\n",
              "  </style>\n",
              "\n",
              "      <script>\n",
              "        const buttonEl =\n",
              "          document.querySelector('#df-16198248-a096-4cd6-a085-abb476000aef button.colab-df-convert');\n",
              "        buttonEl.style.display =\n",
              "          google.colab.kernel.accessAllowed ? 'block' : 'none';\n",
              "\n",
              "        async function convertToInteractive(key) {\n",
              "          const element = document.querySelector('#df-16198248-a096-4cd6-a085-abb476000aef');\n",
              "          const dataTable =\n",
              "            await google.colab.kernel.invokeFunction('convertToInteractive',\n",
              "                                                     [key], {});\n",
              "          if (!dataTable) return;\n",
              "\n",
              "          const docLinkHtml = 'Like what you see? Visit the ' +\n",
              "            '<a target=\"_blank\" href=https://colab.research.google.com/notebooks/data_table.ipynb>data table notebook</a>'\n",
              "            + ' to learn more about interactive tables.';\n",
              "          element.innerHTML = '';\n",
              "          dataTable['output_type'] = 'display_data';\n",
              "          await google.colab.output.renderOutput(dataTable, element);\n",
              "          const docLink = document.createElement('div');\n",
              "          docLink.innerHTML = docLinkHtml;\n",
              "          element.appendChild(docLink);\n",
              "        }\n",
              "      </script>\n",
              "    </div>\n",
              "  </div>\n",
              "  "
            ]
          },
          "metadata": {},
          "execution_count": 163
        }
      ],
      "source": [
        "# сгрупируем данные об абонентах различных тарифов по месяцам\n",
        "smart_abonent_month = smart_abonent.groupby(['month'])['call_per_month', 'minute_per_month', 'messages_per_month', 'gb_per_month', 'income'].sum().reset_index()\n",
        "ultra_abonent_month = ultra_abonent.groupby(['month'])['call_per_month', 'minute_per_month', 'messages_per_month', 'gb_per_month', 'income'].sum().reset_index()\n",
        "\n",
        "ultra_abonent_month.head()\n"
      ]
    },
    {
      "cell_type": "code",
      "execution_count": null,
      "id": "abf9dbb3",
      "metadata": {
        "id": "abf9dbb3",
        "colab": {
          "base_uri": "https://localhost:8080/",
          "height": 1000
        },
        "outputId": "98ae2ace-dbb3-41d5-b575-54e13f0f0c16"
      },
      "outputs": [
        {
          "output_type": "display_data",
          "data": {
            "text/plain": [
              "<Figure size 360x288 with 1 Axes>"
            ],
            "image/png": "[encoded data removed]"
          },
          "metadata": {
            "needs_background": "light"
          }
        },
        {
          "output_type": "display_data",
          "data": {
            "text/plain": [
              "<Figure size 360x288 with 1 Axes>"
            ],
            "image/png": "[encoded data removed]"
          },
          "metadata": {
            "needs_background": "light"
          }
        },
        {
          "output_type": "display_data",
          "data": {
            "text/plain": [
              "<Figure size 360x288 with 1 Axes>"
            ],
            "image/png": "[encoded data removed]"
          },
          "metadata": {
            "needs_background": "light"
          }
        },
        {
          "output_type": "display_data",
          "data": {
            "text/plain": [
              "<Figure size 360x288 with 1 Axes>"
            ],
            "image/png": "[encoded data removed]"
          },
          "metadata": {
            "needs_background": "light"
          }
        },
        {
          "output_type": "display_data",
          "data": {
            "text/plain": [
              "<Figure size 360x288 with 1 Axes>"
            ],
            "image/png": "[encoded data removed]"
          },
          "metadata": {
            "needs_background": "light"
          }
        }
      ],
      "source": [
        "# Построим графики количества минут разговоров, отправленных сообщений, объема интернет-траффика всех абонентов каждого тарифного плана по месяцам\n",
        "for i in ['call_per_month', 'minute_per_month', 'messages_per_month', 'gb_per_month', 'income']:\n",
        "  plt.figure(figsize = (5,4))\n",
        "  plt.bar(smart_abonent_month['month'] - 0.2, smart_abonent_month[i], label = 'smart', color = 'y', alpha = 0.5, width = 0.4)\n",
        "  plt.bar(ultra_abonent_month['month'] + 0.2, ultra_abonent_month[i], label = 'ultra', color = 'g', alpha = 0.5, width = 0.4)\n",
        "\n",
        "  plt.xlabel('month')\n",
        "  plt.ylabel(i)\n",
        "  plt.grid()\n",
        "  plt.legend(loc = 'best')\n",
        "  plt.show()"
      ]
    },
    {
      "cell_type": "markdown",
      "id": "4916d75e",
      "metadata": {
        "id": "4916d75e"
      },
      "source": [
        "Из графиков видим, что суммарное количество минут разговоров, отправленных сообщений, интернет-траффика и выручки от абонентов тарифа \"smart\" превышает аналогичные показатели для абонентов тарифа \"ulrta\".\n",
        "\n",
        "Общее количество минут разговора, сообщений и объём интернет-трафика пользователям тарифа \"smart\" в месяц требуется больше, чем абонентам тарифа \"ultra\".  Но нужно учитывать, что число абонентов тарифа \"smart\" более, чем в два раза превышает число абонентов тарифа \"ultra\". \n",
        "\n",
        "Поэтому построим аналогичные графики для средних показателей на одного абонента.\n"
      ]
    },
    {
      "cell_type": "code",
      "execution_count": null,
      "id": "a0175e5d",
      "metadata": {
        "id": "a0175e5d",
        "colab": {
          "base_uri": "https://localhost:8080/"
        },
        "outputId": "da42b8c5-1d6a-4005-a482-ed24b58dee2c"
      },
      "outputs": [
        {
          "output_type": "stream",
          "name": "stderr",
          "text": [
            "<ipython-input-165-e3cbb0329480>:1: FutureWarning: Indexing with multiple keys (implicitly converted to a tuple of keys) will be deprecated, use a list instead.\n",
            "  smart_abonent_month_mean = smart_abonent.groupby(['month'])['call_per_month', 'minute_per_month', 'messages_per_month', 'gb_per_month', 'income'].mean().reset_index()\n",
            "<ipython-input-165-e3cbb0329480>:2: FutureWarning: Indexing with multiple keys (implicitly converted to a tuple of keys) will be deprecated, use a list instead.\n",
            "  ultra_abonent_month_mean = ultra_abonent.groupby(['month'])['call_per_month', 'minute_per_month', 'messages_per_month', 'gb_per_month', 'income'].mean().reset_index()\n"
          ]
        }
      ],
      "source": [
        "smart_abonent_month_mean = smart_abonent.groupby(['month'])['call_per_month', 'minute_per_month', 'messages_per_month', 'gb_per_month', 'income'].mean().reset_index()\n",
        "ultra_abonent_month_mean = ultra_abonent.groupby(['month'])['call_per_month', 'minute_per_month', 'messages_per_month', 'gb_per_month', 'income'].mean().reset_index()\n"
      ]
    },
    {
      "cell_type": "code",
      "execution_count": null,
      "id": "ae6276e5",
      "metadata": {
        "id": "ae6276e5",
        "colab": {
          "base_uri": "https://localhost:8080/",
          "height": 1000
        },
        "outputId": "c9de6e4d-3b5e-419b-d45b-9baaeb293328"
      },
      "outputs": [
        {
          "output_type": "display_data",
          "data": {
            "text/plain": [
              "<Figure size 360x288 with 1 Axes>"
            ],
            "image/png": "[encoded data removed]"
          },
          "metadata": {
            "needs_background": "light"
          }
        },
        {
          "output_type": "display_data",
          "data": {
            "text/plain": [
              "<Figure size 360x288 with 1 Axes>"
            ],
            "image/png": "[encoded data removed]"
          },
          "metadata": {
            "needs_background": "light"
          }
        },
        {
          "output_type": "display_data",
          "data": {
            "text/plain": [
              "<Figure size 360x288 with 1 Axes>"
            ],
            "image/png": "[encoded data removed]"
          },
          "metadata": {
            "needs_background": "light"
          }
        },
        {
          "output_type": "display_data",
          "data": {
            "text/plain": [
              "<Figure size 360x288 with 1 Axes>"
            ],
            "image/png": "[encoded data removed]"
          },
          "metadata": {
            "needs_background": "light"
          }
        }
      ],
      "source": [
        "# Построим графики количества минут разговоров, отправленных сообщений, объема интернет-траффика на одного абонентов каждого тарифного плана по месяцам\n",
        "for i in ['minute_per_month', 'messages_per_month', 'gb_per_month', 'income']:\n",
        "  plt.figure(figsize = (5,4))\n",
        "  plt.bar(smart_abonent_month_mean['month'] - 0.2, smart_abonent_month_mean[i], label = 'smart', color = 'y', alpha = 0.5, width = 0.4)\n",
        "  plt.bar(ultra_abonent_month_mean['month'] + 0.2, ultra_abonent_month_mean[i], label = 'ultra', color = 'g', alpha = 0.5, width = 0.4)\n",
        "\n",
        "  if i == 'minute_per_month':\n",
        "    porog = 500\n",
        "  elif i == 'messages_per_month':\n",
        "    porog = 50\n",
        "  elif i == 'gb_per_month':\n",
        "    porog = 15\n",
        "  else:\n",
        "    porog = 550\n",
        "\n",
        "  plt.axhline(y = porog, label = 'Пороговое значение для тарифа smart', color = 'g')\n",
        "\n",
        "  plt.xlabel('month')\n",
        "  plt.ylabel(i)\n",
        "  plt.grid()\n",
        "  plt.legend(loc = 'best')\n",
        "  plt.show()"
      ]
    },
    {
      "cell_type": "markdown",
      "id": "b8970a4a",
      "metadata": {
        "id": "b8970a4a"
      },
      "source": [
        "Видим другую картину. Во все месяцы, кроме февраля, число израсходованных минут разговоров, отправленных сообщений и израсходованного интернет-траффика у абонентов тарифного плана \"smart\" в среднем было меньше, чем у абонентов тарифа \"ultra\". И выручка, полученная со всех абонентов в месяц в среднем была выше на тарифном плане \"ultra\" ежемесячно.\n",
        "\n",
        "Из графиков видим, что абоненты тарифа smart не полностью используют пакет минут и сообщений тарифного плана. С мая (5 месяца) эти абоненты расходуют интернет-траффика немного больше, чем предусмотрено абонентной платой. То есть основную часть выручки формирует оплата интернет-траффика сверх тарифного плана.\n",
        "\n",
        "Для пользователей тарифа ultra пороговые значения, предусмотренные тарифным планом, тоже не расходуются в полном объеме. \n",
        "\n",
        "Можем сказать, что в среднем в месяц каждый абонент тарифа ultra в месяц совершает больше звонков, отправляет больше сообщений, использует больший объем интернет-траффика, чем абонент тарифного плана smart. Но это всё в рамках общего пакета ежемесячной платы."
      ]
    },
    {
      "cell_type": "markdown",
      "id": "b3a9950e",
      "metadata": {
        "id": "b3a9950e"
      },
      "source": [
        "Оценим средние показатели. Вычислим основные числовые характеристики случайных величин числа израсходованных минут разговоров, отправленных сообщений и израсходованного интернет-траффика за месяц всеми абонентами."
      ]
    },
    {
      "cell_type": "code",
      "execution_count": null,
      "id": "ff219b98",
      "metadata": {
        "id": "ff219b98",
        "colab": {
          "base_uri": "https://localhost:8080/",
          "height": 300
        },
        "outputId": "41f2924e-8d13-431c-8105-62f547abdb19"
      },
      "outputs": [
        {
          "output_type": "execute_result",
          "data": {
            "text/plain": [
              "           month  call_per_month  minute_per_month  messages_per_month  \\\n",
              "count  12.000000       12.000000         12.000000           12.000000   \n",
              "mean    6.500000       53.941679        386.642510           31.404336   \n",
              "std     3.605551       10.447937         72.099460            5.094809   \n",
              "min     1.000000       27.676471        203.852941           18.235294   \n",
              "25%     3.750000       53.571631        382.304759           31.578125   \n",
              "50%     6.500000       56.137574        401.996739           33.638380   \n",
              "75%     9.250000       59.650262        426.754925           33.767242   \n",
              "max    12.000000       66.289941        477.144970           35.887574   \n",
              "\n",
              "       gb_per_month       income  \n",
              "count     12.000000    12.000000  \n",
              "mean      15.194241  1179.670841  \n",
              "std        2.621416   238.650345  \n",
              "min        8.735294   721.323529  \n",
              "25%       14.831575  1114.239854  \n",
              "50%       15.929510  1213.984271  \n",
              "75%       16.772366  1326.208676  \n",
              "max       18.147929  1575.488166  "
            ],
            "text/html": [
              "\n",
              "  <div id=\"df-701d9673-7b03-4f40-8560-0fa0a6fc894a\">\n",
              "    <div class=\"colab-df-container\">\n",
              "      <div>\n",
              "<style scoped>\n",
              "    .dataframe tbody tr th:only-of-type {\n",
              "        vertical-align: middle;\n",
              "    }\n",
              "\n",
              "    .dataframe tbody tr th {\n",
              "        vertical-align: top;\n",
              "    }\n",
              "\n",
              "    .dataframe thead th {\n",
              "        text-align: right;\n",
              "    }\n",
              "</style>\n",
              "<table border=\"1\" class=\"dataframe\">\n",
              "  <thead>\n",
              "    <tr style=\"text-align: right;\">\n",
              "      <th></th>\n",
              "      <th>month</th>\n",
              "      <th>call_per_month</th>\n",
              "      <th>minute_per_month</th>\n",
              "      <th>messages_per_month</th>\n",
              "      <th>gb_per_month</th>\n",
              "      <th>income</th>\n",
              "    </tr>\n",
              "  </thead>\n",
              "  <tbody>\n",
              "    <tr>\n",
              "      <th>count</th>\n",
              "      <td>12.000000</td>\n",
              "      <td>12.000000</td>\n",
              "      <td>12.000000</td>\n",
              "      <td>12.000000</td>\n",
              "      <td>12.000000</td>\n",
              "      <td>12.000000</td>\n",
              "    </tr>\n",
              "    <tr>\n",
              "      <th>mean</th>\n",
              "      <td>6.500000</td>\n",
              "      <td>53.941679</td>\n",
              "      <td>386.642510</td>\n",
              "      <td>31.404336</td>\n",
              "      <td>15.194241</td>\n",
              "      <td>1179.670841</td>\n",
              "    </tr>\n",
              "    <tr>\n",
              "      <th>std</th>\n",
              "      <td>3.605551</td>\n",
              "      <td>10.447937</td>\n",
              "      <td>72.099460</td>\n",
              "      <td>5.094809</td>\n",
              "      <td>2.621416</td>\n",
              "      <td>238.650345</td>\n",
              "    </tr>\n",
              "    <tr>\n",
              "      <th>min</th>\n",
              "      <td>1.000000</td>\n",
              "      <td>27.676471</td>\n",
              "      <td>203.852941</td>\n",
              "      <td>18.235294</td>\n",
              "      <td>8.735294</td>\n",
              "      <td>721.323529</td>\n",
              "    </tr>\n",
              "    <tr>\n",
              "      <th>25%</th>\n",
              "      <td>3.750000</td>\n",
              "      <td>53.571631</td>\n",
              "      <td>382.304759</td>\n",
              "      <td>31.578125</td>\n",
              "      <td>14.831575</td>\n",
              "      <td>1114.239854</td>\n",
              "    </tr>\n",
              "    <tr>\n",
              "      <th>50%</th>\n",
              "      <td>6.500000</td>\n",
              "      <td>56.137574</td>\n",
              "      <td>401.996739</td>\n",
              "      <td>33.638380</td>\n",
              "      <td>15.929510</td>\n",
              "      <td>1213.984271</td>\n",
              "    </tr>\n",
              "    <tr>\n",
              "      <th>75%</th>\n",
              "      <td>9.250000</td>\n",
              "      <td>59.650262</td>\n",
              "      <td>426.754925</td>\n",
              "      <td>33.767242</td>\n",
              "      <td>16.772366</td>\n",
              "      <td>1326.208676</td>\n",
              "    </tr>\n",
              "    <tr>\n",
              "      <th>max</th>\n",
              "      <td>12.000000</td>\n",
              "      <td>66.289941</td>\n",
              "      <td>477.144970</td>\n",
              "      <td>35.887574</td>\n",
              "      <td>18.147929</td>\n",
              "      <td>1575.488166</td>\n",
              "    </tr>\n",
              "  </tbody>\n",
              "</table>\n",
              "</div>\n",
              "      <button class=\"colab-df-convert\" onclick=\"convertToInteractive('df-701d9673-7b03-4f40-8560-0fa0a6fc894a')\"\n",
              "              title=\"Convert this dataframe to an interactive table.\"\n",
              "              style=\"display:none;\">\n",
              "        \n",
              "  <svg xmlns=\"http://www.w3.org/2000/svg\" height=\"24px\"viewBox=\"0 0 24 24\"\n",
              "       width=\"24px\">\n",
              "    <path d=\"M0 0h24v24H0V0z\" fill=\"none\"/>\n",
              "    <path d=\"M18.56 5.44l.94 2.06.94-2.06 2.06-.94-2.06-.94-.94-2.06-.94 2.06-2.06.94zm-11 1L8.5 8.5l.94-2.06 2.06-.94-2.06-.94L8.5 2.5l-.94 2.06-2.06.94zm10 10l.94 2.06.94-2.06 2.06-.94-2.06-.94-.94-2.06-.94 2.06-2.06.94z\"/><path d=\"M17.41 7.96l-1.37-1.37c-.4-.4-.92-.59-1.43-.59-.52 0-1.04.2-1.43.59L10.3 9.45l-7.72 7.72c-.78.78-.78 2.05 0 2.83L4 21.41c.39.39.9.59 1.41.59.51 0 1.02-.2 1.41-.59l7.78-7.78 2.81-2.81c.8-.78.8-2.07 0-2.86zM5.41 20L4 18.59l7.72-7.72 1.47 1.35L5.41 20z\"/>\n",
              "  </svg>\n",
              "      </button>\n",
              "      \n",
              "  <style>\n",
              "    .colab-df-container {\n",
              "      display:flex;\n",
              "      flex-wrap:wrap;\n",
              "      gap: 12px;\n",
              "    }\n",
              "\n",
              "    .colab-df-convert {\n",
              "      background-color: #E8F0FE;\n",
              "      border: none;\n",
              "      border-radius: 50%;\n",
              "      cursor: pointer;\n",
              "      display: none;\n",
              "      fill: #1967D2;\n",
              "      height: 32px;\n",
              "      padding: 0 0 0 0;\n",
              "      width: 32px;\n",
              "    }\n",
              "\n",
              "    .colab-df-convert:hover {\n",
              "      background-color: #E2EBFA;\n",
              "      box-shadow: 0px 1px 2px rgba(60, 64, 67, 0.3), 0px 1px 3px 1px rgba(60, 64, 67, 0.15);\n",
              "      fill: #174EA6;\n",
              "    }\n",
              "\n",
              "    [theme=dark] .colab-df-convert {\n",
              "      background-color: #3B4455;\n",
              "      fill: #D2E3FC;\n",
              "    }\n",
              "\n",
              "    [theme=dark] .colab-df-convert:hover {\n",
              "      background-color: #434B5C;\n",
              "      box-shadow: 0px 1px 3px 1px rgba(0, 0, 0, 0.15);\n",
              "      filter: drop-shadow(0px 1px 2px rgba(0, 0, 0, 0.3));\n",
              "      fill: #FFFFFF;\n",
              "    }\n",
              "  </style>\n",
              "\n",
              "      <script>\n",
              "        const buttonEl =\n",
              "          document.querySelector('#df-701d9673-7b03-4f40-8560-0fa0a6fc894a button.colab-df-convert');\n",
              "        buttonEl.style.display =\n",
              "          google.colab.kernel.accessAllowed ? 'block' : 'none';\n",
              "\n",
              "        async function convertToInteractive(key) {\n",
              "          const element = document.querySelector('#df-701d9673-7b03-4f40-8560-0fa0a6fc894a');\n",
              "          const dataTable =\n",
              "            await google.colab.kernel.invokeFunction('convertToInteractive',\n",
              "                                                     [key], {});\n",
              "          if (!dataTable) return;\n",
              "\n",
              "          const docLinkHtml = 'Like what you see? Visit the ' +\n",
              "            '<a target=\"_blank\" href=https://colab.research.google.com/notebooks/data_table.ipynb>data table notebook</a>'\n",
              "            + ' to learn more about interactive tables.';\n",
              "          element.innerHTML = '';\n",
              "          dataTable['output_type'] = 'display_data';\n",
              "          await google.colab.output.renderOutput(dataTable, element);\n",
              "          const docLink = document.createElement('div');\n",
              "          docLink.innerHTML = docLinkHtml;\n",
              "          element.appendChild(docLink);\n",
              "        }\n",
              "      </script>\n",
              "    </div>\n",
              "  </div>\n",
              "  "
            ]
          },
          "metadata": {},
          "execution_count": 168
        }
      ],
      "source": [
        "# для абонентов тарифа smart. По всем пользователям\n",
        "smart_abonent_month_mean.describe()"
      ]
    },
    {
      "cell_type": "code",
      "execution_count": null,
      "id": "a8c2c2c9",
      "metadata": {
        "id": "a8c2c2c9",
        "colab": {
          "base_uri": "https://localhost:8080/",
          "height": 300
        },
        "outputId": "335878af-fa6d-4150-ced8-b6c4513c5bd1"
      },
      "outputs": [
        {
          "output_type": "execute_result",
          "data": {
            "text/plain": [
              "           month  call_per_month  minute_per_month  messages_per_month  \\\n",
              "count  12.000000       12.000000         12.000000           12.000000   \n",
              "mean    6.500000       69.073584        495.581450           43.678905   \n",
              "std     3.605551       10.731846         76.976806           12.267012   \n",
              "min     1.000000       41.541667        297.125000           21.958333   \n",
              "25%     3.750000       66.076299        474.281331           33.407658   \n",
              "50%     6.500000       71.898591        510.552030           45.082721   \n",
              "75%     9.250000       75.284607        542.483250           53.162979   \n",
              "max    12.000000       82.721429        588.571429           60.178571   \n",
              "\n",
              "       gb_per_month       income  \n",
              "count     12.000000    12.000000  \n",
              "mean      18.245996  2046.820446  \n",
              "std        2.905004    56.692719  \n",
              "min       12.000000  1950.000000  \n",
              "25%       17.477396  2011.603194  \n",
              "50%       19.308306  2049.493603  \n",
              "75%       19.870738  2085.424222  \n",
              "max       21.585714  2137.500000  "
            ],
            "text/html": [
              "\n",
              "  <div id=\"df-e812d74f-066a-46a2-91b0-021919d3f005\">\n",
              "    <div class=\"colab-df-container\">\n",
              "      <div>\n",
              "<style scoped>\n",
              "    .dataframe tbody tr th:only-of-type {\n",
              "        vertical-align: middle;\n",
              "    }\n",
              "\n",
              "    .dataframe tbody tr th {\n",
              "        vertical-align: top;\n",
              "    }\n",
              "\n",
              "    .dataframe thead th {\n",
              "        text-align: right;\n",
              "    }\n",
              "</style>\n",
              "<table border=\"1\" class=\"dataframe\">\n",
              "  <thead>\n",
              "    <tr style=\"text-align: right;\">\n",
              "      <th></th>\n",
              "      <th>month</th>\n",
              "      <th>call_per_month</th>\n",
              "      <th>minute_per_month</th>\n",
              "      <th>messages_per_month</th>\n",
              "      <th>gb_per_month</th>\n",
              "      <th>income</th>\n",
              "    </tr>\n",
              "  </thead>\n",
              "  <tbody>\n",
              "    <tr>\n",
              "      <th>count</th>\n",
              "      <td>12.000000</td>\n",
              "      <td>12.000000</td>\n",
              "      <td>12.000000</td>\n",
              "      <td>12.000000</td>\n",
              "      <td>12.000000</td>\n",
              "      <td>12.000000</td>\n",
              "    </tr>\n",
              "    <tr>\n",
              "      <th>mean</th>\n",
              "      <td>6.500000</td>\n",
              "      <td>69.073584</td>\n",
              "      <td>495.581450</td>\n",
              "      <td>43.678905</td>\n",
              "      <td>18.245996</td>\n",
              "      <td>2046.820446</td>\n",
              "    </tr>\n",
              "    <tr>\n",
              "      <th>std</th>\n",
              "      <td>3.605551</td>\n",
              "      <td>10.731846</td>\n",
              "      <td>76.976806</td>\n",
              "      <td>12.267012</td>\n",
              "      <td>2.905004</td>\n",
              "      <td>56.692719</td>\n",
              "    </tr>\n",
              "    <tr>\n",
              "      <th>min</th>\n",
              "      <td>1.000000</td>\n",
              "      <td>41.541667</td>\n",
              "      <td>297.125000</td>\n",
              "      <td>21.958333</td>\n",
              "      <td>12.000000</td>\n",
              "      <td>1950.000000</td>\n",
              "    </tr>\n",
              "    <tr>\n",
              "      <th>25%</th>\n",
              "      <td>3.750000</td>\n",
              "      <td>66.076299</td>\n",
              "      <td>474.281331</td>\n",
              "      <td>33.407658</td>\n",
              "      <td>17.477396</td>\n",
              "      <td>2011.603194</td>\n",
              "    </tr>\n",
              "    <tr>\n",
              "      <th>50%</th>\n",
              "      <td>6.500000</td>\n",
              "      <td>71.898591</td>\n",
              "      <td>510.552030</td>\n",
              "      <td>45.082721</td>\n",
              "      <td>19.308306</td>\n",
              "      <td>2049.493603</td>\n",
              "    </tr>\n",
              "    <tr>\n",
              "      <th>75%</th>\n",
              "      <td>9.250000</td>\n",
              "      <td>75.284607</td>\n",
              "      <td>542.483250</td>\n",
              "      <td>53.162979</td>\n",
              "      <td>19.870738</td>\n",
              "      <td>2085.424222</td>\n",
              "    </tr>\n",
              "    <tr>\n",
              "      <th>max</th>\n",
              "      <td>12.000000</td>\n",
              "      <td>82.721429</td>\n",
              "      <td>588.571429</td>\n",
              "      <td>60.178571</td>\n",
              "      <td>21.585714</td>\n",
              "      <td>2137.500000</td>\n",
              "    </tr>\n",
              "  </tbody>\n",
              "</table>\n",
              "</div>\n",
              "      <button class=\"colab-df-convert\" onclick=\"convertToInteractive('df-e812d74f-066a-46a2-91b0-021919d3f005')\"\n",
              "              title=\"Convert this dataframe to an interactive table.\"\n",
              "              style=\"display:none;\">\n",
              "        \n",
              "  <svg xmlns=\"http://www.w3.org/2000/svg\" height=\"24px\"viewBox=\"0 0 24 24\"\n",
              "       width=\"24px\">\n",
              "    <path d=\"M0 0h24v24H0V0z\" fill=\"none\"/>\n",
              "    <path d=\"M18.56 5.44l.94 2.06.94-2.06 2.06-.94-2.06-.94-.94-2.06-.94 2.06-2.06.94zm-11 1L8.5 8.5l.94-2.06 2.06-.94-2.06-.94L8.5 2.5l-.94 2.06-2.06.94zm10 10l.94 2.06.94-2.06 2.06-.94-2.06-.94-.94-2.06-.94 2.06-2.06.94z\"/><path d=\"M17.41 7.96l-1.37-1.37c-.4-.4-.92-.59-1.43-.59-.52 0-1.04.2-1.43.59L10.3 9.45l-7.72 7.72c-.78.78-.78 2.05 0 2.83L4 21.41c.39.39.9.59 1.41.59.51 0 1.02-.2 1.41-.59l7.78-7.78 2.81-2.81c.8-.78.8-2.07 0-2.86zM5.41 20L4 18.59l7.72-7.72 1.47 1.35L5.41 20z\"/>\n",
              "  </svg>\n",
              "      </button>\n",
              "      \n",
              "  <style>\n",
              "    .colab-df-container {\n",
              "      display:flex;\n",
              "      flex-wrap:wrap;\n",
              "      gap: 12px;\n",
              "    }\n",
              "\n",
              "    .colab-df-convert {\n",
              "      background-color: #E8F0FE;\n",
              "      border: none;\n",
              "      border-radius: 50%;\n",
              "      cursor: pointer;\n",
              "      display: none;\n",
              "      fill: #1967D2;\n",
              "      height: 32px;\n",
              "      padding: 0 0 0 0;\n",
              "      width: 32px;\n",
              "    }\n",
              "\n",
              "    .colab-df-convert:hover {\n",
              "      background-color: #E2EBFA;\n",
              "      box-shadow: 0px 1px 2px rgba(60, 64, 67, 0.3), 0px 1px 3px 1px rgba(60, 64, 67, 0.15);\n",
              "      fill: #174EA6;\n",
              "    }\n",
              "\n",
              "    [theme=dark] .colab-df-convert {\n",
              "      background-color: #3B4455;\n",
              "      fill: #D2E3FC;\n",
              "    }\n",
              "\n",
              "    [theme=dark] .colab-df-convert:hover {\n",
              "      background-color: #434B5C;\n",
              "      box-shadow: 0px 1px 3px 1px rgba(0, 0, 0, 0.15);\n",
              "      filter: drop-shadow(0px 1px 2px rgba(0, 0, 0, 0.3));\n",
              "      fill: #FFFFFF;\n",
              "    }\n",
              "  </style>\n",
              "\n",
              "      <script>\n",
              "        const buttonEl =\n",
              "          document.querySelector('#df-e812d74f-066a-46a2-91b0-021919d3f005 button.colab-df-convert');\n",
              "        buttonEl.style.display =\n",
              "          google.colab.kernel.accessAllowed ? 'block' : 'none';\n",
              "\n",
              "        async function convertToInteractive(key) {\n",
              "          const element = document.querySelector('#df-e812d74f-066a-46a2-91b0-021919d3f005');\n",
              "          const dataTable =\n",
              "            await google.colab.kernel.invokeFunction('convertToInteractive',\n",
              "                                                     [key], {});\n",
              "          if (!dataTable) return;\n",
              "\n",
              "          const docLinkHtml = 'Like what you see? Visit the ' +\n",
              "            '<a target=\"_blank\" href=https://colab.research.google.com/notebooks/data_table.ipynb>data table notebook</a>'\n",
              "            + ' to learn more about interactive tables.';\n",
              "          element.innerHTML = '';\n",
              "          dataTable['output_type'] = 'display_data';\n",
              "          await google.colab.output.renderOutput(dataTable, element);\n",
              "          const docLink = document.createElement('div');\n",
              "          docLink.innerHTML = docLinkHtml;\n",
              "          element.appendChild(docLink);\n",
              "        }\n",
              "      </script>\n",
              "    </div>\n",
              "  </div>\n",
              "  "
            ]
          },
          "metadata": {},
          "execution_count": 169
        }
      ],
      "source": [
        "# для абонентов тарифа ultra. По всем пользователям\n",
        "ultra_abonent_month_mean.describe()"
      ]
    },
    {
      "cell_type": "markdown",
      "id": "694716d4",
      "metadata": {
        "id": "694716d4"
      },
      "source": [
        "По описательной статистике можем сделать вывод о том, что в среднем за месяц абоненты тарифа smart расходуют примерно в два раза больше минут разговоров, отправляют сообщения и расходуют интернет-траффик. Среднемесячная выручка от этих абонентов примерно в 1,5 раза выше выручки, полученной с абонентов тарифа ultra.\n",
        "\n",
        "Сравнение максимальных значений с 75% квантилью и минимальных значений с 25% квантилью показывает, что данные не содержат большого числа выбросов, они достаточно редки.\n",
        "\n",
        "Медианные и средние значения принимают достаточно близкие значения, т.е. распределения почти симметричны."
      ]
    },
    {
      "cell_type": "markdown",
      "id": "12ab9ddb",
      "metadata": {
        "id": "12ab9ddb"
      },
      "source": [
        "Оценим средние показатели. Вычислим основные числовые характеристики случайных величин числа израсходованных минут разговоров, отправленных сообщений и израсходованного интернет-траффика за месяц на одного абонента."
      ]
    },
    {
      "cell_type": "code",
      "execution_count": null,
      "id": "b2ffaf3b",
      "metadata": {
        "id": "b2ffaf3b"
      },
      "outputs": [],
      "source": [
        "# для абонентов тарифа smart. На одного абонента\n"
      ]
    },
    {
      "cell_type": "code",
      "execution_count": null,
      "id": "77edfd56",
      "metadata": {
        "id": "77edfd56"
      },
      "outputs": [],
      "source": [
        "# для абонентов тарифа ultra. На одного абонента\n"
      ]
    },
    {
      "cell_type": "markdown",
      "id": "5922dfc7",
      "metadata": {
        "id": "5922dfc7"
      },
      "source": [
        "По описательной статистике можем сделать вывод о том, что в среднем за месяц абоненты тарифа smart расходуют примерно в два раза больше минут разговоров, отправляют сообщения и расходуют интернет-траффик. Среднемесячная выручка от этих абонентов примерно в 2 раза выше выручки, полученной с абонентов тарифа ultra.\n",
        "\n",
        "Сравнение максимальных значений с 75% квантилью и минимальных значений с 25% квантилью показывает, что данные не содержат большого числа выбросов, они достаточно редки.\n",
        "\n",
        "Медианные и средние значения принимают достаточно близкие значения, т.е. распределения почти симметричны."
      ]
    },
    {
      "cell_type": "markdown",
      "id": "e7a35891",
      "metadata": {
        "id": "e7a35891"
      },
      "source": [
        "Изучим распределения числа использованных минут разговоров, числа отправленных сообщений, объема интернет-траффика, которые расходуют абоненты каждого тарифа.\n",
        "\n"
      ]
    },
    {
      "cell_type": "code",
      "execution_count": null,
      "id": "5c2c7986",
      "metadata": {
        "id": "5c2c7986",
        "colab": {
          "base_uri": "https://localhost:8080/",
          "height": 1000
        },
        "outputId": "925900b7-474a-4af2-94ec-3b7f99b38008"
      },
      "outputs": [
        {
          "output_type": "display_data",
          "data": {
            "text/plain": [
              "<Figure size 648x432 with 1 Axes>"
            ],
            "image/png": "[encoded data removed]"
          },
          "metadata": {
            "needs_background": "light"
          }
        },
        {
          "output_type": "display_data",
          "data": {
            "text/plain": [
              "<Figure size 648x432 with 1 Axes>"
            ],
            "image/png": "[encoded data removed]"
          },
          "metadata": {
            "needs_background": "light"
          }
        },
        {
          "output_type": "display_data",
          "data": {
            "text/plain": [
              "<Figure size 648x432 with 1 Axes>"
            ],
            "image/png": "[encoded data removed]"
          },
          "metadata": {
            "needs_background": "light"
          }
        },
        {
          "output_type": "display_data",
          "data": {
            "text/plain": [
              "<Figure size 648x432 with 1 Axes>"
            ],
            "image/png": "[encoded data removed]"
          },
          "metadata": {
            "needs_background": "light"
          }
        }
      ],
      "source": [
        "# Построим графики количества минут разговоров, отправленных сообщений, объема интернет-траффика на одного абонентов каждого тарифного плана по месяцам\n",
        "for i in ['minute_per_month', 'messages_per_month', 'gb_per_month', 'income']:\n",
        "  plt.figure(figsize = (9,6))\n",
        "  plt.hist(smart_abonent[i] - 0.2, label = 'smart', color = 'y', alpha = 0.5)\n",
        "  plt.hist(ultra_abonent[i] + 0.2, label = 'ultra', color = 'g', alpha = 0.5)\n",
        "\n",
        "  plt.xlabel(i)\n",
        "  plt.ylabel('Frequency')\n",
        "  plt.grid()\n",
        "  plt.legend(loc = 'best')\n",
        "  plt.show()"
      ]
    },
    {
      "cell_type": "markdown",
      "id": "c04b8226",
      "metadata": {
        "id": "c04b8226"
      },
      "source": [
        "Распределение количества потраченных минут на разговоры для тарифа smart и ultra похожи на нормальное распределение. Для тарифа smart это распределение более симметрично. Мат.ожидание и медиана имеют примерно одинаковые значения. Основная часть абонентов расходует от 200 до 500 минут разговоров. Для тарифа ultra толстый хвост слева, асимметрия влево, т.е. основная часть абонентов расходует от 0 до 750 минут разговоров."
      ]
    },
    {
      "cell_type": "markdown",
      "id": "3b347577",
      "metadata": {
        "id": "3b347577"
      },
      "source": [
        "Распределение количества отправленных сообщений для каждого тарифа похоже на экспоненциальное распределение. Большая часть абонентов отправляет небольшое количество сообщений. Абоненты тарифа smart отправляют в среднем около 30 сообщений, абоненты тарифа ultra - в среднем около 40 сообщений."
      ]
    },
    {
      "cell_type": "markdown",
      "id": "39205a4d",
      "metadata": {
        "id": "39205a4d"
      },
      "source": [
        "Распределение объема израсходованного интернет-траффика похоже на нормальное, симметричное для абонентов каждого из тафных планов. Центр для абонентов smart примерно на 15 Гб, центр распределения для абонентов ultra - примерно на 19 Гб."
      ]
    },
    {
      "cell_type": "markdown",
      "id": "e005f77d",
      "metadata": {
        "id": "e005f77d"
      },
      "source": [
        "Гистограммы выручки имеют одинаковую форму, но смещены относительно друг друга с учетом абонентской платы. Большинство абонентов тарифа smart приносят выручку от 550 до 1200 рублей, большинство абонентов тарифа ultra приносят выручку от 1950 до 2200 рублей. Тонкие длинные хвосты справа."
      ]
    },
    {
      "cell_type": "code",
      "source": [],
      "metadata": {
        "id": "zEXcnmbc4uFb"
      },
      "id": "zEXcnmbc4uFb",
      "execution_count": null,
      "outputs": []
    },
    {
      "cell_type": "markdown",
      "source": [
        "Вычислите коэффициенты корреляции показателей для абонентов тарифного плана smart и ultra. От каких показателей в большей степени формируется прибыль компании."
      ],
      "metadata": {
        "id": "8VyIDo5a5ftu"
      },
      "id": "8VyIDo5a5ftu"
    },
    {
      "cell_type": "code",
      "source": [
        "corr_matrix_smart = smart_abonent.corr()\n",
        "sns.heatmap(corr_matrix_smart, annot = True, cmap = 'coolwarm')\n",
        "plt.show()\n"
      ],
      "metadata": {
        "id": "H32Bhp0X4uL-",
        "colab": {
          "base_uri": "https://localhost:8080/",
          "height": 368
        },
        "outputId": "310d0fd7-c05d-48c6-a528-fe27870c5c51"
      },
      "id": "H32Bhp0X4uL-",
      "execution_count": null,
      "outputs": [
        {
          "output_type": "display_data",
          "data": {
            "text/plain": [
              "<Figure size 432x288 with 2 Axes>"
            ],
            "image/png": "[encoded data removed]"
          },
          "metadata": {
            "needs_background": "light"
          }
        }
      ]
    },
    {
      "cell_type": "code",
      "source": [
        "corr_matrix_ultra = ultra_abonent.corr()\n",
        "sns.heatmap(corr_matrix_ultra, annot = True, cmap = 'coolwarm')\n",
        "plt.show()\n"
      ],
      "metadata": {
        "id": "6oqx8Ku452pu",
        "colab": {
          "base_uri": "https://localhost:8080/",
          "height": 368
        },
        "outputId": "f8640795-9e12-4fcf-ebc3-ad5f1db73832"
      },
      "id": "6oqx8Ku452pu",
      "execution_count": null,
      "outputs": [
        {
          "output_type": "display_data",
          "data": {
            "text/plain": [
              "<Figure size 432x288 with 2 Axes>"
            ],
            "image/png": "[encoded data removed]"
          },
          "metadata": {
            "needs_background": "light"
          }
        }
      ]
    },
    {
      "cell_type": "code",
      "execution_count": null,
      "id": "a906fc92",
      "metadata": {
        "id": "a906fc92"
      },
      "outputs": [],
      "source": [
        "# Вычислим числовые характеристики количества потраченных минут на разговоры, количества отправленных сообщений, объема использованного интернет-траффика для абонентов тарифов smart, приходящихся на одного абонента\n"
      ]
    },
    {
      "cell_type": "code",
      "execution_count": null,
      "id": "cf1f15d2",
      "metadata": {
        "id": "cf1f15d2"
      },
      "outputs": [],
      "source": [
        "# Вычислим числовые характеристики количества потраченных минут на разговоры, количества отправленных сообщений, объема использованного интернет-траффика для абонентов тарифов smart, приходящихся на одного абонента\n"
      ]
    },
    {
      "cell_type": "markdown",
      "id": "362dee7e",
      "metadata": {
        "id": "362dee7e"
      },
      "source": [
        "Величина среднеквадратического отклонения характеризует степень разброса данных относительно центра. Согласно правилу трёх сигм в интервале шириной 6 сигм с центром в точке мат. ожидания лежит 99,73% всех значений. Сравним случайные величины величины по характеристике среднеквадратического отклонения.\n",
        "\n",
        "Для количества потраченных минут на разговоры для тарифов smart и ultra ср.кв.отклонения равны 72,1 и 77 минут соответственно. Это означает, что 95% абонентов тарифного плана smart в месяц разговаривают примерно от 386 - 2*72 до 386 + 2*72, т.е. тратят на разговоры от 242 до 530 минут. Небольшая часть абонентов превышает тарифную планку, а, значит, выручка по этой части будет небольшая. Для 95% абонентов тарифного плана ultra интервал использования минут разговоров в месяц составляет примерно от 341 до 649 минут. Видим, что абоненты тарифного плана ultra тратят на разговоря больше минут, но не выходят за пределы лимита по этому тарифу.\n",
        "\n",
        "Для количества отправленных сообщений для тарифов smart и ultra ср.кв.отклонения равны 5 и 12 сообщений соответственно. Это означает, что 95% абонентов тарифного плана smart в месяц отправляют примерно от 31 - 2*5 до 31 + 2*5, т.е. отправляют от 21 до 41 сообщения в месяц. За пределы лимита по тарифу не выходят, дополнительная выручка по этой части будет практически отсутствовать. Для 95% абонентов тарифного плана ultra интервал использования минут разговоров в месяц шире и составляет примерно от 44- 24 до 44 + 24 сообщений, т.е. от 20 до 68. Разброс примерно в 2 раза больше, чем для абонентов тарифного плана smart. Видим, что абоненты тарифного плана ultra по числу отправленных сообщений не выходят за пределы лимита по этому тарифу.\n",
        "\n",
        "Для объема использованного интернет-траффика для тарифов smart и ultra ср.кв.отклонения равны 2666 и 2969 Мб, но при округлении оператором получаем одинаковые 3 Гб. Однако средние значения разные, поэтому абоненты тарифа smart примерно раходуют от 9 до 21 Гб и примерно 50% этих абонентов превышают лимит. Поэтому оплачивают дополнительный объем интернет-траффика и формируют дополнительную выручку. Для абонентов тарифа ultra объем интернет-траффика составляет примерно от 18 - 6 до 18 + 6 Гб, т.е. от 12 до 24 Гб, что немного больше, чем для абонентов smart. Однако никто из абонентов не выходит за пределы тарифного плана и выручка для них формируется исключительно за счет абонентской платы."
      ]
    },
    {
      "cell_type": "markdown",
      "id": "a68eff91",
      "metadata": {
        "id": "a68eff91"
      },
      "source": [
        "# Шаг 4. Проверьте гипотезы"
      ]
    },
    {
      "cell_type": "markdown",
      "id": "0f18f4ed",
      "metadata": {
        "id": "0f18f4ed"
      },
      "source": [
        "•\tсредняя выручка пользователей тарифов «Ультра» и «Смарт» различаются;\n",
        "\n",
        "•\tсредняя выручка пользователи из Москвы отличается от выручки пользователей из других регионов.\n",
        "\n",
        "Пороговое значение alpha задайте самостоятельно.\n",
        "\n",
        "Поясните:\n",
        "\n",
        "•\tкак вы формулировали нулевую и альтернативную гипотезы;\n",
        "\n",
        "•\tкакой критерий использовали для проверки гипотез и почему."
      ]
    },
    {
      "cell_type": "markdown",
      "id": "2b3de3a1",
      "metadata": {
        "id": "2b3de3a1"
      },
      "source": [
        "###  1. Средняя выручка пользователей тарифов «Ультра» и «Смарт» различаются;"
      ]
    },
    {
      "cell_type": "markdown",
      "id": "eaa486c7",
      "metadata": {
        "id": "eaa486c7"
      },
      "source": [
        "Проверьте гипотезу о равенстве средних, используя st.ttest_ind. \n",
        "\n",
        "Пусть mean_income_smart, mean_income_ultra - математические ожидания выручки абонентов тарифа smart и ultra соответственно.\n",
        "\n",
        "Основная гипотеза H0: mean_income_smart = mean_income_ultra\n",
        "\n",
        "Альтернативная гипотеза: H1: mean_income_smart <> mean_income_ultra (знак <> следует понимать как не равно). Будем строить двустороннюю критическую область.\n",
        "\n",
        "Выберем уровень значимости alpha = 0.05 (ошибка первого рода, т.е. вероятность отклонить нулевую гипотезу, если она верна). \n",
        "\n",
        "Для проверки гипотезы о равенстве средних применяют t-статистику Стьюдента.\n",
        "\n"
      ]
    },
    {
      "cell_type": "markdown",
      "source": [
        "Для вычисления наблюдаемого значения критерия вычислите средние и дисперсии выручки абонентов тарифа smart и ultra.\n"
      ],
      "metadata": {
        "id": "JZw_0Sz3vXdK"
      },
      "id": "JZw_0Sz3vXdK"
    },
    {
      "cell_type": "code",
      "execution_count": null,
      "id": "ec6c8361",
      "metadata": {
        "id": "ec6c8361",
        "colab": {
          "base_uri": "https://localhost:8080/"
        },
        "outputId": "2083f5f4-5eb4-4212-86af-8217b49bc4a8"
      },
      "outputs": [
        {
          "output_type": "execute_result",
          "data": {
            "text/plain": [
              "array([1150,  550,  550, ..., 1150,  950,  550])"
            ]
          },
          "metadata": {},
          "execution_count": 177
        }
      ],
      "source": [
        "# Выделим массивы, содержащие выручку от абонентов разных тарифных планов\n",
        "income_smart = smart_abonent['income'].values\n",
        "income_ultra = ultra_abonent['income'].values\n",
        "\n",
        "income_smart"
      ]
    },
    {
      "cell_type": "code",
      "execution_count": null,
      "id": "bd2ffc67",
      "metadata": {
        "id": "bd2ffc67",
        "colab": {
          "base_uri": "https://localhost:8080/"
        },
        "outputId": "687f4b36-2c8e-41c1-a1ab-c2d80a545980"
      },
      "outputs": [
        {
          "output_type": "stream",
          "name": "stdout",
          "text": [
            "669430.4361979931\n",
            "141244.31956107615\n"
          ]
        }
      ],
      "source": [
        "# Оценим дисперсии этих совокупностей для проверки гипотезы\n",
        "print(np.var(income_smart))\n",
        "print(np.var(income_ultra))"
      ]
    },
    {
      "cell_type": "markdown",
      "id": "07fb1bcf",
      "metadata": {
        "id": "07fb1bcf"
      },
      "source": [
        "Дисперсии совокупностей различны, поэтому при использовании st.ttest_ind параметр equal_var = False."
      ]
    },
    {
      "cell_type": "code",
      "execution_count": null,
      "id": "bb9d62cd",
      "metadata": {
        "id": "bb9d62cd",
        "colab": {
          "base_uri": "https://localhost:8080/"
        },
        "outputId": "28e6b145-19fa-402a-cdd8-e54c88c2553b"
      },
      "outputs": [
        {
          "output_type": "stream",
          "name": "stdout",
          "text": [
            "p-значение 1.927011394420941e-250\n"
          ]
        }
      ],
      "source": [
        "alpha = 0.05\n",
        "res = st.ttest_ind(income_smart, income_ultra, equal_var = False)\n",
        "print(f'p-значение {res.pvalue}')"
      ]
    },
    {
      "cell_type": "code",
      "source": [
        "if (res.pvalue < alpha):\n",
        "  print('нет основания принять основную гипотезу, то есть выручки разные')\n",
        "else:\n",
        "  print('нет основания отвергать основную гипотезу, то есть выручки равны')\n"
      ],
      "metadata": {
        "colab": {
          "base_uri": "https://localhost:8080/"
        },
        "id": "hzkmSc_amwoJ",
        "outputId": "d03ded57-3e80-4e52-f97a-ac37725cf0d7"
      },
      "id": "hzkmSc_amwoJ",
      "execution_count": null,
      "outputs": [
        {
          "output_type": "stream",
          "name": "stdout",
          "text": [
            "нет основания принять основную гипотезу, то есть выручки разные\n"
          ]
        }
      ]
    },
    {
      "cell_type": "markdown",
      "id": "877e4c84",
      "metadata": {
        "id": "877e4c84"
      },
      "source": [
        "Основная гипотеза отвергается в пользу альтернативной. Делаем вывод, что средние выручки абонентов тарифа smart и ultra различаются существенно."
      ]
    },
    {
      "cell_type": "markdown",
      "id": "b91179ce",
      "metadata": {
        "id": "b91179ce"
      },
      "source": [
        "### 2. Средняя выручка пользователи из Москвы отличается от выручки пользователей из других регионов "
      ]
    },
    {
      "cell_type": "markdown",
      "id": "fee1907e",
      "metadata": {
        "id": "fee1907e"
      },
      "source": [
        "Проверим гипотезу о равенстве средних. \n",
        "\n",
        "Пусть mean_income_moscow, mean_income_other - математические ожидания выручки абонентов Москвы и других регионов соответственно.\n",
        "\n",
        "Основная гипотеза H0: mean_income_moscow = mean_income_other\n",
        "\n",
        "Альтернативная гипотеза: H1: mean_income_smart <> mean_income_other (знак <> следует понимать как не равно). Будем строить двустороннюю критическую область.\n",
        "\n",
        "Выберем уровень значимости alpha = 0.05 (ошибка первого рода, т.е. вероятность отклонить нулевую гипотезу, если она верна). \n",
        "\n",
        "Для проверки гипотезы о равенстве средних применяют t-статистику Стьюдента.\n",
        "\n",
        "Для вычисления наблюдаемого значения критерия вычислим средние и дисперсии выручки абонентов тарифа smart и ultra.\n",
        "\n",
        "Сформируем массивы с выручкой абонентов Москвы и других регионов. Обратимcя к общей таблице abonents.\n"
      ]
    },
    {
      "cell_type": "code",
      "execution_count": null,
      "id": "949d9669",
      "metadata": {
        "id": "949d9669"
      },
      "outputs": [],
      "source": [
        "income_Moscow = abonents.query('city == \"Москва\"')['income'].values\n",
        "income_other = abonents.query('city != \"Москва\"')['income'].values"
      ]
    },
    {
      "cell_type": "code",
      "execution_count": null,
      "id": "2b2670df",
      "metadata": {
        "id": "2b2670df",
        "colab": {
          "base_uri": "https://localhost:8080/"
        },
        "outputId": "983a94d1-ebeb-4264-bb92-1ab31d8d6312"
      },
      "outputs": [
        {
          "output_type": "stream",
          "name": "stdout",
          "text": [
            "564710.7117467273\n",
            "653818.4925923496\n"
          ]
        }
      ],
      "source": [
        "# Оценим дисперсии этих совокупностей для проверки гипотезы\n",
        "print(np.var(income_Moscow))\n",
        "print(np.var(income_other))"
      ]
    },
    {
      "cell_type": "markdown",
      "id": "fa2d9685",
      "metadata": {
        "id": "fa2d9685"
      },
      "source": [
        "Дисперсии совокупностей различны, поэтому при использовании st.ttest_ind параметр equal_var = False."
      ]
    },
    {
      "cell_type": "code",
      "execution_count": null,
      "id": "dfa4e9d2",
      "metadata": {
        "id": "dfa4e9d2",
        "colab": {
          "base_uri": "https://localhost:8080/"
        },
        "outputId": "cbdeb2c9-0e68-45b0-8d28-79a138ce8689"
      },
      "outputs": [
        {
          "output_type": "stream",
          "name": "stdout",
          "text": [
            "p-значение 0.5400751614511182\n",
            "нет основания отвергать основную гипотезу, то есть выручки равны\n"
          ]
        }
      ],
      "source": [
        "alpha = 0.05\n",
        "res = st.ttest_ind(income_Moscow, income_other, equal_var = True)\n",
        "print(f'p-значение {res.pvalue}')\n",
        "\n",
        "if (res.pvalue < alpha):\n",
        "  print('нет основания принять основную гипотезу, то есть выручки разные')\n",
        "else:\n",
        "  print('нет основания отвергать основную гипотезу, то есть выручки равны')"
      ]
    },
    {
      "cell_type": "markdown",
      "id": "ba77c81a",
      "metadata": {
        "id": "ba77c81a"
      },
      "source": [
        "Таким образом, средняя выручка пользователи из Москвы не отличается от выручки пользователей из других регионов"
      ]
    },
    {
      "cell_type": "markdown",
      "id": "663b9430",
      "metadata": {
        "id": "663b9430"
      },
      "source": [
        "# Шаг 5. Напишите общий вывод"
      ]
    },
    {
      "cell_type": "markdown",
      "id": "e59ed769",
      "metadata": {
        "id": "e59ed769"
      },
      "source": [
        "Сделайте вывод, какой тариф следует развивать компании. Пользователи какого тарифа приносят больше прибыли и за счет каких услуг.\n"
      ]
    },
    {
      "cell_type": "markdown",
      "source": [
        "**Компании следует развить тариф смарт.** \n",
        "\n",
        "Так как выручка по данному тарифу выходит больше, и выяснили, что от региона ее размер не зависит. Также, вероятность, что приобретят тариф 'smart' больше, так как стоимость сильно ниже. Как видно из анализа, люди более готовы переплачивать больше по тарифу смарт, нежели чем в ultra."
      ],
      "metadata": {
        "id": "3WfjKENuDrg7"
      },
      "id": "3WfjKENuDrg7"
    }
  ],
  "metadata": {
    "ExecuteTimeLog": [
      {
        "duration": 32,
        "start_time": "2022-06-08T22:27:38.080Z"
      },
      {
        "duration": 9,
        "start_time": "2022-06-08T22:32:17.386Z"
      },
      {
        "duration": 29,
        "start_time": "2022-06-08T22:35:57.402Z"
      }
    ],
    "kernelspec": {
      "display_name": "Python 3 (ipykernel)",
      "language": "python",
      "name": "python3"
    },
    "language_info": {
      "codemirror_mode": {
        "name": "ipython",
        "version": 3
      },
      "file_extension": ".py",
      "mimetype": "text/x-python",
      "name": "python",
      "nbconvert_exporter": "python",
      "pygments_lexer": "ipython3",
      "version": "3.9.12"
    },
    "toc": {
      "base_numbering": 1,
      "nav_menu": {},
      "number_sections": true,
      "sideBar": true,
      "skip_h1_title": true,
      "title_cell": "Table of Contents",
      "title_sidebar": "Contents",
      "toc_cell": false,
      "toc_position": {},
      "toc_section_display": true,
      "toc_window_display": false
    },
    "colab": {
      "provenance": [],
      "collapsed_sections": [
        "3de7f053"
      ],
      "include_colab_link": true
    }
  },
  "nbformat": 4,
  "nbformat_minor": 5
}